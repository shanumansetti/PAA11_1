{
 "cells": [
  {
   "cell_type": "markdown",
   "metadata": {},
   "source": [
    "# What drives the price of a car?\n",
    "\n",
    "![](images/kurt.jpeg)"
   ]
  },
  {
   "cell_type": "markdown",
   "metadata": {},
   "source": [
    "**OVERVIEW**\n",
    "\n",
    "In this application, you will explore a dataset from kaggle. The original dataset contained information on 3 million used cars. The provided dataset contains information on 426K cars to ensure speed of processing.  Your goal is to understand what factors make a car more or less expensive.  As a result of your analysis, you should provide clear recommendations to your client -- a used car dealership -- as to what consumers value in a used car."
   ]
  },
  {
   "cell_type": "markdown",
   "metadata": {},
   "source": [
    "### CRISP-DM Framework\n",
    "\n",
    "<center>\n",
    "    <img src = images/crisp.png width = 50%/>\n",
    "</center>\n",
    "\n",
    "\n",
    "To frame the task, throughout our practical applications we will refer back to a standard process in industry for data projects called CRISP-DM.  This process provides a framework for working through a data problem.  Your first step in this application will be to read through a brief overview of CRISP-DM [here](https://mo-pcco.s3.us-east-1.amazonaws.com/BH-PCMLAI/module_11/readings_starter.zip).  After reading the overview, answer the questions below."
   ]
  },
  {
   "cell_type": "markdown",
   "metadata": {},
   "source": [
    "### Business Understanding\n",
    "\n",
    "From a business perspective, we are tasked with identifying key drivers for used car prices.  In the CRISP-DM overview, we are asked to convert this business framing to a data problem definition.  Using a few sentences, reframe the task as a data task with the appropriate technical vocabulary. "
   ]
  },
  {
   "cell_type": "markdown",
   "metadata": {},
   "source": [
    "What is the customer base? Drivers' age, income level, distance travelled, family or single drivers, and ..."
   ]
  },
  {
   "cell_type": "markdown",
   "metadata": {},
   "source": [
    "What are the features of most sold cars (demand)? Automatic or manual, 4 door, van, or sports car, engine, mileage, and ..."
   ]
  },
  {
   "cell_type": "markdown",
   "metadata": {},
   "source": [
    "What are outlier prices? Too high or too low."
   ]
  },
  {
   "cell_type": "code",
   "execution_count": null,
   "metadata": {},
   "outputs": [],
   "source": []
  },
  {
   "cell_type": "markdown",
   "metadata": {},
   "source": [
    "### Data Understanding\n",
    "\n",
    "After considering the business understanding, we want to get familiar with our data.  Write down some steps that you would take to get to know the dataset and identify any quality issues within.  Take time to get to know the dataset and explore what information it contains and how this could be used to inform your business understanding."
   ]
  },
  {
   "cell_type": "markdown",
   "metadata": {},
   "source": [
    "What is inside the dataset?"
   ]
  },
  {
   "cell_type": "markdown",
   "metadata": {},
   "source": [
    "Is there missing or duplicate values?"
   ]
  },
  {
   "cell_type": "markdown",
   "metadata": {},
   "source": [
    "Is there outliers?"
   ]
  },
  {
   "cell_type": "markdown",
   "metadata": {},
   "source": [
    "Is there categorical data or data that needs to be transformed or combined?"
   ]
  },
  {
   "cell_type": "code",
   "execution_count": 168,
   "metadata": {},
   "outputs": [],
   "source": [
    "import pandas as pd\n",
    "import numpy as np"
   ]
  },
  {
   "cell_type": "code",
   "execution_count": 169,
   "metadata": {},
   "outputs": [],
   "source": [
    "cars_df = pd.read_csv('data/vehicles.csv')"
   ]
  },
  {
   "cell_type": "code",
   "execution_count": 170,
   "metadata": {},
   "outputs": [
    {
     "name": "stdout",
     "output_type": "stream",
     "text": [
      "<class 'pandas.core.frame.DataFrame'>\n",
      "RangeIndex: 426880 entries, 0 to 426879\n",
      "Data columns (total 18 columns):\n",
      " #   Column        Non-Null Count   Dtype  \n",
      "---  ------        --------------   -----  \n",
      " 0   id            426880 non-null  int64  \n",
      " 1   region        426880 non-null  object \n",
      " 2   price         426880 non-null  int64  \n",
      " 3   year          425675 non-null  float64\n",
      " 4   manufacturer  409234 non-null  object \n",
      " 5   model         421603 non-null  object \n",
      " 6   condition     252776 non-null  object \n",
      " 7   cylinders     249202 non-null  object \n",
      " 8   fuel          423867 non-null  object \n",
      " 9   odometer      422480 non-null  float64\n",
      " 10  title_status  418638 non-null  object \n",
      " 11  transmission  424324 non-null  object \n",
      " 12  VIN           265838 non-null  object \n",
      " 13  drive         296313 non-null  object \n",
      " 14  size          120519 non-null  object \n",
      " 15  type          334022 non-null  object \n",
      " 16  paint_color   296677 non-null  object \n",
      " 17  state         426880 non-null  object \n",
      "dtypes: float64(2), int64(2), object(14)\n",
      "memory usage: 58.6+ MB\n"
     ]
    }
   ],
   "source": [
    "cars_df.info()"
   ]
  },
  {
   "cell_type": "code",
   "execution_count": 171,
   "metadata": {},
   "outputs": [],
   "source": [
    "cars_df['manufacturer'] = cars_df['manufacturer'].astype('string')\n",
    "cars_df['model'] = cars_df['model'].astype('string')"
   ]
  },
  {
   "cell_type": "code",
   "execution_count": 172,
   "metadata": {},
   "outputs": [
    {
     "data": {
      "text/html": [
       "<div>\n",
       "<style scoped>\n",
       "    .dataframe tbody tr th:only-of-type {\n",
       "        vertical-align: middle;\n",
       "    }\n",
       "\n",
       "    .dataframe tbody tr th {\n",
       "        vertical-align: top;\n",
       "    }\n",
       "\n",
       "    .dataframe thead th {\n",
       "        text-align: right;\n",
       "    }\n",
       "</style>\n",
       "<table border=\"1\" class=\"dataframe\">\n",
       "  <thead>\n",
       "    <tr style=\"text-align: right;\">\n",
       "      <th></th>\n",
       "      <th>id</th>\n",
       "      <th>region</th>\n",
       "      <th>price</th>\n",
       "      <th>year</th>\n",
       "      <th>manufacturer</th>\n",
       "      <th>model</th>\n",
       "      <th>condition</th>\n",
       "      <th>cylinders</th>\n",
       "      <th>fuel</th>\n",
       "      <th>odometer</th>\n",
       "      <th>title_status</th>\n",
       "      <th>transmission</th>\n",
       "      <th>VIN</th>\n",
       "      <th>drive</th>\n",
       "      <th>size</th>\n",
       "      <th>type</th>\n",
       "      <th>paint_color</th>\n",
       "      <th>state</th>\n",
       "    </tr>\n",
       "  </thead>\n",
       "  <tbody>\n",
       "    <tr>\n",
       "      <th>0</th>\n",
       "      <td>7222695916</td>\n",
       "      <td>prescott</td>\n",
       "      <td>6000</td>\n",
       "      <td>NaN</td>\n",
       "      <td>&lt;NA&gt;</td>\n",
       "      <td>&lt;NA&gt;</td>\n",
       "      <td>NaN</td>\n",
       "      <td>NaN</td>\n",
       "      <td>NaN</td>\n",
       "      <td>NaN</td>\n",
       "      <td>NaN</td>\n",
       "      <td>NaN</td>\n",
       "      <td>NaN</td>\n",
       "      <td>NaN</td>\n",
       "      <td>NaN</td>\n",
       "      <td>NaN</td>\n",
       "      <td>NaN</td>\n",
       "      <td>az</td>\n",
       "    </tr>\n",
       "    <tr>\n",
       "      <th>1</th>\n",
       "      <td>7218891961</td>\n",
       "      <td>fayetteville</td>\n",
       "      <td>11900</td>\n",
       "      <td>NaN</td>\n",
       "      <td>&lt;NA&gt;</td>\n",
       "      <td>&lt;NA&gt;</td>\n",
       "      <td>NaN</td>\n",
       "      <td>NaN</td>\n",
       "      <td>NaN</td>\n",
       "      <td>NaN</td>\n",
       "      <td>NaN</td>\n",
       "      <td>NaN</td>\n",
       "      <td>NaN</td>\n",
       "      <td>NaN</td>\n",
       "      <td>NaN</td>\n",
       "      <td>NaN</td>\n",
       "      <td>NaN</td>\n",
       "      <td>ar</td>\n",
       "    </tr>\n",
       "    <tr>\n",
       "      <th>2</th>\n",
       "      <td>7221797935</td>\n",
       "      <td>florida keys</td>\n",
       "      <td>21000</td>\n",
       "      <td>NaN</td>\n",
       "      <td>&lt;NA&gt;</td>\n",
       "      <td>&lt;NA&gt;</td>\n",
       "      <td>NaN</td>\n",
       "      <td>NaN</td>\n",
       "      <td>NaN</td>\n",
       "      <td>NaN</td>\n",
       "      <td>NaN</td>\n",
       "      <td>NaN</td>\n",
       "      <td>NaN</td>\n",
       "      <td>NaN</td>\n",
       "      <td>NaN</td>\n",
       "      <td>NaN</td>\n",
       "      <td>NaN</td>\n",
       "      <td>fl</td>\n",
       "    </tr>\n",
       "    <tr>\n",
       "      <th>3</th>\n",
       "      <td>7222270760</td>\n",
       "      <td>worcester / central MA</td>\n",
       "      <td>1500</td>\n",
       "      <td>NaN</td>\n",
       "      <td>&lt;NA&gt;</td>\n",
       "      <td>&lt;NA&gt;</td>\n",
       "      <td>NaN</td>\n",
       "      <td>NaN</td>\n",
       "      <td>NaN</td>\n",
       "      <td>NaN</td>\n",
       "      <td>NaN</td>\n",
       "      <td>NaN</td>\n",
       "      <td>NaN</td>\n",
       "      <td>NaN</td>\n",
       "      <td>NaN</td>\n",
       "      <td>NaN</td>\n",
       "      <td>NaN</td>\n",
       "      <td>ma</td>\n",
       "    </tr>\n",
       "    <tr>\n",
       "      <th>4</th>\n",
       "      <td>7210384030</td>\n",
       "      <td>greensboro</td>\n",
       "      <td>4900</td>\n",
       "      <td>NaN</td>\n",
       "      <td>&lt;NA&gt;</td>\n",
       "      <td>&lt;NA&gt;</td>\n",
       "      <td>NaN</td>\n",
       "      <td>NaN</td>\n",
       "      <td>NaN</td>\n",
       "      <td>NaN</td>\n",
       "      <td>NaN</td>\n",
       "      <td>NaN</td>\n",
       "      <td>NaN</td>\n",
       "      <td>NaN</td>\n",
       "      <td>NaN</td>\n",
       "      <td>NaN</td>\n",
       "      <td>NaN</td>\n",
       "      <td>nc</td>\n",
       "    </tr>\n",
       "  </tbody>\n",
       "</table>\n",
       "</div>"
      ],
      "text/plain": [
       "           id                  region  price  year manufacturer model  \\\n",
       "0  7222695916                prescott   6000   NaN         <NA>  <NA>   \n",
       "1  7218891961            fayetteville  11900   NaN         <NA>  <NA>   \n",
       "2  7221797935            florida keys  21000   NaN         <NA>  <NA>   \n",
       "3  7222270760  worcester / central MA   1500   NaN         <NA>  <NA>   \n",
       "4  7210384030              greensboro   4900   NaN         <NA>  <NA>   \n",
       "\n",
       "  condition cylinders fuel  odometer title_status transmission  VIN drive  \\\n",
       "0       NaN       NaN  NaN       NaN          NaN          NaN  NaN   NaN   \n",
       "1       NaN       NaN  NaN       NaN          NaN          NaN  NaN   NaN   \n",
       "2       NaN       NaN  NaN       NaN          NaN          NaN  NaN   NaN   \n",
       "3       NaN       NaN  NaN       NaN          NaN          NaN  NaN   NaN   \n",
       "4       NaN       NaN  NaN       NaN          NaN          NaN  NaN   NaN   \n",
       "\n",
       "  size type paint_color state  \n",
       "0  NaN  NaN         NaN    az  \n",
       "1  NaN  NaN         NaN    ar  \n",
       "2  NaN  NaN         NaN    fl  \n",
       "3  NaN  NaN         NaN    ma  \n",
       "4  NaN  NaN         NaN    nc  "
      ]
     },
     "execution_count": 172,
     "metadata": {},
     "output_type": "execute_result"
    }
   ],
   "source": [
    "cars_df.head()"
   ]
  },
  {
   "cell_type": "code",
   "execution_count": 173,
   "metadata": {},
   "outputs": [
    {
     "data": {
      "text/plain": [
       "size            71.77\n",
       "cylinders       41.62\n",
       "condition       40.79\n",
       "VIN             37.73\n",
       "drive           30.59\n",
       "paint_color     30.50\n",
       "type            21.75\n",
       "manufacturer     4.13\n",
       "title_status     1.93\n",
       "model            1.24\n",
       "odometer         1.03\n",
       "fuel             0.71\n",
       "transmission     0.60\n",
       "year             0.28\n",
       "id               0.00\n",
       "region           0.00\n",
       "price            0.00\n",
       "state            0.00\n",
       "dtype: float64"
      ]
     },
     "execution_count": 173,
     "metadata": {},
     "output_type": "execute_result"
    }
   ],
   "source": [
    "#missing values:\n",
    "(cars_df.isna().mean() * 100).round(2).sort_values(ascending=False)"
   ]
  },
  {
   "cell_type": "code",
   "execution_count": 174,
   "metadata": {},
   "outputs": [
    {
     "data": {
      "text/plain": [
       "0"
      ]
     },
     "execution_count": 174,
     "metadata": {},
     "output_type": "execute_result"
    }
   ],
   "source": [
    "#duplicates:\n",
    "cars_df.duplicated().sum()"
   ]
  },
  {
   "cell_type": "markdown",
   "metadata": {},
   "source": [
    "### Data Preparation\n",
    "\n",
    "After our initial exploration and fine tuning of the business understanding, it is time to construct our final dataset prior to modeling.  Here, we want to make sure to handle any integrity issues and cleaning, the engineering of new features, any transformations that we believe should happen (scaling, logarithms, normalization, etc.), and general preparation for modeling with `sklearn`. "
   ]
  },
  {
   "cell_type": "code",
   "execution_count": 176,
   "metadata": {
    "scrolled": true
   },
   "outputs": [],
   "source": [
    "cars_clean = cars_df.drop({'id', 'VIN', 'region', 'model'}, axis=1)\n",
    "\n",
    "cars_clean['type'] = cars_clean['type'].fillna('unknown_type')\n",
    "cars_clean['cylinders'] = cars_clean['cylinders'].fillna('unknown_cyl')\n",
    "cars_clean['condition'] = cars_clean['condition'].fillna('unknown_cond')\n",
    "cars_clean['drive'] = cars_clean['drive'].fillna('unknown_drive')\n",
    "cars_clean['paint_color'] = cars_clean['paint_color'].fillna('unknown_color')\n",
    "cars_clean['size'] = cars_clean['paint_color'].fillna('unknown_size')\n",
    "cars_clean['title_status'] = cars_clean['title_status'].fillna('unknown_title')\n",
    "cars_clean['transmission'] = cars_clean['transmission'].fillna('unknown_trans')\n",
    "cars_clean['fuel'] = cars_clean['fuel'].fillna('unknown_fuel')\n",
    "\n",
    "#remove rows that have missing manufacturer and year at the same time\n",
    "cars_clean = cars_clean.dropna(subset=['manufacturer', 'year'], how='all')\n",
    "#remove rows that missing price\n",
    "cars_clean = cars_clean[cars_clean['price'] != 0]"
   ]
  },
  {
   "cell_type": "code",
   "execution_count": 178,
   "metadata": {},
   "outputs": [],
   "source": [
    "#cars_clean[cars_clean['model'].str.match('buy', case=False, na=False) & cars_clean['manufacturer'].notna()].sum()"
   ]
  },
  {
   "cell_type": "code",
   "execution_count": null,
   "metadata": {},
   "outputs": [],
   "source": []
  },
  {
   "cell_type": "code",
   "execution_count": 180,
   "metadata": {},
   "outputs": [
    {
     "data": {
      "text/plain": [
       "price           0.000000\n",
       "year            0.001018\n",
       "manufacturer    3.822655\n",
       "condition       0.000000\n",
       "cylinders       0.000000\n",
       "fuel            0.000000\n",
       "odometer        0.566932\n",
       "title_status    0.000000\n",
       "transmission    0.000000\n",
       "drive           0.000000\n",
       "size            0.000000\n",
       "type            0.000000\n",
       "paint_color     0.000000\n",
       "state           0.000000\n",
       "dtype: float64"
      ]
     },
     "execution_count": 180,
     "metadata": {},
     "output_type": "execute_result"
    }
   ],
   "source": [
    "cars_clean.isna().mean() * 100\n"
   ]
  },
  {
   "cell_type": "code",
   "execution_count": 181,
   "metadata": {},
   "outputs": [
    {
     "data": {
      "text/plain": [
       "price           0.0\n",
       "year            0.0\n",
       "manufacturer    0.0\n",
       "condition       0.0\n",
       "cylinders       0.0\n",
       "fuel            0.0\n",
       "odometer        0.0\n",
       "title_status    0.0\n",
       "transmission    0.0\n",
       "drive           0.0\n",
       "size            0.0\n",
       "type            0.0\n",
       "paint_color     0.0\n",
       "state           0.0\n",
       "dtype: float64"
      ]
     },
     "execution_count": 181,
     "metadata": {},
     "output_type": "execute_result"
    }
   ],
   "source": [
    "#drop missing values\n",
    "cars_clean.dropna(inplace=True)\n",
    "\n",
    "(cars_clean.isna().sum() / cars_clean.isna().count()) * 100.0\n"
   ]
  },
  {
   "cell_type": "code",
   "execution_count": 182,
   "metadata": {},
   "outputs": [
    {
     "data": {
      "text/plain": [
       "0"
      ]
     },
     "execution_count": 182,
     "metadata": {},
     "output_type": "execute_result"
    }
   ],
   "source": [
    "#duplicates:\n",
    "cars_df.duplicated().sum()"
   ]
  },
  {
   "cell_type": "code",
   "execution_count": 183,
   "metadata": {},
   "outputs": [],
   "source": [
    "#cars_clean.drop_duplicates(inplace=True)"
   ]
  },
  {
   "cell_type": "code",
   "execution_count": 184,
   "metadata": {},
   "outputs": [
    {
     "data": {
      "text/plain": [
       "price           375619\n",
       "year            375619\n",
       "manufacturer    375619\n",
       "condition       375619\n",
       "cylinders       375619\n",
       "fuel            375619\n",
       "odometer        375619\n",
       "title_status    375619\n",
       "transmission    375619\n",
       "drive           375619\n",
       "size            375619\n",
       "type            375619\n",
       "paint_color     375619\n",
       "state           375619\n",
       "dtype: int64"
      ]
     },
     "execution_count": 184,
     "metadata": {},
     "output_type": "execute_result"
    }
   ],
   "source": [
    "cars_clean.count()"
   ]
  },
  {
   "cell_type": "code",
   "execution_count": 185,
   "metadata": {},
   "outputs": [
    {
     "name": "stdout",
     "output_type": "stream",
     "text": [
      "<class 'pandas.core.frame.DataFrame'>\n",
      "Index: 375619 entries, 27 to 426879\n",
      "Data columns (total 14 columns):\n",
      " #   Column        Non-Null Count   Dtype  \n",
      "---  ------        --------------   -----  \n",
      " 0   price         375619 non-null  int64  \n",
      " 1   year          375619 non-null  float64\n",
      " 2   manufacturer  375619 non-null  string \n",
      " 3   condition     375619 non-null  object \n",
      " 4   cylinders     375619 non-null  object \n",
      " 5   fuel          375619 non-null  object \n",
      " 6   odometer      375619 non-null  float64\n",
      " 7   title_status  375619 non-null  object \n",
      " 8   transmission  375619 non-null  object \n",
      " 9   drive         375619 non-null  object \n",
      " 10  size          375619 non-null  object \n",
      " 11  type          375619 non-null  object \n",
      " 12  paint_color   375619 non-null  object \n",
      " 13  state         375619 non-null  object \n",
      "dtypes: float64(2), int64(1), object(10), string(1)\n",
      "memory usage: 43.0+ MB\n"
     ]
    }
   ],
   "source": [
    "cars_clean.info()"
   ]
  },
  {
   "cell_type": "code",
   "execution_count": 186,
   "metadata": {},
   "outputs": [
    {
     "data": {
      "text/plain": [
       "True"
      ]
     },
     "execution_count": 186,
     "metadata": {},
     "output_type": "execute_result"
    }
   ],
   "source": [
    "cars_clean['year'] = cars_clean['year'].astype('int')\n",
    "cars_clean['fuel'] = cars_clean['fuel'].astype('string')\n",
    "cars_clean['odometer'] = cars_clean['odometer'].astype('int')\n",
    "cars_clean['title_status'] = cars_clean['title_status'].astype('string')\n",
    "cars_clean['transmission'] = cars_clean['transmission'].astype('string')\n",
    "cars_clean['state'] = cars_clean['state'].astype('string')\n",
    "\n",
    "cars_clean['state'].str.match(r'[a-z][a-z]').sum()==cars_clean['state'].count() #check to see all states are 2 letters"
   ]
  },
  {
   "cell_type": "code",
   "execution_count": 187,
   "metadata": {},
   "outputs": [],
   "source": [
    "cars_clean['state'] = cars_clean['state'].str.upper()"
   ]
  },
  {
   "cell_type": "code",
   "execution_count": null,
   "metadata": {},
   "outputs": [],
   "source": []
  },
  {
   "cell_type": "code",
   "execution_count": 188,
   "metadata": {},
   "outputs": [
    {
     "data": {
      "text/plain": [
       "Text(0.5, 0.98, 'Year is Left Skewed')"
      ]
     },
     "execution_count": 188,
     "metadata": {},
     "output_type": "execute_result"
    },
    {
     "data": {
      "image/png": "[encoded data removed]",
      "text/plain": [
       "<Figure size 640x480 with 1 Axes>"
      ]
     },
     "metadata": {},
     "output_type": "display_data"
    }
   ],
   "source": [
    "import pylab as pl\n",
    "cars_clean['year'].hist()\n",
    "pl.suptitle(\"Year is Left Skewed\")\n"
   ]
  },
  {
   "cell_type": "code",
   "execution_count": 189,
   "metadata": {},
   "outputs": [
    {
     "data": {
      "text/plain": [
       "Text(0.5, 0.98, 'Price is Right Skewed with Outliers')"
      ]
     },
     "execution_count": 189,
     "metadata": {},
     "output_type": "execute_result"
    },
    {
     "data": {
      "image/png": "[encoded data removed]",
      "text/plain": [
       "<Figure size 640x480 with 1 Axes>"
      ]
     },
     "metadata": {},
     "output_type": "display_data"
    }
   ],
   "source": [
    "import seaborn as sns\n",
    "#sns.displot(cars_clean['price'],bins=30,color='purple');\n",
    "cars_clean['price'].hist()\n",
    "pl.suptitle(\"Price is Right Skewed with Outliers\")\n"
   ]
  },
  {
   "cell_type": "code",
   "execution_count": 190,
   "metadata": {},
   "outputs": [
    {
     "data": {
      "text/plain": [
       "Text(0.5, 0.98, 'Odometer is Right Skewed with Outliers')"
      ]
     },
     "execution_count": 190,
     "metadata": {},
     "output_type": "execute_result"
    },
    {
     "data": {
      "image/png": "[encoded data removed]",
      "text/plain": [
       "<Figure size 640x480 with 1 Axes>"
      ]
     },
     "metadata": {},
     "output_type": "display_data"
    }
   ],
   "source": [
    "cars_clean['odometer'].hist()\n",
    "pl.suptitle(\"Odometer is Right Skewed with Outliers\")"
   ]
  },
  {
   "cell_type": "code",
   "execution_count": 191,
   "metadata": {},
   "outputs": [
    {
     "name": "stdout",
     "output_type": "stream",
     "text": [
      "12983816.664632505 83781.4214669652\n"
     ]
    },
    {
     "data": {
      "text/plain": [
       "price           136\n",
       "year            136\n",
       "manufacturer    136\n",
       "condition       136\n",
       "cylinders       136\n",
       "fuel            136\n",
       "odometer        136\n",
       "title_status    136\n",
       "transmission    136\n",
       "drive           136\n",
       "size            136\n",
       "type            136\n",
       "paint_color     136\n",
       "state           136\n",
       "dtype: int64"
      ]
     },
     "execution_count": 191,
     "metadata": {},
     "output_type": "execute_result"
    }
   ],
   "source": [
    "# remove outliers...\n",
    "\n",
    "std = cars_clean['price'].std() \n",
    "mean = cars_clean['price'].mean()\n",
    "\n",
    "print(std, mean)\n",
    "\n",
    "cars_clean[cars_clean['price']>150000].count()"
   ]
  },
  {
   "cell_type": "code",
   "execution_count": 192,
   "metadata": {},
   "outputs": [],
   "source": [
    "#standard deviation of price is too high at 13_234_267\n",
    "# only 126 car above $150_000, so drop them\n",
    "cars_clean = cars_clean[cars_clean['price']<=150000]"
   ]
  },
  {
   "cell_type": "code",
   "execution_count": 193,
   "metadata": {},
   "outputs": [
    {
     "name": "stdout",
     "output_type": "stream",
     "text": [
      "9.106543021291875 2011.2896456031299\n"
     ]
    }
   ],
   "source": [
    "std = cars_clean['year'].std() \n",
    "mean = cars_clean['year'].mean()\n",
    "\n",
    "print(std, mean)\n",
    "\n",
    "cars_clean = cars_clean[cars_clean['year']>= mean-2*std]\n",
    "cars_clean = cars_clean[cars_clean['year']<= mean+2*std]"
   ]
  },
  {
   "cell_type": "code",
   "execution_count": 194,
   "metadata": {},
   "outputs": [
    {
     "name": "stdout",
     "output_type": "stream",
     "text": [
      "136137.2714291103 95374.98032134373\n"
     ]
    }
   ],
   "source": [
    "std = cars_clean['odometer'].std() \n",
    "mean = cars_clean['odometer'].mean()\n",
    "\n",
    "print(std, mean)\n",
    "\n",
    "cars_clean = cars_clean[cars_clean['odometer']<= mean+2*std]\n",
    "\n"
   ]
  },
  {
   "cell_type": "code",
   "execution_count": 195,
   "metadata": {},
   "outputs": [
    {
     "name": "stderr",
     "output_type": "stream",
     "text": [
      "C:\\Users\\Slytherin\\anaconda3\\Lib\\site-packages\\seaborn\\axisgrid.py:118: UserWarning:\n",
      "\n",
      "The figure layout has changed to tight\n",
      "\n",
      "C:\\Users\\Slytherin\\anaconda3\\Lib\\site-packages\\seaborn\\axisgrid.py:118: UserWarning:\n",
      "\n",
      "The figure layout has changed to tight\n",
      "\n",
      "C:\\Users\\Slytherin\\anaconda3\\Lib\\site-packages\\seaborn\\axisgrid.py:118: UserWarning:\n",
      "\n",
      "The figure layout has changed to tight\n",
      "\n"
     ]
    },
    {
     "data": {
      "text/plain": [
       "Text(0.5, 1.0, 'Odometer: Right-Skewed after Outlier Removal')"
      ]
     },
     "execution_count": 195,
     "metadata": {},
     "output_type": "execute_result"
    },
    {
     "data": {
      "image/png": "[encoded data removed]",
      "text/plain": [
       "<Figure size 600x400 with 1 Axes>"
      ]
     },
     "metadata": {},
     "output_type": "display_data"
    },
    {
     "data": {
      "image/png": "[encoded data removed]",
      "text/plain": [
       "<Figure size 600x400 with 1 Axes>"
      ]
     },
     "metadata": {},
     "output_type": "display_data"
    },
    {
     "data": {
      "image/png": "[encoded data removed]",
      "text/plain": [
       "<Figure size 600x400 with 1 Axes>"
      ]
     },
     "metadata": {},
     "output_type": "display_data"
    }
   ],
   "source": [
    "sns.displot(cars_clean['price'], bins=20, color='purple', kde=True, height=4, aspect=1.5)\n",
    "plt.xlabel(\"Car Prices\")\n",
    "plt.title(\"Car Prices: Right-Skewed after Outlier Removal\")\n",
    "\n",
    "sns.displot(cars_clean['year'],bins=20,color='green', kde=True, height=4, aspect=1.5)\n",
    "plt.xlabel(\"Model Year\")\n",
    "plt.title(\"Model Year: Left-Skewed after Outlier Removal\")\n",
    "\n",
    "sns.displot(cars_clean['odometer'],bins=20,color='red', kde=True, height=4, aspect=1.5)\n",
    "plt.xlabel(\"Odometer\")\n",
    "plt.title(\"Odometer: Right-Skewed after Outlier Removal\")\n"
   ]
  },
  {
   "cell_type": "code",
   "execution_count": 196,
   "metadata": {},
   "outputs": [
    {
     "data": {
      "text/html": [
       "<div>\n",
       "<style scoped>\n",
       "    .dataframe tbody tr th:only-of-type {\n",
       "        vertical-align: middle;\n",
       "    }\n",
       "\n",
       "    .dataframe tbody tr th {\n",
       "        vertical-align: top;\n",
       "    }\n",
       "\n",
       "    .dataframe thead th {\n",
       "        text-align: right;\n",
       "    }\n",
       "</style>\n",
       "<table border=\"1\" class=\"dataframe\">\n",
       "  <thead>\n",
       "    <tr style=\"text-align: right;\">\n",
       "      <th></th>\n",
       "      <th>price</th>\n",
       "      <th>year</th>\n",
       "      <th>odometer</th>\n",
       "    </tr>\n",
       "  </thead>\n",
       "  <tbody>\n",
       "    <tr>\n",
       "      <th>count</th>\n",
       "      <td>362489.000000</td>\n",
       "      <td>362489.000000</td>\n",
       "      <td>362489.000000</td>\n",
       "    </tr>\n",
       "    <tr>\n",
       "      <th>mean</th>\n",
       "      <td>18959.783822</td>\n",
       "      <td>2012.527354</td>\n",
       "      <td>92395.729721</td>\n",
       "    </tr>\n",
       "    <tr>\n",
       "      <th>std</th>\n",
       "      <td>14629.989264</td>\n",
       "      <td>5.550625</td>\n",
       "      <td>62428.112220</td>\n",
       "    </tr>\n",
       "    <tr>\n",
       "      <th>min</th>\n",
       "      <td>1.000000</td>\n",
       "      <td>1994.000000</td>\n",
       "      <td>0.000000</td>\n",
       "    </tr>\n",
       "    <tr>\n",
       "      <th>25%</th>\n",
       "      <td>7499.000000</td>\n",
       "      <td>2009.000000</td>\n",
       "      <td>38360.000000</td>\n",
       "    </tr>\n",
       "    <tr>\n",
       "      <th>50%</th>\n",
       "      <td>15800.000000</td>\n",
       "      <td>2014.000000</td>\n",
       "      <td>87445.000000</td>\n",
       "    </tr>\n",
       "    <tr>\n",
       "      <th>75%</th>\n",
       "      <td>27977.000000</td>\n",
       "      <td>2017.000000</td>\n",
       "      <td>135092.000000</td>\n",
       "    </tr>\n",
       "    <tr>\n",
       "      <th>max</th>\n",
       "      <td>150000.000000</td>\n",
       "      <td>2022.000000</td>\n",
       "      <td>367245.000000</td>\n",
       "    </tr>\n",
       "  </tbody>\n",
       "</table>\n",
       "</div>"
      ],
      "text/plain": [
       "               price           year       odometer\n",
       "count  362489.000000  362489.000000  362489.000000\n",
       "mean    18959.783822    2012.527354   92395.729721\n",
       "std     14629.989264       5.550625   62428.112220\n",
       "min         1.000000    1994.000000       0.000000\n",
       "25%      7499.000000    2009.000000   38360.000000\n",
       "50%     15800.000000    2014.000000   87445.000000\n",
       "75%     27977.000000    2017.000000  135092.000000\n",
       "max    150000.000000    2022.000000  367245.000000"
      ]
     },
     "execution_count": 196,
     "metadata": {},
     "output_type": "execute_result"
    }
   ],
   "source": [
    "cars_clean.describe()"
   ]
  },
  {
   "cell_type": "code",
   "execution_count": 197,
   "metadata": {},
   "outputs": [
    {
     "name": "stderr",
     "output_type": "stream",
     "text": [
      "C:\\Users\\Slytherin\\anaconda3\\Lib\\site-packages\\seaborn\\axisgrid.py:118: UserWarning:\n",
      "\n",
      "The figure layout has changed to tight\n",
      "\n"
     ]
    },
    {
     "data": {
      "text/plain": [
       "<seaborn.axisgrid.PairGrid at 0x22a620cf290>"
      ]
     },
     "execution_count": 197,
     "metadata": {},
     "output_type": "execute_result"
    },
    {
     "data": {
      "image/png": "[encoded data removed]",
      "text/plain": [
       "<Figure size 750x750 with 12 Axes>"
      ]
     },
     "metadata": {},
     "output_type": "display_data"
    }
   ],
   "source": [
    "sns.pairplot(cars_clean)"
   ]
  },
  {
   "cell_type": "code",
   "execution_count": 198,
   "metadata": {},
   "outputs": [],
   "source": [
    "corr=cars_clean.corr(numeric_only=True)"
   ]
  },
  {
   "cell_type": "code",
   "execution_count": 199,
   "metadata": {},
   "outputs": [
    {
     "data": {
      "text/plain": [
       "<Axes: >"
      ]
     },
     "execution_count": 199,
     "metadata": {},
     "output_type": "execute_result"
    },
    {
     "data": {
      "image/png": "[encoded data removed]",
      "text/plain": [
       "<Figure size 640x480 with 2 Axes>"
      ]
     },
     "metadata": {},
     "output_type": "display_data"
    }
   ],
   "source": [
    "sns.heatmap(corr, annot=True)"
   ]
  },
  {
   "cell_type": "markdown",
   "metadata": {},
   "source": []
  },
  {
   "cell_type": "markdown",
   "metadata": {},
   "source": [
    "### Modeling\n",
    "\n",
    "With your (almost?) final dataset in hand, it is now time to build some models.  Here, you should build a number of different regression models with the price as the target.  In building your models, you should explore different parameters and be sure to cross-validate your findings."
   ]
  },
  {
   "cell_type": "code",
   "execution_count": 62,
   "metadata": {},
   "outputs": [],
   "source": [
    "import pandas as pd\n",
    "import matplotlib.pyplot as plt\n",
    "from sklearn.model_selection import train_test_split\n",
    "from sklearn.pipeline import Pipeline\n",
    "from sklearn.preprocessing import StandardScaler\n",
    "from sklearn.metrics import mean_squared_error\n",
    "from sklearn.preprocessing import FunctionTransformer\n",
    "import numpy as np\n",
    "from sklearn.pipeline import Pipeline\n",
    "from sklearn.model_selection import GridSearchCV\n",
    "from sklearn.linear_model import LinearRegression, Ridge, Lasso\n",
    "from sklearn.preprocessing import PolynomialFeatures, StandardScaler, OneHotEncoder\n",
    "from sklearn.compose import make_column_transformer, TransformedTargetRegressor\n",
    "from sklearn.inspection import permutation_importance\n",
    "from sklearn.feature_selection import SequentialFeatureSelector\n",
    "from sklearn.preprocessing import OrdinalEncoder\n",
    "from sklearn.preprocessing import Normalizer\n",
    "from sklearn.preprocessing import FunctionTransformer\n",
    "from sklearn.preprocessing import PowerTransformer\n",
    "from sklearn.preprocessing import QuantileTransformer\n",
    "import plotly.express as px\n",
    "import warnings\n",
    "\n",
    "\n",
    "def root_mean_squared_error (y_actual, y_predicted, sq=False):\n",
    "    return mean_squared_error(y_actual, y_predicted, squared=sq)"
   ]
  },
  {
   "cell_type": "code",
   "execution_count": 63,
   "metadata": {},
   "outputs": [],
   "source": [
    "X = cars_clean.drop('price', axis = 1)\n",
    "\n",
    "#drop all categorical columns to get base line error\n",
    "X = X.drop(['manufacturer', 'fuel','title_status','transmission','state', 'condition', 'drive', 'type', 'cylinders', \n",
    "            'paint_color', 'size'], axis=1)\n",
    "\n",
    "y = cars_clean['price']\n",
    "\n",
    "X_train, X_test, y_train, y_test = train_test_split(X, y, test_size=0.30, random_state=45)"
   ]
  },
  {
   "cell_type": "code",
   "execution_count": 64,
   "metadata": {
    "scrolled": true
   },
   "outputs": [
    {
     "data": {
      "text/html": [
       "<style>#sk-container-id-5 {color: black;}#sk-container-id-5 pre{padding: 0;}#sk-container-id-5 div.sk-toggleable {background-color: white;}#sk-container-id-5 label.sk-toggleable__label {cursor: pointer;display: block;width: 100%;margin-bottom: 0;padding: 0.3em;box-sizing: border-box;text-align: center;}#sk-container-id-5 label.sk-toggleable__label-arrow:before {content: \"▸\";float: left;margin-right: 0.25em;color: #696969;}#sk-container-id-5 label.sk-toggleable__label-arrow:hover:before {color: black;}#sk-container-id-5 div.sk-estimator:hover label.sk-toggleable__label-arrow:before {color: black;}#sk-container-id-5 div.sk-toggleable__content {max-height: 0;max-width: 0;overflow: hidden;text-align: left;background-color: #f0f8ff;}#sk-container-id-5 div.sk-toggleable__content pre {margin: 0.2em;color: black;border-radius: 0.25em;background-color: #f0f8ff;}#sk-container-id-5 input.sk-toggleable__control:checked~div.sk-toggleable__content {max-height: 200px;max-width: 100%;overflow: auto;}#sk-container-id-5 input.sk-toggleable__control:checked~label.sk-toggleable__label-arrow:before {content: \"▾\";}#sk-container-id-5 div.sk-estimator input.sk-toggleable__control:checked~label.sk-toggleable__label {background-color: #d4ebff;}#sk-container-id-5 div.sk-label input.sk-toggleable__control:checked~label.sk-toggleable__label {background-color: #d4ebff;}#sk-container-id-5 input.sk-hidden--visually {border: 0;clip: rect(1px 1px 1px 1px);clip: rect(1px, 1px, 1px, 1px);height: 1px;margin: -1px;overflow: hidden;padding: 0;position: absolute;width: 1px;}#sk-container-id-5 div.sk-estimator {font-family: monospace;background-color: #f0f8ff;border: 1px dotted black;border-radius: 0.25em;box-sizing: border-box;margin-bottom: 0.5em;}#sk-container-id-5 div.sk-estimator:hover {background-color: #d4ebff;}#sk-container-id-5 div.sk-parallel-item::after {content: \"\";width: 100%;border-bottom: 1px solid gray;flex-grow: 1;}#sk-container-id-5 div.sk-label:hover label.sk-toggleable__label {background-color: #d4ebff;}#sk-container-id-5 div.sk-serial::before {content: \"\";position: absolute;border-left: 1px solid gray;box-sizing: border-box;top: 0;bottom: 0;left: 50%;z-index: 0;}#sk-container-id-5 div.sk-serial {display: flex;flex-direction: column;align-items: center;background-color: white;padding-right: 0.2em;padding-left: 0.2em;position: relative;}#sk-container-id-5 div.sk-item {position: relative;z-index: 1;}#sk-container-id-5 div.sk-parallel {display: flex;align-items: stretch;justify-content: center;background-color: white;position: relative;}#sk-container-id-5 div.sk-item::before, #sk-container-id-5 div.sk-parallel-item::before {content: \"\";position: absolute;border-left: 1px solid gray;box-sizing: border-box;top: 0;bottom: 0;left: 50%;z-index: -1;}#sk-container-id-5 div.sk-parallel-item {display: flex;flex-direction: column;z-index: 1;position: relative;background-color: white;}#sk-container-id-5 div.sk-parallel-item:first-child::after {align-self: flex-end;width: 50%;}#sk-container-id-5 div.sk-parallel-item:last-child::after {align-self: flex-start;width: 50%;}#sk-container-id-5 div.sk-parallel-item:only-child::after {width: 0;}#sk-container-id-5 div.sk-dashed-wrapped {border: 1px dashed gray;margin: 0 0.4em 0.5em 0.4em;box-sizing: border-box;padding-bottom: 0.4em;background-color: white;}#sk-container-id-5 div.sk-label label {font-family: monospace;font-weight: bold;display: inline-block;line-height: 1.2em;}#sk-container-id-5 div.sk-label-container {text-align: center;}#sk-container-id-5 div.sk-container {/* jupyter's `normalize.less` sets `[hidden] { display: none; }` but bootstrap.min.css set `[hidden] { display: none !important; }` so we also need the `!important` here to be able to override the default hidden behavior on the sphinx rendered scikit-learn.org. See: https://github.com/scikit-learn/scikit-learn/issues/21755 */display: inline-block !important;position: relative;}#sk-container-id-5 div.sk-text-repr-fallback {display: none;}</style><div id=\"sk-container-id-5\" class=\"sk-top-container\"><div class=\"sk-text-repr-fallback\"><pre>Pipeline(steps=[(&#x27;normalize&#x27;,\n",
       "                 QuantileTransformer(output_distribution=&#x27;normal&#x27;)),\n",
       "                (&#x27;scaler&#x27;, StandardScaler(with_mean=False)),\n",
       "                (&#x27;model&#x27;, LinearRegression())])</pre><b>In a Jupyter environment, please rerun this cell to show the HTML representation or trust the notebook. <br />On GitHub, the HTML representation is unable to render, please try loading this page with nbviewer.org.</b></div><div class=\"sk-container\" hidden><div class=\"sk-item sk-dashed-wrapped\"><div class=\"sk-label-container\"><div class=\"sk-label sk-toggleable\"><input class=\"sk-toggleable__control sk-hidden--visually\" id=\"sk-estimator-id-32\" type=\"checkbox\" ><label for=\"sk-estimator-id-32\" class=\"sk-toggleable__label sk-toggleable__label-arrow\">Pipeline</label><div class=\"sk-toggleable__content\"><pre>Pipeline(steps=[(&#x27;normalize&#x27;,\n",
       "                 QuantileTransformer(output_distribution=&#x27;normal&#x27;)),\n",
       "                (&#x27;scaler&#x27;, StandardScaler(with_mean=False)),\n",
       "                (&#x27;model&#x27;, LinearRegression())])</pre></div></div></div><div class=\"sk-serial\"><div class=\"sk-item\"><div class=\"sk-estimator sk-toggleable\"><input class=\"sk-toggleable__control sk-hidden--visually\" id=\"sk-estimator-id-33\" type=\"checkbox\" ><label for=\"sk-estimator-id-33\" class=\"sk-toggleable__label sk-toggleable__label-arrow\">QuantileTransformer</label><div class=\"sk-toggleable__content\"><pre>QuantileTransformer(output_distribution=&#x27;normal&#x27;)</pre></div></div></div><div class=\"sk-item\"><div class=\"sk-estimator sk-toggleable\"><input class=\"sk-toggleable__control sk-hidden--visually\" id=\"sk-estimator-id-34\" type=\"checkbox\" ><label for=\"sk-estimator-id-34\" class=\"sk-toggleable__label sk-toggleable__label-arrow\">StandardScaler</label><div class=\"sk-toggleable__content\"><pre>StandardScaler(with_mean=False)</pre></div></div></div><div class=\"sk-item\"><div class=\"sk-estimator sk-toggleable\"><input class=\"sk-toggleable__control sk-hidden--visually\" id=\"sk-estimator-id-35\" type=\"checkbox\" ><label for=\"sk-estimator-id-35\" class=\"sk-toggleable__label sk-toggleable__label-arrow\">LinearRegression</label><div class=\"sk-toggleable__content\"><pre>LinearRegression()</pre></div></div></div></div></div></div></div>"
      ],
      "text/plain": [
       "Pipeline(steps=[('normalize',\n",
       "                 QuantileTransformer(output_distribution='normal')),\n",
       "                ('scaler', StandardScaler(with_mean=False)),\n",
       "                ('model', LinearRegression())])"
      ]
     },
     "execution_count": 64,
     "metadata": {},
     "output_type": "execute_result"
    }
   ],
   "source": [
    "pipe = Pipeline([\n",
    "                ('normalize', QuantileTransformer(output_distribution='normal')),\n",
    "                ('scaler', StandardScaler(with_mean=False)), \n",
    "                ('model', LinearRegression())])\n",
    "\n",
    "pipe"
   ]
  },
  {
   "cell_type": "code",
   "execution_count": 65,
   "metadata": {},
   "outputs": [],
   "source": [
    "pipe.fit(X_train, y_train)\n",
    "\n",
    "preds_train = pipe.predict(X_train)\n",
    "preds_test = pipe.predict(X_test)\n",
    "\n",
    "base_train_mse = root_mean_squared_error(y_train, preds_train)\n",
    "base_test_mse = root_mean_squared_error(y_test, preds_test)"
   ]
  },
  {
   "cell_type": "code",
   "execution_count": 66,
   "metadata": {},
   "outputs": [
    {
     "name": "stdout",
     "output_type": "stream",
     "text": [
      "Baseline Train LinReg RMSE:  11589.546856406485\n",
      "Baseline Test LinReg RMSE:   11573.66155089229\n"
     ]
    }
   ],
   "source": [
    "print('Baseline Train LinReg RMSE: ', base_train_mse)\n",
    "print('Baseline Test LinReg RMSE:  ', base_test_mse)"
   ]
  },
  {
   "cell_type": "code",
   "execution_count": null,
   "metadata": {},
   "outputs": [],
   "source": []
  },
  {
   "cell_type": "code",
   "execution_count": null,
   "metadata": {},
   "outputs": [],
   "source": []
  },
  {
   "cell_type": "code",
   "execution_count": 67,
   "metadata": {},
   "outputs": [
    {
     "data": {
      "text/html": [
       "<style>#sk-container-id-6 {color: black;}#sk-container-id-6 pre{padding: 0;}#sk-container-id-6 div.sk-toggleable {background-color: white;}#sk-container-id-6 label.sk-toggleable__label {cursor: pointer;display: block;width: 100%;margin-bottom: 0;padding: 0.3em;box-sizing: border-box;text-align: center;}#sk-container-id-6 label.sk-toggleable__label-arrow:before {content: \"▸\";float: left;margin-right: 0.25em;color: #696969;}#sk-container-id-6 label.sk-toggleable__label-arrow:hover:before {color: black;}#sk-container-id-6 div.sk-estimator:hover label.sk-toggleable__label-arrow:before {color: black;}#sk-container-id-6 div.sk-toggleable__content {max-height: 0;max-width: 0;overflow: hidden;text-align: left;background-color: #f0f8ff;}#sk-container-id-6 div.sk-toggleable__content pre {margin: 0.2em;color: black;border-radius: 0.25em;background-color: #f0f8ff;}#sk-container-id-6 input.sk-toggleable__control:checked~div.sk-toggleable__content {max-height: 200px;max-width: 100%;overflow: auto;}#sk-container-id-6 input.sk-toggleable__control:checked~label.sk-toggleable__label-arrow:before {content: \"▾\";}#sk-container-id-6 div.sk-estimator input.sk-toggleable__control:checked~label.sk-toggleable__label {background-color: #d4ebff;}#sk-container-id-6 div.sk-label input.sk-toggleable__control:checked~label.sk-toggleable__label {background-color: #d4ebff;}#sk-container-id-6 input.sk-hidden--visually {border: 0;clip: rect(1px 1px 1px 1px);clip: rect(1px, 1px, 1px, 1px);height: 1px;margin: -1px;overflow: hidden;padding: 0;position: absolute;width: 1px;}#sk-container-id-6 div.sk-estimator {font-family: monospace;background-color: #f0f8ff;border: 1px dotted black;border-radius: 0.25em;box-sizing: border-box;margin-bottom: 0.5em;}#sk-container-id-6 div.sk-estimator:hover {background-color: #d4ebff;}#sk-container-id-6 div.sk-parallel-item::after {content: \"\";width: 100%;border-bottom: 1px solid gray;flex-grow: 1;}#sk-container-id-6 div.sk-label:hover label.sk-toggleable__label {background-color: #d4ebff;}#sk-container-id-6 div.sk-serial::before {content: \"\";position: absolute;border-left: 1px solid gray;box-sizing: border-box;top: 0;bottom: 0;left: 50%;z-index: 0;}#sk-container-id-6 div.sk-serial {display: flex;flex-direction: column;align-items: center;background-color: white;padding-right: 0.2em;padding-left: 0.2em;position: relative;}#sk-container-id-6 div.sk-item {position: relative;z-index: 1;}#sk-container-id-6 div.sk-parallel {display: flex;align-items: stretch;justify-content: center;background-color: white;position: relative;}#sk-container-id-6 div.sk-item::before, #sk-container-id-6 div.sk-parallel-item::before {content: \"\";position: absolute;border-left: 1px solid gray;box-sizing: border-box;top: 0;bottom: 0;left: 50%;z-index: -1;}#sk-container-id-6 div.sk-parallel-item {display: flex;flex-direction: column;z-index: 1;position: relative;background-color: white;}#sk-container-id-6 div.sk-parallel-item:first-child::after {align-self: flex-end;width: 50%;}#sk-container-id-6 div.sk-parallel-item:last-child::after {align-self: flex-start;width: 50%;}#sk-container-id-6 div.sk-parallel-item:only-child::after {width: 0;}#sk-container-id-6 div.sk-dashed-wrapped {border: 1px dashed gray;margin: 0 0.4em 0.5em 0.4em;box-sizing: border-box;padding-bottom: 0.4em;background-color: white;}#sk-container-id-6 div.sk-label label {font-family: monospace;font-weight: bold;display: inline-block;line-height: 1.2em;}#sk-container-id-6 div.sk-label-container {text-align: center;}#sk-container-id-6 div.sk-container {/* jupyter's `normalize.less` sets `[hidden] { display: none; }` but bootstrap.min.css set `[hidden] { display: none !important; }` so we also need the `!important` here to be able to override the default hidden behavior on the sphinx rendered scikit-learn.org. See: https://github.com/scikit-learn/scikit-learn/issues/21755 */display: inline-block !important;position: relative;}#sk-container-id-6 div.sk-text-repr-fallback {display: none;}</style><div id=\"sk-container-id-6\" class=\"sk-top-container\"><div class=\"sk-text-repr-fallback\"><pre>Pipeline(steps=[(&#x27;col_transformer&#x27;,\n",
       "                 ColumnTransformer(remainder=&#x27;passthrough&#x27;,\n",
       "                                   transformers=[(&#x27;onehotencoder&#x27;,\n",
       "                                                  OneHotEncoder(drop=&#x27;if_binary&#x27;),\n",
       "                                                  [&#x27;manufacturer&#x27;, &#x27;fuel&#x27;,\n",
       "                                                   &#x27;title_status&#x27;,\n",
       "                                                   &#x27;transmission&#x27;, &#x27;state&#x27;,\n",
       "                                                   &#x27;condition&#x27;, &#x27;drive&#x27;, &#x27;type&#x27;,\n",
       "                                                   &#x27;cylinders&#x27;, &#x27;paint_color&#x27;,\n",
       "                                                   &#x27;size&#x27;])])),\n",
       "                (&#x27;normalize&#x27;,\n",
       "                 QuantileTransformer(output_distribution=&#x27;normal&#x27;)),\n",
       "                (&#x27;scaler&#x27;, StandardScaler(with_mean=False)),\n",
       "                (&#x27;model&#x27;, Lasso(alpha=0.5, tol=0.01))])</pre><b>In a Jupyter environment, please rerun this cell to show the HTML representation or trust the notebook. <br />On GitHub, the HTML representation is unable to render, please try loading this page with nbviewer.org.</b></div><div class=\"sk-container\" hidden><div class=\"sk-item sk-dashed-wrapped\"><div class=\"sk-label-container\"><div class=\"sk-label sk-toggleable\"><input class=\"sk-toggleable__control sk-hidden--visually\" id=\"sk-estimator-id-36\" type=\"checkbox\" ><label for=\"sk-estimator-id-36\" class=\"sk-toggleable__label sk-toggleable__label-arrow\">Pipeline</label><div class=\"sk-toggleable__content\"><pre>Pipeline(steps=[(&#x27;col_transformer&#x27;,\n",
       "                 ColumnTransformer(remainder=&#x27;passthrough&#x27;,\n",
       "                                   transformers=[(&#x27;onehotencoder&#x27;,\n",
       "                                                  OneHotEncoder(drop=&#x27;if_binary&#x27;),\n",
       "                                                  [&#x27;manufacturer&#x27;, &#x27;fuel&#x27;,\n",
       "                                                   &#x27;title_status&#x27;,\n",
       "                                                   &#x27;transmission&#x27;, &#x27;state&#x27;,\n",
       "                                                   &#x27;condition&#x27;, &#x27;drive&#x27;, &#x27;type&#x27;,\n",
       "                                                   &#x27;cylinders&#x27;, &#x27;paint_color&#x27;,\n",
       "                                                   &#x27;size&#x27;])])),\n",
       "                (&#x27;normalize&#x27;,\n",
       "                 QuantileTransformer(output_distribution=&#x27;normal&#x27;)),\n",
       "                (&#x27;scaler&#x27;, StandardScaler(with_mean=False)),\n",
       "                (&#x27;model&#x27;, Lasso(alpha=0.5, tol=0.01))])</pre></div></div></div><div class=\"sk-serial\"><div class=\"sk-item sk-dashed-wrapped\"><div class=\"sk-label-container\"><div class=\"sk-label sk-toggleable\"><input class=\"sk-toggleable__control sk-hidden--visually\" id=\"sk-estimator-id-37\" type=\"checkbox\" ><label for=\"sk-estimator-id-37\" class=\"sk-toggleable__label sk-toggleable__label-arrow\">col_transformer: ColumnTransformer</label><div class=\"sk-toggleable__content\"><pre>ColumnTransformer(remainder=&#x27;passthrough&#x27;,\n",
       "                  transformers=[(&#x27;onehotencoder&#x27;,\n",
       "                                 OneHotEncoder(drop=&#x27;if_binary&#x27;),\n",
       "                                 [&#x27;manufacturer&#x27;, &#x27;fuel&#x27;, &#x27;title_status&#x27;,\n",
       "                                  &#x27;transmission&#x27;, &#x27;state&#x27;, &#x27;condition&#x27;, &#x27;drive&#x27;,\n",
       "                                  &#x27;type&#x27;, &#x27;cylinders&#x27;, &#x27;paint_color&#x27;,\n",
       "                                  &#x27;size&#x27;])])</pre></div></div></div><div class=\"sk-parallel\"><div class=\"sk-parallel-item\"><div class=\"sk-item\"><div class=\"sk-label-container\"><div class=\"sk-label sk-toggleable\"><input class=\"sk-toggleable__control sk-hidden--visually\" id=\"sk-estimator-id-38\" type=\"checkbox\" ><label for=\"sk-estimator-id-38\" class=\"sk-toggleable__label sk-toggleable__label-arrow\">onehotencoder</label><div class=\"sk-toggleable__content\"><pre>[&#x27;manufacturer&#x27;, &#x27;fuel&#x27;, &#x27;title_status&#x27;, &#x27;transmission&#x27;, &#x27;state&#x27;, &#x27;condition&#x27;, &#x27;drive&#x27;, &#x27;type&#x27;, &#x27;cylinders&#x27;, &#x27;paint_color&#x27;, &#x27;size&#x27;]</pre></div></div></div><div class=\"sk-serial\"><div class=\"sk-item\"><div class=\"sk-estimator sk-toggleable\"><input class=\"sk-toggleable__control sk-hidden--visually\" id=\"sk-estimator-id-39\" type=\"checkbox\" ><label for=\"sk-estimator-id-39\" class=\"sk-toggleable__label sk-toggleable__label-arrow\">OneHotEncoder</label><div class=\"sk-toggleable__content\"><pre>OneHotEncoder(drop=&#x27;if_binary&#x27;)</pre></div></div></div></div></div></div><div class=\"sk-parallel-item\"><div class=\"sk-item\"><div class=\"sk-label-container\"><div class=\"sk-label sk-toggleable\"><input class=\"sk-toggleable__control sk-hidden--visually\" id=\"sk-estimator-id-40\" type=\"checkbox\" ><label for=\"sk-estimator-id-40\" class=\"sk-toggleable__label sk-toggleable__label-arrow\">remainder</label><div class=\"sk-toggleable__content\"><pre></pre></div></div></div><div class=\"sk-serial\"><div class=\"sk-item\"><div class=\"sk-estimator sk-toggleable\"><input class=\"sk-toggleable__control sk-hidden--visually\" id=\"sk-estimator-id-41\" type=\"checkbox\" ><label for=\"sk-estimator-id-41\" class=\"sk-toggleable__label sk-toggleable__label-arrow\">passthrough</label><div class=\"sk-toggleable__content\"><pre>passthrough</pre></div></div></div></div></div></div></div></div><div class=\"sk-item\"><div class=\"sk-estimator sk-toggleable\"><input class=\"sk-toggleable__control sk-hidden--visually\" id=\"sk-estimator-id-42\" type=\"checkbox\" ><label for=\"sk-estimator-id-42\" class=\"sk-toggleable__label sk-toggleable__label-arrow\">QuantileTransformer</label><div class=\"sk-toggleable__content\"><pre>QuantileTransformer(output_distribution=&#x27;normal&#x27;)</pre></div></div></div><div class=\"sk-item\"><div class=\"sk-estimator sk-toggleable\"><input class=\"sk-toggleable__control sk-hidden--visually\" id=\"sk-estimator-id-43\" type=\"checkbox\" ><label for=\"sk-estimator-id-43\" class=\"sk-toggleable__label sk-toggleable__label-arrow\">StandardScaler</label><div class=\"sk-toggleable__content\"><pre>StandardScaler(with_mean=False)</pre></div></div></div><div class=\"sk-item\"><div class=\"sk-estimator sk-toggleable\"><input class=\"sk-toggleable__control sk-hidden--visually\" id=\"sk-estimator-id-44\" type=\"checkbox\" ><label for=\"sk-estimator-id-44\" class=\"sk-toggleable__label sk-toggleable__label-arrow\">Lasso</label><div class=\"sk-toggleable__content\"><pre>Lasso(alpha=0.5, tol=0.01)</pre></div></div></div></div></div></div></div>"
      ],
      "text/plain": [
       "Pipeline(steps=[('col_transformer',\n",
       "                 ColumnTransformer(remainder='passthrough',\n",
       "                                   transformers=[('onehotencoder',\n",
       "                                                  OneHotEncoder(drop='if_binary'),\n",
       "                                                  ['manufacturer', 'fuel',\n",
       "                                                   'title_status',\n",
       "                                                   'transmission', 'state',\n",
       "                                                   'condition', 'drive', 'type',\n",
       "                                                   'cylinders', 'paint_color',\n",
       "                                                   'size'])])),\n",
       "                ('normalize',\n",
       "                 QuantileTransformer(output_distribution='normal')),\n",
       "                ('scaler', StandardScaler(with_mean=False)),\n",
       "                ('model', Lasso(alpha=0.5, tol=0.01))])"
      ]
     },
     "execution_count": 67,
     "metadata": {},
     "output_type": "execute_result"
    }
   ],
   "source": [
    "# encode categorized columns, normalize, scale, feature select, and linreg:\n",
    "\n",
    "col_transformer = make_column_transformer((OneHotEncoder(drop = 'if_binary'), ['manufacturer', 'fuel','title_status',\n",
    "                                                                               'transmission','state', 'condition', \n",
    "                                                                               'drive', 'type', 'cylinders', 'paint_color', \n",
    "                                                                               'size']), \n",
    "                                          remainder='passthrough')\n",
    "\n",
    "\n",
    "pipe = Pipeline([\n",
    "                ('col_transformer', col_transformer), \n",
    "                ('normalize', QuantileTransformer(output_distribution='normal')),\n",
    "                ('scaler', StandardScaler(with_mean=False)), \n",
    "                #('selector', SequentialFeatureSelector(Lasso(), n_features_to_select=4)),\n",
    "                ('model', Lasso(alpha=0.5, tol=1e-2))])\n",
    "\n",
    "pipe"
   ]
  },
  {
   "cell_type": "code",
   "execution_count": 68,
   "metadata": {},
   "outputs": [
    {
     "name": "stdout",
     "output_type": "stream",
     "text": [
      "Train Lasso RMSE:  8676.387783503573\n",
      "Test Lasso RMSE:   8637.43399238755\n"
     ]
    }
   ],
   "source": [
    "X = cars_clean.drop('price', axis = 1)\n",
    "\n",
    "y = cars_clean['price']\n",
    "\n",
    "X_train, X_test, y_train, y_test = train_test_split(X, y, test_size=0.30, random_state=45)\n",
    "\n",
    "pipe.fit(X_train, y_train)\n",
    "\n",
    "lasso_preds_train = pipe.predict(X_train)\n",
    "lasso_preds_test = pipe.predict(X_test)\n",
    "\n",
    "lasso_train_mse = root_mean_squared_error(y_train, lasso_preds_train)\n",
    "lasso_test_mse = root_mean_squared_error(y_test, lasso_preds_test)\n",
    "\n",
    "print('Train Lasso RMSE: ', lasso_train_mse)\n",
    "print('Test Lasso RMSE:  ', lasso_test_mse)"
   ]
  },
  {
   "cell_type": "code",
   "execution_count": null,
   "metadata": {},
   "outputs": [],
   "source": []
  },
  {
   "cell_type": "code",
   "execution_count": 69,
   "metadata": {},
   "outputs": [
    {
     "data": {
      "text/html": [
       "<style>#sk-container-id-7 {color: black;}#sk-container-id-7 pre{padding: 0;}#sk-container-id-7 div.sk-toggleable {background-color: white;}#sk-container-id-7 label.sk-toggleable__label {cursor: pointer;display: block;width: 100%;margin-bottom: 0;padding: 0.3em;box-sizing: border-box;text-align: center;}#sk-container-id-7 label.sk-toggleable__label-arrow:before {content: \"▸\";float: left;margin-right: 0.25em;color: #696969;}#sk-container-id-7 label.sk-toggleable__label-arrow:hover:before {color: black;}#sk-container-id-7 div.sk-estimator:hover label.sk-toggleable__label-arrow:before {color: black;}#sk-container-id-7 div.sk-toggleable__content {max-height: 0;max-width: 0;overflow: hidden;text-align: left;background-color: #f0f8ff;}#sk-container-id-7 div.sk-toggleable__content pre {margin: 0.2em;color: black;border-radius: 0.25em;background-color: #f0f8ff;}#sk-container-id-7 input.sk-toggleable__control:checked~div.sk-toggleable__content {max-height: 200px;max-width: 100%;overflow: auto;}#sk-container-id-7 input.sk-toggleable__control:checked~label.sk-toggleable__label-arrow:before {content: \"▾\";}#sk-container-id-7 div.sk-estimator input.sk-toggleable__control:checked~label.sk-toggleable__label {background-color: #d4ebff;}#sk-container-id-7 div.sk-label input.sk-toggleable__control:checked~label.sk-toggleable__label {background-color: #d4ebff;}#sk-container-id-7 input.sk-hidden--visually {border: 0;clip: rect(1px 1px 1px 1px);clip: rect(1px, 1px, 1px, 1px);height: 1px;margin: -1px;overflow: hidden;padding: 0;position: absolute;width: 1px;}#sk-container-id-7 div.sk-estimator {font-family: monospace;background-color: #f0f8ff;border: 1px dotted black;border-radius: 0.25em;box-sizing: border-box;margin-bottom: 0.5em;}#sk-container-id-7 div.sk-estimator:hover {background-color: #d4ebff;}#sk-container-id-7 div.sk-parallel-item::after {content: \"\";width: 100%;border-bottom: 1px solid gray;flex-grow: 1;}#sk-container-id-7 div.sk-label:hover label.sk-toggleable__label {background-color: #d4ebff;}#sk-container-id-7 div.sk-serial::before {content: \"\";position: absolute;border-left: 1px solid gray;box-sizing: border-box;top: 0;bottom: 0;left: 50%;z-index: 0;}#sk-container-id-7 div.sk-serial {display: flex;flex-direction: column;align-items: center;background-color: white;padding-right: 0.2em;padding-left: 0.2em;position: relative;}#sk-container-id-7 div.sk-item {position: relative;z-index: 1;}#sk-container-id-7 div.sk-parallel {display: flex;align-items: stretch;justify-content: center;background-color: white;position: relative;}#sk-container-id-7 div.sk-item::before, #sk-container-id-7 div.sk-parallel-item::before {content: \"\";position: absolute;border-left: 1px solid gray;box-sizing: border-box;top: 0;bottom: 0;left: 50%;z-index: -1;}#sk-container-id-7 div.sk-parallel-item {display: flex;flex-direction: column;z-index: 1;position: relative;background-color: white;}#sk-container-id-7 div.sk-parallel-item:first-child::after {align-self: flex-end;width: 50%;}#sk-container-id-7 div.sk-parallel-item:last-child::after {align-self: flex-start;width: 50%;}#sk-container-id-7 div.sk-parallel-item:only-child::after {width: 0;}#sk-container-id-7 div.sk-dashed-wrapped {border: 1px dashed gray;margin: 0 0.4em 0.5em 0.4em;box-sizing: border-box;padding-bottom: 0.4em;background-color: white;}#sk-container-id-7 div.sk-label label {font-family: monospace;font-weight: bold;display: inline-block;line-height: 1.2em;}#sk-container-id-7 div.sk-label-container {text-align: center;}#sk-container-id-7 div.sk-container {/* jupyter's `normalize.less` sets `[hidden] { display: none; }` but bootstrap.min.css set `[hidden] { display: none !important; }` so we also need the `!important` here to be able to override the default hidden behavior on the sphinx rendered scikit-learn.org. See: https://github.com/scikit-learn/scikit-learn/issues/21755 */display: inline-block !important;position: relative;}#sk-container-id-7 div.sk-text-repr-fallback {display: none;}</style><div id=\"sk-container-id-7\" class=\"sk-top-container\"><div class=\"sk-text-repr-fallback\"><pre>Pipeline(steps=[(&#x27;col_transformer&#x27;,\n",
       "                 ColumnTransformer(remainder=&#x27;passthrough&#x27;,\n",
       "                                   transformers=[(&#x27;onehotencoder&#x27;,\n",
       "                                                  OneHotEncoder(drop=&#x27;if_binary&#x27;),\n",
       "                                                  [&#x27;manufacturer&#x27;, &#x27;fuel&#x27;,\n",
       "                                                   &#x27;title_status&#x27;,\n",
       "                                                   &#x27;transmission&#x27;, &#x27;state&#x27;,\n",
       "                                                   &#x27;condition&#x27;, &#x27;drive&#x27;, &#x27;type&#x27;,\n",
       "                                                   &#x27;cylinders&#x27;, &#x27;paint_color&#x27;,\n",
       "                                                   &#x27;size&#x27;])])),\n",
       "                (&#x27;normalize&#x27;,\n",
       "                 QuantileTransformer(output_distribution=&#x27;normal&#x27;)),\n",
       "                (&#x27;scaler&#x27;, StandardScaler(with_mean=False)),\n",
       "                (&#x27;model&#x27;, Ridge(alpha=0.5))])</pre><b>In a Jupyter environment, please rerun this cell to show the HTML representation or trust the notebook. <br />On GitHub, the HTML representation is unable to render, please try loading this page with nbviewer.org.</b></div><div class=\"sk-container\" hidden><div class=\"sk-item sk-dashed-wrapped\"><div class=\"sk-label-container\"><div class=\"sk-label sk-toggleable\"><input class=\"sk-toggleable__control sk-hidden--visually\" id=\"sk-estimator-id-45\" type=\"checkbox\" ><label for=\"sk-estimator-id-45\" class=\"sk-toggleable__label sk-toggleable__label-arrow\">Pipeline</label><div class=\"sk-toggleable__content\"><pre>Pipeline(steps=[(&#x27;col_transformer&#x27;,\n",
       "                 ColumnTransformer(remainder=&#x27;passthrough&#x27;,\n",
       "                                   transformers=[(&#x27;onehotencoder&#x27;,\n",
       "                                                  OneHotEncoder(drop=&#x27;if_binary&#x27;),\n",
       "                                                  [&#x27;manufacturer&#x27;, &#x27;fuel&#x27;,\n",
       "                                                   &#x27;title_status&#x27;,\n",
       "                                                   &#x27;transmission&#x27;, &#x27;state&#x27;,\n",
       "                                                   &#x27;condition&#x27;, &#x27;drive&#x27;, &#x27;type&#x27;,\n",
       "                                                   &#x27;cylinders&#x27;, &#x27;paint_color&#x27;,\n",
       "                                                   &#x27;size&#x27;])])),\n",
       "                (&#x27;normalize&#x27;,\n",
       "                 QuantileTransformer(output_distribution=&#x27;normal&#x27;)),\n",
       "                (&#x27;scaler&#x27;, StandardScaler(with_mean=False)),\n",
       "                (&#x27;model&#x27;, Ridge(alpha=0.5))])</pre></div></div></div><div class=\"sk-serial\"><div class=\"sk-item sk-dashed-wrapped\"><div class=\"sk-label-container\"><div class=\"sk-label sk-toggleable\"><input class=\"sk-toggleable__control sk-hidden--visually\" id=\"sk-estimator-id-46\" type=\"checkbox\" ><label for=\"sk-estimator-id-46\" class=\"sk-toggleable__label sk-toggleable__label-arrow\">col_transformer: ColumnTransformer</label><div class=\"sk-toggleable__content\"><pre>ColumnTransformer(remainder=&#x27;passthrough&#x27;,\n",
       "                  transformers=[(&#x27;onehotencoder&#x27;,\n",
       "                                 OneHotEncoder(drop=&#x27;if_binary&#x27;),\n",
       "                                 [&#x27;manufacturer&#x27;, &#x27;fuel&#x27;, &#x27;title_status&#x27;,\n",
       "                                  &#x27;transmission&#x27;, &#x27;state&#x27;, &#x27;condition&#x27;, &#x27;drive&#x27;,\n",
       "                                  &#x27;type&#x27;, &#x27;cylinders&#x27;, &#x27;paint_color&#x27;,\n",
       "                                  &#x27;size&#x27;])])</pre></div></div></div><div class=\"sk-parallel\"><div class=\"sk-parallel-item\"><div class=\"sk-item\"><div class=\"sk-label-container\"><div class=\"sk-label sk-toggleable\"><input class=\"sk-toggleable__control sk-hidden--visually\" id=\"sk-estimator-id-47\" type=\"checkbox\" ><label for=\"sk-estimator-id-47\" class=\"sk-toggleable__label sk-toggleable__label-arrow\">onehotencoder</label><div class=\"sk-toggleable__content\"><pre>[&#x27;manufacturer&#x27;, &#x27;fuel&#x27;, &#x27;title_status&#x27;, &#x27;transmission&#x27;, &#x27;state&#x27;, &#x27;condition&#x27;, &#x27;drive&#x27;, &#x27;type&#x27;, &#x27;cylinders&#x27;, &#x27;paint_color&#x27;, &#x27;size&#x27;]</pre></div></div></div><div class=\"sk-serial\"><div class=\"sk-item\"><div class=\"sk-estimator sk-toggleable\"><input class=\"sk-toggleable__control sk-hidden--visually\" id=\"sk-estimator-id-48\" type=\"checkbox\" ><label for=\"sk-estimator-id-48\" class=\"sk-toggleable__label sk-toggleable__label-arrow\">OneHotEncoder</label><div class=\"sk-toggleable__content\"><pre>OneHotEncoder(drop=&#x27;if_binary&#x27;)</pre></div></div></div></div></div></div><div class=\"sk-parallel-item\"><div class=\"sk-item\"><div class=\"sk-label-container\"><div class=\"sk-label sk-toggleable\"><input class=\"sk-toggleable__control sk-hidden--visually\" id=\"sk-estimator-id-49\" type=\"checkbox\" ><label for=\"sk-estimator-id-49\" class=\"sk-toggleable__label sk-toggleable__label-arrow\">remainder</label><div class=\"sk-toggleable__content\"><pre>[&#x27;year&#x27;, &#x27;odometer&#x27;]</pre></div></div></div><div class=\"sk-serial\"><div class=\"sk-item\"><div class=\"sk-estimator sk-toggleable\"><input class=\"sk-toggleable__control sk-hidden--visually\" id=\"sk-estimator-id-50\" type=\"checkbox\" ><label for=\"sk-estimator-id-50\" class=\"sk-toggleable__label sk-toggleable__label-arrow\">passthrough</label><div class=\"sk-toggleable__content\"><pre>passthrough</pre></div></div></div></div></div></div></div></div><div class=\"sk-item\"><div class=\"sk-estimator sk-toggleable\"><input class=\"sk-toggleable__control sk-hidden--visually\" id=\"sk-estimator-id-51\" type=\"checkbox\" ><label for=\"sk-estimator-id-51\" class=\"sk-toggleable__label sk-toggleable__label-arrow\">QuantileTransformer</label><div class=\"sk-toggleable__content\"><pre>QuantileTransformer(output_distribution=&#x27;normal&#x27;)</pre></div></div></div><div class=\"sk-item\"><div class=\"sk-estimator sk-toggleable\"><input class=\"sk-toggleable__control sk-hidden--visually\" id=\"sk-estimator-id-52\" type=\"checkbox\" ><label for=\"sk-estimator-id-52\" class=\"sk-toggleable__label sk-toggleable__label-arrow\">StandardScaler</label><div class=\"sk-toggleable__content\"><pre>StandardScaler(with_mean=False)</pre></div></div></div><div class=\"sk-item\"><div class=\"sk-estimator sk-toggleable\"><input class=\"sk-toggleable__control sk-hidden--visually\" id=\"sk-estimator-id-53\" type=\"checkbox\" ><label for=\"sk-estimator-id-53\" class=\"sk-toggleable__label sk-toggleable__label-arrow\">Ridge</label><div class=\"sk-toggleable__content\"><pre>Ridge(alpha=0.5)</pre></div></div></div></div></div></div></div>"
      ],
      "text/plain": [
       "Pipeline(steps=[('col_transformer',\n",
       "                 ColumnTransformer(remainder='passthrough',\n",
       "                                   transformers=[('onehotencoder',\n",
       "                                                  OneHotEncoder(drop='if_binary'),\n",
       "                                                  ['manufacturer', 'fuel',\n",
       "                                                   'title_status',\n",
       "                                                   'transmission', 'state',\n",
       "                                                   'condition', 'drive', 'type',\n",
       "                                                   'cylinders', 'paint_color',\n",
       "                                                   'size'])])),\n",
       "                ('normalize',\n",
       "                 QuantileTransformer(output_distribution='normal')),\n",
       "                ('scaler', StandardScaler(with_mean=False)),\n",
       "                ('model', Ridge(alpha=0.5))])"
      ]
     },
     "execution_count": 69,
     "metadata": {},
     "output_type": "execute_result"
    }
   ],
   "source": [
    "pipe = Pipeline([\n",
    "                ('col_transformer', col_transformer), \n",
    "                ('normalize', QuantileTransformer(output_distribution='normal')),\n",
    "                ('scaler', StandardScaler(with_mean=False)), \n",
    "                #('selector', SequentialFeatureSelector(Lasso(), n_features_to_select=4)),\n",
    "                ('model', Ridge(alpha=0.5))])\n",
    "\n",
    "pipe"
   ]
  },
  {
   "cell_type": "code",
   "execution_count": 70,
   "metadata": {},
   "outputs": [
    {
     "name": "stdout",
     "output_type": "stream",
     "text": [
      "Train Ridge RMSE:  8685.808215391724\n",
      "Test Ridge RMSE:   8647.33973782296\n"
     ]
    }
   ],
   "source": [
    "X = cars_clean.drop('price', axis = 1)\n",
    "\n",
    "y = cars_clean['price']\n",
    "\n",
    "X_train, X_test, y_train, y_test = train_test_split(X, y, test_size=0.30, random_state=45)\n",
    "\n",
    "pipe.fit(X_train, y_train)\n",
    "\n",
    "ridge_preds_train = pipe.predict(X_train)\n",
    "ridge_preds_test = pipe.predict(X_test)\n",
    "\n",
    "ridge_train_mse = root_mean_squared_error(y_train, ridge_preds_train)\n",
    "ridge_test_mse = root_mean_squared_error(y_test, ridge_preds_test)\n",
    "\n",
    "print('Train Ridge RMSE: ', ridge_train_mse)\n",
    "print('Test Ridge RMSE:  ', ridge_test_mse)"
   ]
  },
  {
   "cell_type": "code",
   "execution_count": null,
   "metadata": {},
   "outputs": [],
   "source": []
  },
  {
   "cell_type": "code",
   "execution_count": 71,
   "metadata": {},
   "outputs": [
    {
     "data": {
      "text/html": [
       "<style>#sk-container-id-8 {color: black;}#sk-container-id-8 pre{padding: 0;}#sk-container-id-8 div.sk-toggleable {background-color: white;}#sk-container-id-8 label.sk-toggleable__label {cursor: pointer;display: block;width: 100%;margin-bottom: 0;padding: 0.3em;box-sizing: border-box;text-align: center;}#sk-container-id-8 label.sk-toggleable__label-arrow:before {content: \"▸\";float: left;margin-right: 0.25em;color: #696969;}#sk-container-id-8 label.sk-toggleable__label-arrow:hover:before {color: black;}#sk-container-id-8 div.sk-estimator:hover label.sk-toggleable__label-arrow:before {color: black;}#sk-container-id-8 div.sk-toggleable__content {max-height: 0;max-width: 0;overflow: hidden;text-align: left;background-color: #f0f8ff;}#sk-container-id-8 div.sk-toggleable__content pre {margin: 0.2em;color: black;border-radius: 0.25em;background-color: #f0f8ff;}#sk-container-id-8 input.sk-toggleable__control:checked~div.sk-toggleable__content {max-height: 200px;max-width: 100%;overflow: auto;}#sk-container-id-8 input.sk-toggleable__control:checked~label.sk-toggleable__label-arrow:before {content: \"▾\";}#sk-container-id-8 div.sk-estimator input.sk-toggleable__control:checked~label.sk-toggleable__label {background-color: #d4ebff;}#sk-container-id-8 div.sk-label input.sk-toggleable__control:checked~label.sk-toggleable__label {background-color: #d4ebff;}#sk-container-id-8 input.sk-hidden--visually {border: 0;clip: rect(1px 1px 1px 1px);clip: rect(1px, 1px, 1px, 1px);height: 1px;margin: -1px;overflow: hidden;padding: 0;position: absolute;width: 1px;}#sk-container-id-8 div.sk-estimator {font-family: monospace;background-color: #f0f8ff;border: 1px dotted black;border-radius: 0.25em;box-sizing: border-box;margin-bottom: 0.5em;}#sk-container-id-8 div.sk-estimator:hover {background-color: #d4ebff;}#sk-container-id-8 div.sk-parallel-item::after {content: \"\";width: 100%;border-bottom: 1px solid gray;flex-grow: 1;}#sk-container-id-8 div.sk-label:hover label.sk-toggleable__label {background-color: #d4ebff;}#sk-container-id-8 div.sk-serial::before {content: \"\";position: absolute;border-left: 1px solid gray;box-sizing: border-box;top: 0;bottom: 0;left: 50%;z-index: 0;}#sk-container-id-8 div.sk-serial {display: flex;flex-direction: column;align-items: center;background-color: white;padding-right: 0.2em;padding-left: 0.2em;position: relative;}#sk-container-id-8 div.sk-item {position: relative;z-index: 1;}#sk-container-id-8 div.sk-parallel {display: flex;align-items: stretch;justify-content: center;background-color: white;position: relative;}#sk-container-id-8 div.sk-item::before, #sk-container-id-8 div.sk-parallel-item::before {content: \"\";position: absolute;border-left: 1px solid gray;box-sizing: border-box;top: 0;bottom: 0;left: 50%;z-index: -1;}#sk-container-id-8 div.sk-parallel-item {display: flex;flex-direction: column;z-index: 1;position: relative;background-color: white;}#sk-container-id-8 div.sk-parallel-item:first-child::after {align-self: flex-end;width: 50%;}#sk-container-id-8 div.sk-parallel-item:last-child::after {align-self: flex-start;width: 50%;}#sk-container-id-8 div.sk-parallel-item:only-child::after {width: 0;}#sk-container-id-8 div.sk-dashed-wrapped {border: 1px dashed gray;margin: 0 0.4em 0.5em 0.4em;box-sizing: border-box;padding-bottom: 0.4em;background-color: white;}#sk-container-id-8 div.sk-label label {font-family: monospace;font-weight: bold;display: inline-block;line-height: 1.2em;}#sk-container-id-8 div.sk-label-container {text-align: center;}#sk-container-id-8 div.sk-container {/* jupyter's `normalize.less` sets `[hidden] { display: none; }` but bootstrap.min.css set `[hidden] { display: none !important; }` so we also need the `!important` here to be able to override the default hidden behavior on the sphinx rendered scikit-learn.org. See: https://github.com/scikit-learn/scikit-learn/issues/21755 */display: inline-block !important;position: relative;}#sk-container-id-8 div.sk-text-repr-fallback {display: none;}</style><div id=\"sk-container-id-8\" class=\"sk-top-container\"><div class=\"sk-text-repr-fallback\"><pre>Pipeline(steps=[(&#x27;col_transformer&#x27;,\n",
       "                 ColumnTransformer(remainder=&#x27;passthrough&#x27;,\n",
       "                                   transformers=[(&#x27;onehotencoder&#x27;,\n",
       "                                                  OneHotEncoder(drop=&#x27;if_binary&#x27;),\n",
       "                                                  [&#x27;manufacturer&#x27;, &#x27;fuel&#x27;,\n",
       "                                                   &#x27;title_status&#x27;,\n",
       "                                                   &#x27;transmission&#x27;, &#x27;state&#x27;,\n",
       "                                                   &#x27;condition&#x27;, &#x27;drive&#x27;, &#x27;type&#x27;,\n",
       "                                                   &#x27;cylinders&#x27;, &#x27;paint_color&#x27;,\n",
       "                                                   &#x27;size&#x27;])])),\n",
       "                (&#x27;normalize&#x27;,\n",
       "                 QuantileTransformer(output_distribution=&#x27;normal&#x27;)),\n",
       "                (&#x27;scaler&#x27;, StandardScaler(with_mean=False)),\n",
       "                (&#x27;model&#x27;, LinearRegression())])</pre><b>In a Jupyter environment, please rerun this cell to show the HTML representation or trust the notebook. <br />On GitHub, the HTML representation is unable to render, please try loading this page with nbviewer.org.</b></div><div class=\"sk-container\" hidden><div class=\"sk-item sk-dashed-wrapped\"><div class=\"sk-label-container\"><div class=\"sk-label sk-toggleable\"><input class=\"sk-toggleable__control sk-hidden--visually\" id=\"sk-estimator-id-54\" type=\"checkbox\" ><label for=\"sk-estimator-id-54\" class=\"sk-toggleable__label sk-toggleable__label-arrow\">Pipeline</label><div class=\"sk-toggleable__content\"><pre>Pipeline(steps=[(&#x27;col_transformer&#x27;,\n",
       "                 ColumnTransformer(remainder=&#x27;passthrough&#x27;,\n",
       "                                   transformers=[(&#x27;onehotencoder&#x27;,\n",
       "                                                  OneHotEncoder(drop=&#x27;if_binary&#x27;),\n",
       "                                                  [&#x27;manufacturer&#x27;, &#x27;fuel&#x27;,\n",
       "                                                   &#x27;title_status&#x27;,\n",
       "                                                   &#x27;transmission&#x27;, &#x27;state&#x27;,\n",
       "                                                   &#x27;condition&#x27;, &#x27;drive&#x27;, &#x27;type&#x27;,\n",
       "                                                   &#x27;cylinders&#x27;, &#x27;paint_color&#x27;,\n",
       "                                                   &#x27;size&#x27;])])),\n",
       "                (&#x27;normalize&#x27;,\n",
       "                 QuantileTransformer(output_distribution=&#x27;normal&#x27;)),\n",
       "                (&#x27;scaler&#x27;, StandardScaler(with_mean=False)),\n",
       "                (&#x27;model&#x27;, LinearRegression())])</pre></div></div></div><div class=\"sk-serial\"><div class=\"sk-item sk-dashed-wrapped\"><div class=\"sk-label-container\"><div class=\"sk-label sk-toggleable\"><input class=\"sk-toggleable__control sk-hidden--visually\" id=\"sk-estimator-id-55\" type=\"checkbox\" ><label for=\"sk-estimator-id-55\" class=\"sk-toggleable__label sk-toggleable__label-arrow\">col_transformer: ColumnTransformer</label><div class=\"sk-toggleable__content\"><pre>ColumnTransformer(remainder=&#x27;passthrough&#x27;,\n",
       "                  transformers=[(&#x27;onehotencoder&#x27;,\n",
       "                                 OneHotEncoder(drop=&#x27;if_binary&#x27;),\n",
       "                                 [&#x27;manufacturer&#x27;, &#x27;fuel&#x27;, &#x27;title_status&#x27;,\n",
       "                                  &#x27;transmission&#x27;, &#x27;state&#x27;, &#x27;condition&#x27;, &#x27;drive&#x27;,\n",
       "                                  &#x27;type&#x27;, &#x27;cylinders&#x27;, &#x27;paint_color&#x27;,\n",
       "                                  &#x27;size&#x27;])])</pre></div></div></div><div class=\"sk-parallel\"><div class=\"sk-parallel-item\"><div class=\"sk-item\"><div class=\"sk-label-container\"><div class=\"sk-label sk-toggleable\"><input class=\"sk-toggleable__control sk-hidden--visually\" id=\"sk-estimator-id-56\" type=\"checkbox\" ><label for=\"sk-estimator-id-56\" class=\"sk-toggleable__label sk-toggleable__label-arrow\">onehotencoder</label><div class=\"sk-toggleable__content\"><pre>[&#x27;manufacturer&#x27;, &#x27;fuel&#x27;, &#x27;title_status&#x27;, &#x27;transmission&#x27;, &#x27;state&#x27;, &#x27;condition&#x27;, &#x27;drive&#x27;, &#x27;type&#x27;, &#x27;cylinders&#x27;, &#x27;paint_color&#x27;, &#x27;size&#x27;]</pre></div></div></div><div class=\"sk-serial\"><div class=\"sk-item\"><div class=\"sk-estimator sk-toggleable\"><input class=\"sk-toggleable__control sk-hidden--visually\" id=\"sk-estimator-id-57\" type=\"checkbox\" ><label for=\"sk-estimator-id-57\" class=\"sk-toggleable__label sk-toggleable__label-arrow\">OneHotEncoder</label><div class=\"sk-toggleable__content\"><pre>OneHotEncoder(drop=&#x27;if_binary&#x27;)</pre></div></div></div></div></div></div><div class=\"sk-parallel-item\"><div class=\"sk-item\"><div class=\"sk-label-container\"><div class=\"sk-label sk-toggleable\"><input class=\"sk-toggleable__control sk-hidden--visually\" id=\"sk-estimator-id-58\" type=\"checkbox\" ><label for=\"sk-estimator-id-58\" class=\"sk-toggleable__label sk-toggleable__label-arrow\">remainder</label><div class=\"sk-toggleable__content\"><pre>[&#x27;year&#x27;, &#x27;odometer&#x27;]</pre></div></div></div><div class=\"sk-serial\"><div class=\"sk-item\"><div class=\"sk-estimator sk-toggleable\"><input class=\"sk-toggleable__control sk-hidden--visually\" id=\"sk-estimator-id-59\" type=\"checkbox\" ><label for=\"sk-estimator-id-59\" class=\"sk-toggleable__label sk-toggleable__label-arrow\">passthrough</label><div class=\"sk-toggleable__content\"><pre>passthrough</pre></div></div></div></div></div></div></div></div><div class=\"sk-item\"><div class=\"sk-estimator sk-toggleable\"><input class=\"sk-toggleable__control sk-hidden--visually\" id=\"sk-estimator-id-60\" type=\"checkbox\" ><label for=\"sk-estimator-id-60\" class=\"sk-toggleable__label sk-toggleable__label-arrow\">QuantileTransformer</label><div class=\"sk-toggleable__content\"><pre>QuantileTransformer(output_distribution=&#x27;normal&#x27;)</pre></div></div></div><div class=\"sk-item\"><div class=\"sk-estimator sk-toggleable\"><input class=\"sk-toggleable__control sk-hidden--visually\" id=\"sk-estimator-id-61\" type=\"checkbox\" ><label for=\"sk-estimator-id-61\" class=\"sk-toggleable__label sk-toggleable__label-arrow\">StandardScaler</label><div class=\"sk-toggleable__content\"><pre>StandardScaler(with_mean=False)</pre></div></div></div><div class=\"sk-item\"><div class=\"sk-estimator sk-toggleable\"><input class=\"sk-toggleable__control sk-hidden--visually\" id=\"sk-estimator-id-62\" type=\"checkbox\" ><label for=\"sk-estimator-id-62\" class=\"sk-toggleable__label sk-toggleable__label-arrow\">LinearRegression</label><div class=\"sk-toggleable__content\"><pre>LinearRegression()</pre></div></div></div></div></div></div></div>"
      ],
      "text/plain": [
       "Pipeline(steps=[('col_transformer',\n",
       "                 ColumnTransformer(remainder='passthrough',\n",
       "                                   transformers=[('onehotencoder',\n",
       "                                                  OneHotEncoder(drop='if_binary'),\n",
       "                                                  ['manufacturer', 'fuel',\n",
       "                                                   'title_status',\n",
       "                                                   'transmission', 'state',\n",
       "                                                   'condition', 'drive', 'type',\n",
       "                                                   'cylinders', 'paint_color',\n",
       "                                                   'size'])])),\n",
       "                ('normalize',\n",
       "                 QuantileTransformer(output_distribution='normal')),\n",
       "                ('scaler', StandardScaler(with_mean=False)),\n",
       "                ('model', LinearRegression())])"
      ]
     },
     "execution_count": 71,
     "metadata": {},
     "output_type": "execute_result"
    }
   ],
   "source": [
    "pipe = Pipeline([\n",
    "                ('col_transformer', col_transformer), \n",
    "                ('normalize', QuantileTransformer(output_distribution='normal')),\n",
    "                ('scaler', StandardScaler(with_mean=False)), \n",
    "                ('model', LinearRegression())])\n",
    "\n",
    "pipe"
   ]
  },
  {
   "cell_type": "code",
   "execution_count": 72,
   "metadata": {},
   "outputs": [
    {
     "name": "stdout",
     "output_type": "stream",
     "text": [
      "Train LinReg RMSE:  8679.78122915222\n",
      "Test LinReg RMSE:   8641.088610333409\n"
     ]
    }
   ],
   "source": [
    "X = cars_clean.drop('price', axis = 1)\n",
    "\n",
    "y = cars_clean['price']\n",
    "\n",
    "X_train, X_test, y_train, y_test = train_test_split(X, y, test_size=0.30, random_state=45)\n",
    "\n",
    "pipe.fit(X_train, y_train)\n",
    "\n",
    "linreg_preds_train = pipe.predict(X_train)\n",
    "linreg_preds_test = pipe.predict(X_test)\n",
    "\n",
    "linreg_train_mse = root_mean_squared_error(y_train, linreg_preds_train)\n",
    "linreg_test_mse = root_mean_squared_error(y_test, linreg_preds_test)\n",
    "\n",
    "print('Train LinReg RMSE: ', linreg_train_mse)\n",
    "print('Test LinReg RMSE:  ', linreg_test_mse)"
   ]
  },
  {
   "cell_type": "code",
   "execution_count": null,
   "metadata": {},
   "outputs": [],
   "source": []
  },
  {
   "cell_type": "code",
   "execution_count": 73,
   "metadata": {},
   "outputs": [],
   "source": [
    "new_df = X_train.drop(['year', 'manufacturer', 'condition', 'fuel', 'odometer', 'title_status','transmission', 'drive', 'size', \n",
    "                       'type', 'paint_color', 'state', 'cylinders'], axis=1)\n",
    "new_df['price'] = y_train\n",
    "new_df['Lasso'] = lasso_preds_train\n",
    "new_df['Ridge'] = ridge_preds_train\n",
    "new_df['LinReg'] = linreg_preds_train"
   ]
  },
  {
   "cell_type": "code",
   "execution_count": 74,
   "metadata": {},
   "outputs": [
    {
     "data": {
      "text/html": [
       "<div>\n",
       "<style scoped>\n",
       "    .dataframe tbody tr th:only-of-type {\n",
       "        vertical-align: middle;\n",
       "    }\n",
       "\n",
       "    .dataframe tbody tr th {\n",
       "        vertical-align: top;\n",
       "    }\n",
       "\n",
       "    .dataframe thead th {\n",
       "        text-align: right;\n",
       "    }\n",
       "</style>\n",
       "<table border=\"1\" class=\"dataframe\">\n",
       "  <thead>\n",
       "    <tr style=\"text-align: right;\">\n",
       "      <th></th>\n",
       "      <th>price</th>\n",
       "      <th>Lasso</th>\n",
       "      <th>Ridge</th>\n",
       "      <th>LinReg</th>\n",
       "    </tr>\n",
       "  </thead>\n",
       "  <tbody>\n",
       "    <tr>\n",
       "      <th>50306</th>\n",
       "      <td>14995</td>\n",
       "      <td>14644.407837</td>\n",
       "      <td>14537.556594</td>\n",
       "      <td>14622.094321</td>\n",
       "    </tr>\n",
       "    <tr>\n",
       "      <th>324563</th>\n",
       "      <td>194</td>\n",
       "      <td>13081.058912</td>\n",
       "      <td>13069.149943</td>\n",
       "      <td>13068.789174</td>\n",
       "    </tr>\n",
       "    <tr>\n",
       "      <th>300637</th>\n",
       "      <td>8995</td>\n",
       "      <td>4773.608258</td>\n",
       "      <td>4715.055318</td>\n",
       "      <td>4771.352185</td>\n",
       "    </tr>\n",
       "    <tr>\n",
       "      <th>2534</th>\n",
       "      <td>39590</td>\n",
       "      <td>41737.627916</td>\n",
       "      <td>41847.239315</td>\n",
       "      <td>41780.093587</td>\n",
       "    </tr>\n",
       "    <tr>\n",
       "      <th>149410</th>\n",
       "      <td>18475</td>\n",
       "      <td>24876.731097</td>\n",
       "      <td>24812.729190</td>\n",
       "      <td>24736.974918</td>\n",
       "    </tr>\n",
       "    <tr>\n",
       "      <th>202292</th>\n",
       "      <td>8997</td>\n",
       "      <td>10570.076804</td>\n",
       "      <td>10739.053507</td>\n",
       "      <td>10591.937515</td>\n",
       "    </tr>\n",
       "    <tr>\n",
       "      <th>73759</th>\n",
       "      <td>17990</td>\n",
       "      <td>15504.764329</td>\n",
       "      <td>15483.689192</td>\n",
       "      <td>15395.853796</td>\n",
       "    </tr>\n",
       "    <tr>\n",
       "      <th>56455</th>\n",
       "      <td>13500</td>\n",
       "      <td>14692.874278</td>\n",
       "      <td>14677.077328</td>\n",
       "      <td>14585.569432</td>\n",
       "    </tr>\n",
       "    <tr>\n",
       "      <th>384657</th>\n",
       "      <td>29590</td>\n",
       "      <td>28211.911341</td>\n",
       "      <td>28218.655759</td>\n",
       "      <td>28067.339041</td>\n",
       "    </tr>\n",
       "    <tr>\n",
       "      <th>124783</th>\n",
       "      <td>14590</td>\n",
       "      <td>19460.408817</td>\n",
       "      <td>19396.010648</td>\n",
       "      <td>19441.355775</td>\n",
       "    </tr>\n",
       "  </tbody>\n",
       "</table>\n",
       "</div>"
      ],
      "text/plain": [
       "        price         Lasso         Ridge        LinReg\n",
       "50306   14995  14644.407837  14537.556594  14622.094321\n",
       "324563    194  13081.058912  13069.149943  13068.789174\n",
       "300637   8995   4773.608258   4715.055318   4771.352185\n",
       "2534    39590  41737.627916  41847.239315  41780.093587\n",
       "149410  18475  24876.731097  24812.729190  24736.974918\n",
       "202292   8997  10570.076804  10739.053507  10591.937515\n",
       "73759   17990  15504.764329  15483.689192  15395.853796\n",
       "56455   13500  14692.874278  14677.077328  14585.569432\n",
       "384657  29590  28211.911341  28218.655759  28067.339041\n",
       "124783  14590  19460.408817  19396.010648  19441.355775"
      ]
     },
     "execution_count": 74,
     "metadata": {},
     "output_type": "execute_result"
    }
   ],
   "source": [
    "new_df.head(10)"
   ]
  },
  {
   "cell_type": "code",
   "execution_count": 75,
   "metadata": {},
   "outputs": [
    {
     "data": {
      "application/vnd.plotly.v1+json": {
       "config": {
        "plotlyServerURL": "https://plot.ly"
       },
       "data": [
        {
         "hovertemplate": "variable=price<br>index=%{x}<br>value=%{y}<extra></extra>",
         "legendgroup": "price",
         "line": {
          "color": "#636efa",
          "dash": "solid"
         },
         "marker": {
          "symbol": "circle"
         },
         "mode": "lines",
         "name": "price",
         "orientation": "v",
         "showlegend": true,
         "type": "scatter",
         "x": [
          5034,
          5037,
          5039,
          5040,
          5041,
          5042,
          5043,
          5044,
          5045,
          5046,
          5048,
          5049,
          5053,
          5054,
          5055,
          5056,
          5058,
          5059,
          5060,
          5062,
          5063,
          5064,
          5065,
          5067,
          5068,
          5071,
          5073,
          5076,
          5078,
          5079,
          5080,
          5081,
          5086,
          5088,
          5091,
          5092,
          5094,
          5096,
          5097,
          5098,
          5099,
          5101,
          5102,
          5103,
          5104,
          5105,
          5106,
          5107,
          5108,
          5109,
          5111,
          5112,
          5113,
          5114,
          5115,
          5116,
          5118,
          5119,
          5120,
          5121,
          5123,
          5124,
          5125,
          5127,
          5128,
          5129,
          5130,
          5131,
          5135,
          5137,
          5138,
          5139,
          5140,
          5142,
          5143,
          5145,
          5147,
          5150,
          5151,
          5153,
          5154,
          5155,
          5156,
          5157,
          5158,
          5160,
          5161,
          5163,
          5166,
          5167,
          5168,
          5171,
          5173,
          5176,
          5177,
          5179,
          5180,
          5181,
          5182,
          5183
         ],
         "xaxis": "x",
         "y": [
          12950,
          11000,
          29995,
          33900,
          34500,
          44995,
          9995,
          63995,
          1900,
          43995,
          59995,
          45995,
          5500,
          8300,
          6500,
          30000,
          24995,
          26995,
          15495,
          34995,
          33995,
          98995,
          17995,
          19995,
          13995,
          27995,
          17995,
          33750,
          16995,
          19995,
          28995,
          16995,
          2500,
          39995,
          53900,
          29995,
          29995,
          79900,
          6995,
          13995,
          13995,
          5900,
          13900,
          20995,
          7000,
          26995,
          62900,
          49900,
          78900,
          26995,
          15000,
          9995,
          9995,
          4295,
          4900,
          19995,
          13850,
          1234,
          11900,
          3500,
          6400,
          13800,
          29995,
          19899,
          3000,
          46000,
          18950,
          1850,
          69500,
          16500,
          11950,
          14500,
          13850,
          10950,
          9850,
          3800,
          5500,
          35000,
          4995,
          7000,
          15000,
          5000,
          14000,
          23999,
          18950,
          6950,
          4900,
          6950,
          2000,
          17500,
          3795,
          8000,
          44995,
          4300,
          14500,
          46900,
          40988,
          38988,
          14988,
          46988
         ],
         "yaxis": "y"
        },
        {
         "hovertemplate": "variable=Lasso<br>index=%{x}<br>value=%{y}<extra></extra>",
         "legendgroup": "Lasso",
         "line": {
          "color": "#EF553B",
          "dash": "solid"
         },
         "marker": {
          "symbol": "circle"
         },
         "mode": "lines",
         "name": "Lasso",
         "orientation": "v",
         "showlegend": true,
         "type": "scatter",
         "x": [
          5034,
          5037,
          5039,
          5040,
          5041,
          5042,
          5043,
          5044,
          5045,
          5046,
          5048,
          5049,
          5053,
          5054,
          5055,
          5056,
          5058,
          5059,
          5060,
          5062,
          5063,
          5064,
          5065,
          5067,
          5068,
          5071,
          5073,
          5076,
          5078,
          5079,
          5080,
          5081,
          5086,
          5088,
          5091,
          5092,
          5094,
          5096,
          5097,
          5098,
          5099,
          5101,
          5102,
          5103,
          5104,
          5105,
          5106,
          5107,
          5108,
          5109,
          5111,
          5112,
          5113,
          5114,
          5115,
          5116,
          5118,
          5119,
          5120,
          5121,
          5123,
          5124,
          5125,
          5127,
          5128,
          5129,
          5130,
          5131,
          5135,
          5137,
          5138,
          5139,
          5140,
          5142,
          5143,
          5145,
          5147,
          5150,
          5151,
          5153,
          5154,
          5155,
          5156,
          5157,
          5158,
          5160,
          5161,
          5163,
          5166,
          5167,
          5168,
          5171,
          5173,
          5176,
          5177,
          5179,
          5180,
          5181,
          5182,
          5183
         ],
         "xaxis": "x",
         "y": [
          19351.582277530866,
          20497.803667378023,
          30134.88573603564,
          46718.81397829991,
          35221.81569200329,
          34813.8723496949,
          11464.046160845657,
          46166.8561813634,
          -3551.68741897755,
          45663.9488374235,
          36502.07317630156,
          30147.68634908339,
          5705.865613368582,
          8908.878657060843,
          1220.7756545273787,
          1380.3855543585687,
          21084.8224521006,
          30874.294747979402,
          12900.643594435704,
          26943.52077294625,
          26250.751260109428,
          42622.7421508142,
          18051.498216654236,
          21941.453159253077,
          13095.34389439566,
          26179.510933277244,
          22822.98798957908,
          28146.246911250055,
          25259.47620607551,
          21684.61604974095,
          31633.507159960696,
          17035.85208046686,
          11264.047294484395,
          27653.832975984915,
          27701.76221860311,
          26149.75870902183,
          30521.598245474095,
          33938.91062104553,
          13655.026893792045,
          21213.311768916647,
          20413.27078651693,
          9298.097158270983,
          17999.709897339042,
          25154.226138016544,
          7436.742536179245,
          34100.42513004505,
          39247.07336946005,
          31650.496136915637,
          38453.21866990117,
          30155.141653780516,
          19646.15507791161,
          15635.163488644721,
          11621.043685050641,
          9155.48532769491,
          4999.171146778432,
          19748.156868977323,
          21420.25139437439,
          -3057.7988162746205,
          10214.96953402535,
          8226.65127496844,
          6150.764290621886,
          22647.035123479513,
          27184.30387768593,
          20485.456403468066,
          9076.776073616904,
          41253.918684132834,
          36797.49221345325,
          12151.48605608344,
          45503.86650047417,
          20247.887655389248,
          13747.635769030641,
          22803.615119193008,
          21420.25139437439,
          13991.640421102797,
          14755.082135747018,
          13097.720568970106,
          10772.307044126163,
          26909.94406154805,
          7252.041248539025,
          4319.268507355218,
          17910.796118262813,
          11900.811709442289,
          20834.219577894422,
          31375.639579984512,
          24851.013191672282,
          -530.2812345433904,
          4999.171146778432,
          6513.868639541948,
          -183.6850401777574,
          11910.05248378485,
          10911.470979807826,
          8238.461624254593,
          36885.12135648321,
          7670.161055852349,
          11676.34757245186,
          29457.810531312396,
          38361.015134855006,
          38368.55846207206,
          23239.85263881665,
          29311.97099878194
         ],
         "yaxis": "y"
        },
        {
         "hovertemplate": "variable=Ridge<br>index=%{x}<br>value=%{y}<extra></extra>",
         "legendgroup": "Ridge",
         "line": {
          "color": "#00cc96",
          "dash": "solid"
         },
         "marker": {
          "symbol": "circle"
         },
         "mode": "lines",
         "name": "Ridge",
         "orientation": "v",
         "showlegend": true,
         "type": "scatter",
         "x": [
          5034,
          5037,
          5039,
          5040,
          5041,
          5042,
          5043,
          5044,
          5045,
          5046,
          5048,
          5049,
          5053,
          5054,
          5055,
          5056,
          5058,
          5059,
          5060,
          5062,
          5063,
          5064,
          5065,
          5067,
          5068,
          5071,
          5073,
          5076,
          5078,
          5079,
          5080,
          5081,
          5086,
          5088,
          5091,
          5092,
          5094,
          5096,
          5097,
          5098,
          5099,
          5101,
          5102,
          5103,
          5104,
          5105,
          5106,
          5107,
          5108,
          5109,
          5111,
          5112,
          5113,
          5114,
          5115,
          5116,
          5118,
          5119,
          5120,
          5121,
          5123,
          5124,
          5125,
          5127,
          5128,
          5129,
          5130,
          5131,
          5135,
          5137,
          5138,
          5139,
          5140,
          5142,
          5143,
          5145,
          5147,
          5150,
          5151,
          5153,
          5154,
          5155,
          5156,
          5157,
          5158,
          5160,
          5161,
          5163,
          5166,
          5167,
          5168,
          5171,
          5173,
          5176,
          5177,
          5179,
          5180,
          5181,
          5182,
          5183
         ],
         "xaxis": "x",
         "y": [
          19317.400951576703,
          20428.168045088387,
          30062.5179694692,
          46744.221173830934,
          35030.42331899828,
          34763.09342852012,
          11548.662605497919,
          46163.08678179321,
          -3435.573570845587,
          45820.96787860659,
          36433.19735071597,
          30087.657887236157,
          5786.840725134294,
          8926.407605261515,
          1247.8574364592605,
          1516.3999134714977,
          21132.383702742445,
          31011.13782321273,
          12878.377211381972,
          26843.541458784723,
          26225.347567610694,
          42500.2861652453,
          18012.003524675692,
          21947.5344558369,
          12973.353368401986,
          26151.92121580371,
          22835.065304318552,
          28146.4888195405,
          25214.38135620372,
          21617.613264596745,
          31581.781415289683,
          16965.66533170979,
          11236.675054177837,
          27700.77058976316,
          27728.265890484865,
          26123.313296852786,
          30488.620561126147,
          33916.54367701574,
          13715.364726941503,
          21173.955236721904,
          20378.58184377128,
          9353.48849899428,
          18198.625577333525,
          25242.798230198565,
          7521.214109989687,
          34025.756619911765,
          39203.79054306583,
          31474.00805299365,
          38405.6407270495,
          30160.0007314975,
          19652.360032627348,
          15579.719530485576,
          11594.680067037894,
          9249.785433361436,
          5111.396631141597,
          19675.870926123032,
          21470.89172134801,
          -3261.5816539013103,
          10386.953077251328,
          8284.982791968192,
          6221.616745321591,
          22594.344263029398,
          27155.6994668946,
          20433.93257392791,
          9012.377678857345,
          41394.35417747089,
          36883.90624953431,
          12192.47387354555,
          45555.234691374986,
          20218.20774010669,
          13732.184316144558,
          22832.506151781257,
          21470.89172134801,
          13945.299734160395,
          14823.274425656802,
          13067.93346233552,
          10955.217129397475,
          26955.8573191313,
          7364.454157818331,
          4445.1879266426,
          17757.44957241931,
          11950.249276045994,
          20802.90096848277,
          31277.81763265764,
          24876.818878991486,
          -615.9719801505089,
          5111.396631141597,
          6617.7785662230435,
          -140.93430268062002,
          12054.825672445355,
          11127.108664061207,
          8288.767146278282,
          36802.63595891054,
          7584.8949184176145,
          11812.652285504537,
          29358.088528001834,
          38540.52603049407,
          38386.437177805914,
          23244.435751362347,
          29288.919003884574
         ],
         "yaxis": "y"
        },
        {
         "hovertemplate": "variable=LinReg<br>index=%{x}<br>value=%{y}<extra></extra>",
         "legendgroup": "LinReg",
         "line": {
          "color": "#ab63fa",
          "dash": "solid"
         },
         "marker": {
          "symbol": "circle"
         },
         "mode": "lines",
         "name": "LinReg",
         "orientation": "v",
         "showlegend": true,
         "type": "scatter",
         "x": [
          5034,
          5037,
          5039,
          5040,
          5041,
          5042,
          5043,
          5044,
          5045,
          5046,
          5048,
          5049,
          5053,
          5054,
          5055,
          5056,
          5058,
          5059,
          5060,
          5062,
          5063,
          5064,
          5065,
          5067,
          5068,
          5071,
          5073,
          5076,
          5078,
          5079,
          5080,
          5081,
          5086,
          5088,
          5091,
          5092,
          5094,
          5096,
          5097,
          5098,
          5099,
          5101,
          5102,
          5103,
          5104,
          5105,
          5106,
          5107,
          5108,
          5109,
          5111,
          5112,
          5113,
          5114,
          5115,
          5116,
          5118,
          5119,
          5120,
          5121,
          5123,
          5124,
          5125,
          5127,
          5128,
          5129,
          5130,
          5131,
          5135,
          5137,
          5138,
          5139,
          5140,
          5142,
          5143,
          5145,
          5147,
          5150,
          5151,
          5153,
          5154,
          5155,
          5156,
          5157,
          5158,
          5160,
          5161,
          5163,
          5166,
          5167,
          5168,
          5171,
          5173,
          5176,
          5177,
          5179,
          5180,
          5181,
          5182,
          5183
         ],
         "xaxis": "x",
         "y": [
          19355.46681410593,
          20517.439871244813,
          30205.3386853223,
          46594.084558318784,
          35161.24404619166,
          34746.89808452831,
          11315.7342186633,
          46137.793454258644,
          -3547.49063256344,
          45997.740487004354,
          36500.21998625436,
          30191.6773252478,
          5634.254995522722,
          8820.059271583152,
          1130.239218104045,
          1478.279256242582,
          21109.164820677586,
          31085.430221636016,
          12951.14264766025,
          26961.434223385902,
          26257.67465935624,
          42644.80705187326,
          17898.224764950253,
          22029.949652023228,
          13157.251817942448,
          26239.51504065704,
          22838.333651326153,
          28161.93614403337,
          25283.863287327666,
          21695.91887634053,
          31694.98858997585,
          17011.581010976664,
          11171.710127804527,
          27510.8954566094,
          27722.341326804963,
          26009.45058114847,
          30439.66986882905,
          33791.86412813638,
          13892.226501736597,
          21191.924710218267,
          20343.412475084053,
          9553.167004568142,
          18078.84916153677,
          25078.83453313262,
          7555.9895030630705,
          34206.71031066749,
          39150.71303502922,
          31492.79031008642,
          38390.003534091535,
          30104.075094130345,
          19646.610934563963,
          15533.54715670102,
          11451.355878910188,
          9222.42421980086,
          5223.116921639297,
          19836.998515059342,
          21467.140221863636,
          -2671.116440496691,
          10348.296529714762,
          8363.931018462677,
          6122.0881950078565,
          22632.01347841595,
          27151.91275698829,
          20372.354980771903,
          9032.442314901666,
          41299.1751748485,
          36825.14784544619,
          12082.594553603158,
          45436.52407471559,
          20270.32264470552,
          13631.814899703608,
          22711.686909675496,
          21467.140221863636,
          13860.922346498228,
          14687.391955122046,
          12953.970878815377,
          10821.876539559624,
          26761.810497289538,
          7265.97988423899,
          4536.705447926954,
          18054.871795267787,
          12040.536028923118,
          20938.607898494225,
          31296.395807569148,
          24796.24537632604,
          -448.15637276279085,
          5223.116921639297,
          6479.004154164239,
          -142.10393297977862,
          12139.300088512993,
          11083.795990182618,
          8241.71867070542,
          36848.21747793366,
          7631.651496635415,
          11776.66344329749,
          29395.23893265723,
          38532.87219799365,
          38307.066455794644,
          23238.754335458445,
          29298.047870334536
         ],
         "yaxis": "y"
        }
       ],
       "layout": {
        "legend": {
         "title": {
          "text": "variable"
         },
         "tracegroupgap": 0
        },
        "margin": {
         "t": 60
        },
        "template": {
         "data": {
          "bar": [
           {
            "error_x": {
             "color": "#2a3f5f"
            },
            "error_y": {
             "color": "#2a3f5f"
            },
            "marker": {
             "line": {
              "color": "#E5ECF6",
              "width": 0.5
             },
             "pattern": {
              "fillmode": "overlay",
              "size": 10,
              "solidity": 0.2
             }
            },
            "type": "bar"
           }
          ],
          "barpolar": [
           {
            "marker": {
             "line": {
              "color": "#E5ECF6",
              "width": 0.5
             },
             "pattern": {
              "fillmode": "overlay",
              "size": 10,
              "solidity": 0.2
             }
            },
            "type": "barpolar"
           }
          ],
          "carpet": [
           {
            "aaxis": {
             "endlinecolor": "#2a3f5f",
             "gridcolor": "white",
             "linecolor": "white",
             "minorgridcolor": "white",
             "startlinecolor": "#2a3f5f"
            },
            "baxis": {
             "endlinecolor": "#2a3f5f",
             "gridcolor": "white",
             "linecolor": "white",
             "minorgridcolor": "white",
             "startlinecolor": "#2a3f5f"
            },
            "type": "carpet"
           }
          ],
          "choropleth": [
           {
            "colorbar": {
             "outlinewidth": 0,
             "ticks": ""
            },
            "type": "choropleth"
           }
          ],
          "contour": [
           {
            "colorbar": {
             "outlinewidth": 0,
             "ticks": ""
            },
            "colorscale": [
             [
              0,
              "#0d0887"
             ],
             [
              0.1111111111111111,
              "#46039f"
             ],
             [
              0.2222222222222222,
              "#7201a8"
             ],
             [
              0.3333333333333333,
              "#9c179e"
             ],
             [
              0.4444444444444444,
              "#bd3786"
             ],
             [
              0.5555555555555556,
              "#d8576b"
             ],
             [
              0.6666666666666666,
              "#ed7953"
             ],
             [
              0.7777777777777778,
              "#fb9f3a"
             ],
             [
              0.8888888888888888,
              "#fdca26"
             ],
             [
              1,
              "#f0f921"
             ]
            ],
            "type": "contour"
           }
          ],
          "contourcarpet": [
           {
            "colorbar": {
             "outlinewidth": 0,
             "ticks": ""
            },
            "type": "contourcarpet"
           }
          ],
          "heatmap": [
           {
            "colorbar": {
             "outlinewidth": 0,
             "ticks": ""
            },
            "colorscale": [
             [
              0,
              "#0d0887"
             ],
             [
              0.1111111111111111,
              "#46039f"
             ],
             [
              0.2222222222222222,
              "#7201a8"
             ],
             [
              0.3333333333333333,
              "#9c179e"
             ],
             [
              0.4444444444444444,
              "#bd3786"
             ],
             [
              0.5555555555555556,
              "#d8576b"
             ],
             [
              0.6666666666666666,
              "#ed7953"
             ],
             [
              0.7777777777777778,
              "#fb9f3a"
             ],
             [
              0.8888888888888888,
              "#fdca26"
             ],
             [
              1,
              "#f0f921"
             ]
            ],
            "type": "heatmap"
           }
          ],
          "heatmapgl": [
           {
            "colorbar": {
             "outlinewidth": 0,
             "ticks": ""
            },
            "colorscale": [
             [
              0,
              "#0d0887"
             ],
             [
              0.1111111111111111,
              "#46039f"
             ],
             [
              0.2222222222222222,
              "#7201a8"
             ],
             [
              0.3333333333333333,
              "#9c179e"
             ],
             [
              0.4444444444444444,
              "#bd3786"
             ],
             [
              0.5555555555555556,
              "#d8576b"
             ],
             [
              0.6666666666666666,
              "#ed7953"
             ],
             [
              0.7777777777777778,
              "#fb9f3a"
             ],
             [
              0.8888888888888888,
              "#fdca26"
             ],
             [
              1,
              "#f0f921"
             ]
            ],
            "type": "heatmapgl"
           }
          ],
          "histogram": [
           {
            "marker": {
             "pattern": {
              "fillmode": "overlay",
              "size": 10,
              "solidity": 0.2
             }
            },
            "type": "histogram"
           }
          ],
          "histogram2d": [
           {
            "colorbar": {
             "outlinewidth": 0,
             "ticks": ""
            },
            "colorscale": [
             [
              0,
              "#0d0887"
             ],
             [
              0.1111111111111111,
              "#46039f"
             ],
             [
              0.2222222222222222,
              "#7201a8"
             ],
             [
              0.3333333333333333,
              "#9c179e"
             ],
             [
              0.4444444444444444,
              "#bd3786"
             ],
             [
              0.5555555555555556,
              "#d8576b"
             ],
             [
              0.6666666666666666,
              "#ed7953"
             ],
             [
              0.7777777777777778,
              "#fb9f3a"
             ],
             [
              0.8888888888888888,
              "#fdca26"
             ],
             [
              1,
              "#f0f921"
             ]
            ],
            "type": "histogram2d"
           }
          ],
          "histogram2dcontour": [
           {
            "colorbar": {
             "outlinewidth": 0,
             "ticks": ""
            },
            "colorscale": [
             [
              0,
              "#0d0887"
             ],
             [
              0.1111111111111111,
              "#46039f"
             ],
             [
              0.2222222222222222,
              "#7201a8"
             ],
             [
              0.3333333333333333,
              "#9c179e"
             ],
             [
              0.4444444444444444,
              "#bd3786"
             ],
             [
              0.5555555555555556,
              "#d8576b"
             ],
             [
              0.6666666666666666,
              "#ed7953"
             ],
             [
              0.7777777777777778,
              "#fb9f3a"
             ],
             [
              0.8888888888888888,
              "#fdca26"
             ],
             [
              1,
              "#f0f921"
             ]
            ],
            "type": "histogram2dcontour"
           }
          ],
          "mesh3d": [
           {
            "colorbar": {
             "outlinewidth": 0,
             "ticks": ""
            },
            "type": "mesh3d"
           }
          ],
          "parcoords": [
           {
            "line": {
             "colorbar": {
              "outlinewidth": 0,
              "ticks": ""
             }
            },
            "type": "parcoords"
           }
          ],
          "pie": [
           {
            "automargin": true,
            "type": "pie"
           }
          ],
          "scatter": [
           {
            "fillpattern": {
             "fillmode": "overlay",
             "size": 10,
             "solidity": 0.2
            },
            "type": "scatter"
           }
          ],
          "scatter3d": [
           {
            "line": {
             "colorbar": {
              "outlinewidth": 0,
              "ticks": ""
             }
            },
            "marker": {
             "colorbar": {
              "outlinewidth": 0,
              "ticks": ""
             }
            },
            "type": "scatter3d"
           }
          ],
          "scattercarpet": [
           {
            "marker": {
             "colorbar": {
              "outlinewidth": 0,
              "ticks": ""
             }
            },
            "type": "scattercarpet"
           }
          ],
          "scattergeo": [
           {
            "marker": {
             "colorbar": {
              "outlinewidth": 0,
              "ticks": ""
             }
            },
            "type": "scattergeo"
           }
          ],
          "scattergl": [
           {
            "marker": {
             "colorbar": {
              "outlinewidth": 0,
              "ticks": ""
             }
            },
            "type": "scattergl"
           }
          ],
          "scattermapbox": [
           {
            "marker": {
             "colorbar": {
              "outlinewidth": 0,
              "ticks": ""
             }
            },
            "type": "scattermapbox"
           }
          ],
          "scatterpolar": [
           {
            "marker": {
             "colorbar": {
              "outlinewidth": 0,
              "ticks": ""
             }
            },
            "type": "scatterpolar"
           }
          ],
          "scatterpolargl": [
           {
            "marker": {
             "colorbar": {
              "outlinewidth": 0,
              "ticks": ""
             }
            },
            "type": "scatterpolargl"
           }
          ],
          "scatterternary": [
           {
            "marker": {
             "colorbar": {
              "outlinewidth": 0,
              "ticks": ""
             }
            },
            "type": "scatterternary"
           }
          ],
          "surface": [
           {
            "colorbar": {
             "outlinewidth": 0,
             "ticks": ""
            },
            "colorscale": [
             [
              0,
              "#0d0887"
             ],
             [
              0.1111111111111111,
              "#46039f"
             ],
             [
              0.2222222222222222,
              "#7201a8"
             ],
             [
              0.3333333333333333,
              "#9c179e"
             ],
             [
              0.4444444444444444,
              "#bd3786"
             ],
             [
              0.5555555555555556,
              "#d8576b"
             ],
             [
              0.6666666666666666,
              "#ed7953"
             ],
             [
              0.7777777777777778,
              "#fb9f3a"
             ],
             [
              0.8888888888888888,
              "#fdca26"
             ],
             [
              1,
              "#f0f921"
             ]
            ],
            "type": "surface"
           }
          ],
          "table": [
           {
            "cells": {
             "fill": {
              "color": "#EBF0F8"
             },
             "line": {
              "color": "white"
             }
            },
            "header": {
             "fill": {
              "color": "#C8D4E3"
             },
             "line": {
              "color": "white"
             }
            },
            "type": "table"
           }
          ]
         },
         "layout": {
          "annotationdefaults": {
           "arrowcolor": "#2a3f5f",
           "arrowhead": 0,
           "arrowwidth": 1
          },
          "autotypenumbers": "strict",
          "coloraxis": {
           "colorbar": {
            "outlinewidth": 0,
            "ticks": ""
           }
          },
          "colorscale": {
           "diverging": [
            [
             0,
             "#8e0152"
            ],
            [
             0.1,
             "#c51b7d"
            ],
            [
             0.2,
             "#de77ae"
            ],
            [
             0.3,
             "#f1b6da"
            ],
            [
             0.4,
             "#fde0ef"
            ],
            [
             0.5,
             "#f7f7f7"
            ],
            [
             0.6,
             "#e6f5d0"
            ],
            [
             0.7,
             "#b8e186"
            ],
            [
             0.8,
             "#7fbc41"
            ],
            [
             0.9,
             "#4d9221"
            ],
            [
             1,
             "#276419"
            ]
           ],
           "sequential": [
            [
             0,
             "#0d0887"
            ],
            [
             0.1111111111111111,
             "#46039f"
            ],
            [
             0.2222222222222222,
             "#7201a8"
            ],
            [
             0.3333333333333333,
             "#9c179e"
            ],
            [
             0.4444444444444444,
             "#bd3786"
            ],
            [
             0.5555555555555556,
             "#d8576b"
            ],
            [
             0.6666666666666666,
             "#ed7953"
            ],
            [
             0.7777777777777778,
             "#fb9f3a"
            ],
            [
             0.8888888888888888,
             "#fdca26"
            ],
            [
             1,
             "#f0f921"
            ]
           ],
           "sequentialminus": [
            [
             0,
             "#0d0887"
            ],
            [
             0.1111111111111111,
             "#46039f"
            ],
            [
             0.2222222222222222,
             "#7201a8"
            ],
            [
             0.3333333333333333,
             "#9c179e"
            ],
            [
             0.4444444444444444,
             "#bd3786"
            ],
            [
             0.5555555555555556,
             "#d8576b"
            ],
            [
             0.6666666666666666,
             "#ed7953"
            ],
            [
             0.7777777777777778,
             "#fb9f3a"
            ],
            [
             0.8888888888888888,
             "#fdca26"
            ],
            [
             1,
             "#f0f921"
            ]
           ]
          },
          "colorway": [
           "#636efa",
           "#EF553B",
           "#00cc96",
           "#ab63fa",
           "#FFA15A",
           "#19d3f3",
           "#FF6692",
           "#B6E880",
           "#FF97FF",
           "#FECB52"
          ],
          "font": {
           "color": "#2a3f5f"
          },
          "geo": {
           "bgcolor": "white",
           "lakecolor": "white",
           "landcolor": "#E5ECF6",
           "showlakes": true,
           "showland": true,
           "subunitcolor": "white"
          },
          "hoverlabel": {
           "align": "left"
          },
          "hovermode": "closest",
          "mapbox": {
           "style": "light"
          },
          "paper_bgcolor": "white",
          "plot_bgcolor": "#E5ECF6",
          "polar": {
           "angularaxis": {
            "gridcolor": "white",
            "linecolor": "white",
            "ticks": ""
           },
           "bgcolor": "#E5ECF6",
           "radialaxis": {
            "gridcolor": "white",
            "linecolor": "white",
            "ticks": ""
           }
          },
          "scene": {
           "xaxis": {
            "backgroundcolor": "#E5ECF6",
            "gridcolor": "white",
            "gridwidth": 2,
            "linecolor": "white",
            "showbackground": true,
            "ticks": "",
            "zerolinecolor": "white"
           },
           "yaxis": {
            "backgroundcolor": "#E5ECF6",
            "gridcolor": "white",
            "gridwidth": 2,
            "linecolor": "white",
            "showbackground": true,
            "ticks": "",
            "zerolinecolor": "white"
           },
           "zaxis": {
            "backgroundcolor": "#E5ECF6",
            "gridcolor": "white",
            "gridwidth": 2,
            "linecolor": "white",
            "showbackground": true,
            "ticks": "",
            "zerolinecolor": "white"
           }
          },
          "shapedefaults": {
           "line": {
            "color": "#2a3f5f"
           }
          },
          "ternary": {
           "aaxis": {
            "gridcolor": "white",
            "linecolor": "white",
            "ticks": ""
           },
           "baxis": {
            "gridcolor": "white",
            "linecolor": "white",
            "ticks": ""
           },
           "bgcolor": "#E5ECF6",
           "caxis": {
            "gridcolor": "white",
            "linecolor": "white",
            "ticks": ""
           }
          },
          "title": {
           "x": 0.05
          },
          "xaxis": {
           "automargin": true,
           "gridcolor": "white",
           "linecolor": "white",
           "ticks": "",
           "title": {
            "standoff": 15
           },
           "zerolinecolor": "white",
           "zerolinewidth": 2
          },
          "yaxis": {
           "automargin": true,
           "gridcolor": "white",
           "linecolor": "white",
           "ticks": "",
           "title": {
            "standoff": 15
           },
           "zerolinecolor": "white",
           "zerolinewidth": 2
          }
         }
        },
        "xaxis": {
         "anchor": "y",
         "domain": [
          0,
          1
         ],
         "title": {
          "text": "index"
         }
        },
        "yaxis": {
         "anchor": "x",
         "domain": [
          0,
          1
         ],
         "title": {
          "text": "value"
         }
        }
       }
      },
      "text/html": [
       "<div>                            <div id=\"9b66c366-44aa-4281-848f-fbfb7763e954\" class=\"plotly-graph-div\" style=\"height:525px; width:100%;\"></div>            <script type=\"text/javascript\">                require([\"plotly\"], function(Plotly) {                    window.PLOTLYENV=window.PLOTLYENV || {};                                    if (document.getElementById(\"9b66c366-44aa-4281-848f-fbfb7763e954\")) {                    Plotly.newPlot(                        \"9b66c366-44aa-4281-848f-fbfb7763e954\",                        [{\"hovertemplate\":\"variable=price<br>index=%{x}<br>value=%{y}<extra></extra>\",\"legendgroup\":\"price\",\"line\":{\"color\":\"#636efa\",\"dash\":\"solid\"},\"marker\":{\"symbol\":\"circle\"},\"mode\":\"lines\",\"name\":\"price\",\"orientation\":\"v\",\"showlegend\":true,\"x\":[5034,5037,5039,5040,5041,5042,5043,5044,5045,5046,5048,5049,5053,5054,5055,5056,5058,5059,5060,5062,5063,5064,5065,5067,5068,5071,5073,5076,5078,5079,5080,5081,5086,5088,5091,5092,5094,5096,5097,5098,5099,5101,5102,5103,5104,5105,5106,5107,5108,5109,5111,5112,5113,5114,5115,5116,5118,5119,5120,5121,5123,5124,5125,5127,5128,5129,5130,5131,5135,5137,5138,5139,5140,5142,5143,5145,5147,5150,5151,5153,5154,5155,5156,5157,5158,5160,5161,5163,5166,5167,5168,5171,5173,5176,5177,5179,5180,5181,5182,5183],\"xaxis\":\"x\",\"y\":[12950.0,11000.0,29995.0,33900.0,34500.0,44995.0,9995.0,63995.0,1900.0,43995.0,59995.0,45995.0,5500.0,8300.0,6500.0,30000.0,24995.0,26995.0,15495.0,34995.0,33995.0,98995.0,17995.0,19995.0,13995.0,27995.0,17995.0,33750.0,16995.0,19995.0,28995.0,16995.0,2500.0,39995.0,53900.0,29995.0,29995.0,79900.0,6995.0,13995.0,13995.0,5900.0,13900.0,20995.0,7000.0,26995.0,62900.0,49900.0,78900.0,26995.0,15000.0,9995.0,9995.0,4295.0,4900.0,19995.0,13850.0,1234.0,11900.0,3500.0,6400.0,13800.0,29995.0,19899.0,3000.0,46000.0,18950.0,1850.0,69500.0,16500.0,11950.0,14500.0,13850.0,10950.0,9850.0,3800.0,5500.0,35000.0,4995.0,7000.0,15000.0,5000.0,14000.0,23999.0,18950.0,6950.0,4900.0,6950.0,2000.0,17500.0,3795.0,8000.0,44995.0,4300.0,14500.0,46900.0,40988.0,38988.0,14988.0,46988.0],\"yaxis\":\"y\",\"type\":\"scatter\"},{\"hovertemplate\":\"variable=Lasso<br>index=%{x}<br>value=%{y}<extra></extra>\",\"legendgroup\":\"Lasso\",\"line\":{\"color\":\"#EF553B\",\"dash\":\"solid\"},\"marker\":{\"symbol\":\"circle\"},\"mode\":\"lines\",\"name\":\"Lasso\",\"orientation\":\"v\",\"showlegend\":true,\"x\":[5034,5037,5039,5040,5041,5042,5043,5044,5045,5046,5048,5049,5053,5054,5055,5056,5058,5059,5060,5062,5063,5064,5065,5067,5068,5071,5073,5076,5078,5079,5080,5081,5086,5088,5091,5092,5094,5096,5097,5098,5099,5101,5102,5103,5104,5105,5106,5107,5108,5109,5111,5112,5113,5114,5115,5116,5118,5119,5120,5121,5123,5124,5125,5127,5128,5129,5130,5131,5135,5137,5138,5139,5140,5142,5143,5145,5147,5150,5151,5153,5154,5155,5156,5157,5158,5160,5161,5163,5166,5167,5168,5171,5173,5176,5177,5179,5180,5181,5182,5183],\"xaxis\":\"x\",\"y\":[19351.582277530866,20497.803667378023,30134.88573603564,46718.81397829991,35221.81569200329,34813.8723496949,11464.046160845657,46166.8561813634,-3551.68741897755,45663.9488374235,36502.07317630156,30147.68634908339,5705.865613368582,8908.878657060843,1220.7756545273787,1380.3855543585687,21084.8224521006,30874.294747979402,12900.643594435704,26943.52077294625,26250.751260109428,42622.7421508142,18051.498216654236,21941.453159253077,13095.34389439566,26179.510933277244,22822.98798957908,28146.246911250055,25259.47620607551,21684.61604974095,31633.507159960696,17035.85208046686,11264.047294484395,27653.832975984915,27701.76221860311,26149.75870902183,30521.598245474095,33938.91062104553,13655.026893792045,21213.311768916647,20413.27078651693,9298.097158270983,17999.709897339042,25154.226138016544,7436.742536179245,34100.42513004505,39247.07336946005,31650.496136915637,38453.21866990117,30155.141653780516,19646.15507791161,15635.163488644721,11621.043685050641,9155.48532769491,4999.171146778432,19748.156868977323,21420.25139437439,-3057.7988162746205,10214.96953402535,8226.65127496844,6150.764290621886,22647.035123479513,27184.30387768593,20485.456403468066,9076.776073616904,41253.918684132834,36797.49221345325,12151.48605608344,45503.86650047417,20247.887655389248,13747.635769030641,22803.615119193008,21420.25139437439,13991.640421102797,14755.082135747018,13097.720568970106,10772.307044126163,26909.94406154805,7252.041248539025,4319.268507355218,17910.796118262813,11900.811709442289,20834.219577894422,31375.639579984512,24851.013191672282,-530.2812345433904,4999.171146778432,6513.868639541948,-183.6850401777574,11910.05248378485,10911.470979807826,8238.461624254593,36885.12135648321,7670.161055852349,11676.34757245186,29457.810531312396,38361.015134855006,38368.55846207206,23239.85263881665,29311.97099878194],\"yaxis\":\"y\",\"type\":\"scatter\"},{\"hovertemplate\":\"variable=Ridge<br>index=%{x}<br>value=%{y}<extra></extra>\",\"legendgroup\":\"Ridge\",\"line\":{\"color\":\"#00cc96\",\"dash\":\"solid\"},\"marker\":{\"symbol\":\"circle\"},\"mode\":\"lines\",\"name\":\"Ridge\",\"orientation\":\"v\",\"showlegend\":true,\"x\":[5034,5037,5039,5040,5041,5042,5043,5044,5045,5046,5048,5049,5053,5054,5055,5056,5058,5059,5060,5062,5063,5064,5065,5067,5068,5071,5073,5076,5078,5079,5080,5081,5086,5088,5091,5092,5094,5096,5097,5098,5099,5101,5102,5103,5104,5105,5106,5107,5108,5109,5111,5112,5113,5114,5115,5116,5118,5119,5120,5121,5123,5124,5125,5127,5128,5129,5130,5131,5135,5137,5138,5139,5140,5142,5143,5145,5147,5150,5151,5153,5154,5155,5156,5157,5158,5160,5161,5163,5166,5167,5168,5171,5173,5176,5177,5179,5180,5181,5182,5183],\"xaxis\":\"x\",\"y\":[19317.400951576703,20428.168045088387,30062.5179694692,46744.221173830934,35030.42331899828,34763.09342852012,11548.662605497919,46163.08678179321,-3435.573570845587,45820.96787860659,36433.19735071597,30087.657887236157,5786.840725134294,8926.407605261515,1247.8574364592605,1516.3999134714977,21132.383702742445,31011.13782321273,12878.377211381972,26843.541458784723,26225.347567610694,42500.2861652453,18012.003524675692,21947.5344558369,12973.353368401986,26151.92121580371,22835.065304318552,28146.4888195405,25214.38135620372,21617.613264596745,31581.781415289683,16965.66533170979,11236.675054177837,27700.77058976316,27728.265890484865,26123.313296852786,30488.620561126147,33916.54367701574,13715.364726941503,21173.955236721904,20378.58184377128,9353.48849899428,18198.625577333525,25242.798230198565,7521.214109989687,34025.756619911765,39203.79054306583,31474.00805299365,38405.6407270495,30160.0007314975,19652.360032627348,15579.719530485576,11594.680067037894,9249.785433361436,5111.396631141597,19675.870926123032,21470.89172134801,-3261.5816539013103,10386.953077251328,8284.982791968192,6221.616745321591,22594.344263029398,27155.6994668946,20433.93257392791,9012.377678857345,41394.35417747089,36883.90624953431,12192.47387354555,45555.234691374986,20218.20774010669,13732.184316144558,22832.506151781257,21470.89172134801,13945.299734160395,14823.274425656802,13067.93346233552,10955.217129397475,26955.8573191313,7364.454157818331,4445.1879266426,17757.44957241931,11950.249276045994,20802.90096848277,31277.81763265764,24876.818878991486,-615.9719801505089,5111.396631141597,6617.7785662230435,-140.93430268062002,12054.825672445355,11127.108664061207,8288.767146278282,36802.63595891054,7584.8949184176145,11812.652285504537,29358.088528001834,38540.52603049407,38386.437177805914,23244.435751362347,29288.919003884574],\"yaxis\":\"y\",\"type\":\"scatter\"},{\"hovertemplate\":\"variable=LinReg<br>index=%{x}<br>value=%{y}<extra></extra>\",\"legendgroup\":\"LinReg\",\"line\":{\"color\":\"#ab63fa\",\"dash\":\"solid\"},\"marker\":{\"symbol\":\"circle\"},\"mode\":\"lines\",\"name\":\"LinReg\",\"orientation\":\"v\",\"showlegend\":true,\"x\":[5034,5037,5039,5040,5041,5042,5043,5044,5045,5046,5048,5049,5053,5054,5055,5056,5058,5059,5060,5062,5063,5064,5065,5067,5068,5071,5073,5076,5078,5079,5080,5081,5086,5088,5091,5092,5094,5096,5097,5098,5099,5101,5102,5103,5104,5105,5106,5107,5108,5109,5111,5112,5113,5114,5115,5116,5118,5119,5120,5121,5123,5124,5125,5127,5128,5129,5130,5131,5135,5137,5138,5139,5140,5142,5143,5145,5147,5150,5151,5153,5154,5155,5156,5157,5158,5160,5161,5163,5166,5167,5168,5171,5173,5176,5177,5179,5180,5181,5182,5183],\"xaxis\":\"x\",\"y\":[19355.46681410593,20517.439871244813,30205.3386853223,46594.084558318784,35161.24404619166,34746.89808452831,11315.7342186633,46137.793454258644,-3547.49063256344,45997.740487004354,36500.21998625436,30191.6773252478,5634.254995522722,8820.059271583152,1130.239218104045,1478.279256242582,21109.164820677586,31085.430221636016,12951.14264766025,26961.434223385902,26257.67465935624,42644.80705187326,17898.224764950253,22029.949652023228,13157.251817942448,26239.51504065704,22838.333651326153,28161.93614403337,25283.863287327666,21695.91887634053,31694.98858997585,17011.581010976664,11171.710127804527,27510.8954566094,27722.341326804963,26009.45058114847,30439.66986882905,33791.86412813638,13892.226501736597,21191.924710218267,20343.412475084053,9553.167004568142,18078.84916153677,25078.83453313262,7555.9895030630705,34206.71031066749,39150.71303502922,31492.79031008642,38390.003534091535,30104.075094130345,19646.610934563963,15533.54715670102,11451.355878910188,9222.42421980086,5223.116921639297,19836.998515059342,21467.140221863636,-2671.116440496691,10348.296529714762,8363.931018462677,6122.0881950078565,22632.01347841595,27151.91275698829,20372.354980771903,9032.442314901666,41299.1751748485,36825.14784544619,12082.594553603158,45436.52407471559,20270.32264470552,13631.814899703608,22711.686909675496,21467.140221863636,13860.922346498228,14687.391955122046,12953.970878815377,10821.876539559624,26761.810497289538,7265.97988423899,4536.705447926954,18054.871795267787,12040.536028923118,20938.607898494225,31296.395807569148,24796.24537632604,-448.15637276279085,5223.116921639297,6479.004154164239,-142.10393297977862,12139.300088512993,11083.795990182618,8241.71867070542,36848.21747793366,7631.651496635415,11776.66344329749,29395.23893265723,38532.87219799365,38307.066455794644,23238.754335458445,29298.047870334536],\"yaxis\":\"y\",\"type\":\"scatter\"}],                        {\"template\":{\"data\":{\"histogram2dcontour\":[{\"type\":\"histogram2dcontour\",\"colorbar\":{\"outlinewidth\":0,\"ticks\":\"\"},\"colorscale\":[[0.0,\"#0d0887\"],[0.1111111111111111,\"#46039f\"],[0.2222222222222222,\"#7201a8\"],[0.3333333333333333,\"#9c179e\"],[0.4444444444444444,\"#bd3786\"],[0.5555555555555556,\"#d8576b\"],[0.6666666666666666,\"#ed7953\"],[0.7777777777777778,\"#fb9f3a\"],[0.8888888888888888,\"#fdca26\"],[1.0,\"#f0f921\"]]}],\"choropleth\":[{\"type\":\"choropleth\",\"colorbar\":{\"outlinewidth\":0,\"ticks\":\"\"}}],\"histogram2d\":[{\"type\":\"histogram2d\",\"colorbar\":{\"outlinewidth\":0,\"ticks\":\"\"},\"colorscale\":[[0.0,\"#0d0887\"],[0.1111111111111111,\"#46039f\"],[0.2222222222222222,\"#7201a8\"],[0.3333333333333333,\"#9c179e\"],[0.4444444444444444,\"#bd3786\"],[0.5555555555555556,\"#d8576b\"],[0.6666666666666666,\"#ed7953\"],[0.7777777777777778,\"#fb9f3a\"],[0.8888888888888888,\"#fdca26\"],[1.0,\"#f0f921\"]]}],\"heatmap\":[{\"type\":\"heatmap\",\"colorbar\":{\"outlinewidth\":0,\"ticks\":\"\"},\"colorscale\":[[0.0,\"#0d0887\"],[0.1111111111111111,\"#46039f\"],[0.2222222222222222,\"#7201a8\"],[0.3333333333333333,\"#9c179e\"],[0.4444444444444444,\"#bd3786\"],[0.5555555555555556,\"#d8576b\"],[0.6666666666666666,\"#ed7953\"],[0.7777777777777778,\"#fb9f3a\"],[0.8888888888888888,\"#fdca26\"],[1.0,\"#f0f921\"]]}],\"heatmapgl\":[{\"type\":\"heatmapgl\",\"colorbar\":{\"outlinewidth\":0,\"ticks\":\"\"},\"colorscale\":[[0.0,\"#0d0887\"],[0.1111111111111111,\"#46039f\"],[0.2222222222222222,\"#7201a8\"],[0.3333333333333333,\"#9c179e\"],[0.4444444444444444,\"#bd3786\"],[0.5555555555555556,\"#d8576b\"],[0.6666666666666666,\"#ed7953\"],[0.7777777777777778,\"#fb9f3a\"],[0.8888888888888888,\"#fdca26\"],[1.0,\"#f0f921\"]]}],\"contourcarpet\":[{\"type\":\"contourcarpet\",\"colorbar\":{\"outlinewidth\":0,\"ticks\":\"\"}}],\"contour\":[{\"type\":\"contour\",\"colorbar\":{\"outlinewidth\":0,\"ticks\":\"\"},\"colorscale\":[[0.0,\"#0d0887\"],[0.1111111111111111,\"#46039f\"],[0.2222222222222222,\"#7201a8\"],[0.3333333333333333,\"#9c179e\"],[0.4444444444444444,\"#bd3786\"],[0.5555555555555556,\"#d8576b\"],[0.6666666666666666,\"#ed7953\"],[0.7777777777777778,\"#fb9f3a\"],[0.8888888888888888,\"#fdca26\"],[1.0,\"#f0f921\"]]}],\"surface\":[{\"type\":\"surface\",\"colorbar\":{\"outlinewidth\":0,\"ticks\":\"\"},\"colorscale\":[[0.0,\"#0d0887\"],[0.1111111111111111,\"#46039f\"],[0.2222222222222222,\"#7201a8\"],[0.3333333333333333,\"#9c179e\"],[0.4444444444444444,\"#bd3786\"],[0.5555555555555556,\"#d8576b\"],[0.6666666666666666,\"#ed7953\"],[0.7777777777777778,\"#fb9f3a\"],[0.8888888888888888,\"#fdca26\"],[1.0,\"#f0f921\"]]}],\"mesh3d\":[{\"type\":\"mesh3d\",\"colorbar\":{\"outlinewidth\":0,\"ticks\":\"\"}}],\"scatter\":[{\"fillpattern\":{\"fillmode\":\"overlay\",\"size\":10,\"solidity\":0.2},\"type\":\"scatter\"}],\"parcoords\":[{\"type\":\"parcoords\",\"line\":{\"colorbar\":{\"outlinewidth\":0,\"ticks\":\"\"}}}],\"scatterpolargl\":[{\"type\":\"scatterpolargl\",\"marker\":{\"colorbar\":{\"outlinewidth\":0,\"ticks\":\"\"}}}],\"bar\":[{\"error_x\":{\"color\":\"#2a3f5f\"},\"error_y\":{\"color\":\"#2a3f5f\"},\"marker\":{\"line\":{\"color\":\"#E5ECF6\",\"width\":0.5},\"pattern\":{\"fillmode\":\"overlay\",\"size\":10,\"solidity\":0.2}},\"type\":\"bar\"}],\"scattergeo\":[{\"type\":\"scattergeo\",\"marker\":{\"colorbar\":{\"outlinewidth\":0,\"ticks\":\"\"}}}],\"scatterpolar\":[{\"type\":\"scatterpolar\",\"marker\":{\"colorbar\":{\"outlinewidth\":0,\"ticks\":\"\"}}}],\"histogram\":[{\"marker\":{\"pattern\":{\"fillmode\":\"overlay\",\"size\":10,\"solidity\":0.2}},\"type\":\"histogram\"}],\"scattergl\":[{\"type\":\"scattergl\",\"marker\":{\"colorbar\":{\"outlinewidth\":0,\"ticks\":\"\"}}}],\"scatter3d\":[{\"type\":\"scatter3d\",\"line\":{\"colorbar\":{\"outlinewidth\":0,\"ticks\":\"\"}},\"marker\":{\"colorbar\":{\"outlinewidth\":0,\"ticks\":\"\"}}}],\"scattermapbox\":[{\"type\":\"scattermapbox\",\"marker\":{\"colorbar\":{\"outlinewidth\":0,\"ticks\":\"\"}}}],\"scatterternary\":[{\"type\":\"scatterternary\",\"marker\":{\"colorbar\":{\"outlinewidth\":0,\"ticks\":\"\"}}}],\"scattercarpet\":[{\"type\":\"scattercarpet\",\"marker\":{\"colorbar\":{\"outlinewidth\":0,\"ticks\":\"\"}}}],\"carpet\":[{\"aaxis\":{\"endlinecolor\":\"#2a3f5f\",\"gridcolor\":\"white\",\"linecolor\":\"white\",\"minorgridcolor\":\"white\",\"startlinecolor\":\"#2a3f5f\"},\"baxis\":{\"endlinecolor\":\"#2a3f5f\",\"gridcolor\":\"white\",\"linecolor\":\"white\",\"minorgridcolor\":\"white\",\"startlinecolor\":\"#2a3f5f\"},\"type\":\"carpet\"}],\"table\":[{\"cells\":{\"fill\":{\"color\":\"#EBF0F8\"},\"line\":{\"color\":\"white\"}},\"header\":{\"fill\":{\"color\":\"#C8D4E3\"},\"line\":{\"color\":\"white\"}},\"type\":\"table\"}],\"barpolar\":[{\"marker\":{\"line\":{\"color\":\"#E5ECF6\",\"width\":0.5},\"pattern\":{\"fillmode\":\"overlay\",\"size\":10,\"solidity\":0.2}},\"type\":\"barpolar\"}],\"pie\":[{\"automargin\":true,\"type\":\"pie\"}]},\"layout\":{\"autotypenumbers\":\"strict\",\"colorway\":[\"#636efa\",\"#EF553B\",\"#00cc96\",\"#ab63fa\",\"#FFA15A\",\"#19d3f3\",\"#FF6692\",\"#B6E880\",\"#FF97FF\",\"#FECB52\"],\"font\":{\"color\":\"#2a3f5f\"},\"hovermode\":\"closest\",\"hoverlabel\":{\"align\":\"left\"},\"paper_bgcolor\":\"white\",\"plot_bgcolor\":\"#E5ECF6\",\"polar\":{\"bgcolor\":\"#E5ECF6\",\"angularaxis\":{\"gridcolor\":\"white\",\"linecolor\":\"white\",\"ticks\":\"\"},\"radialaxis\":{\"gridcolor\":\"white\",\"linecolor\":\"white\",\"ticks\":\"\"}},\"ternary\":{\"bgcolor\":\"#E5ECF6\",\"aaxis\":{\"gridcolor\":\"white\",\"linecolor\":\"white\",\"ticks\":\"\"},\"baxis\":{\"gridcolor\":\"white\",\"linecolor\":\"white\",\"ticks\":\"\"},\"caxis\":{\"gridcolor\":\"white\",\"linecolor\":\"white\",\"ticks\":\"\"}},\"coloraxis\":{\"colorbar\":{\"outlinewidth\":0,\"ticks\":\"\"}},\"colorscale\":{\"sequential\":[[0.0,\"#0d0887\"],[0.1111111111111111,\"#46039f\"],[0.2222222222222222,\"#7201a8\"],[0.3333333333333333,\"#9c179e\"],[0.4444444444444444,\"#bd3786\"],[0.5555555555555556,\"#d8576b\"],[0.6666666666666666,\"#ed7953\"],[0.7777777777777778,\"#fb9f3a\"],[0.8888888888888888,\"#fdca26\"],[1.0,\"#f0f921\"]],\"sequentialminus\":[[0.0,\"#0d0887\"],[0.1111111111111111,\"#46039f\"],[0.2222222222222222,\"#7201a8\"],[0.3333333333333333,\"#9c179e\"],[0.4444444444444444,\"#bd3786\"],[0.5555555555555556,\"#d8576b\"],[0.6666666666666666,\"#ed7953\"],[0.7777777777777778,\"#fb9f3a\"],[0.8888888888888888,\"#fdca26\"],[1.0,\"#f0f921\"]],\"diverging\":[[0,\"#8e0152\"],[0.1,\"#c51b7d\"],[0.2,\"#de77ae\"],[0.3,\"#f1b6da\"],[0.4,\"#fde0ef\"],[0.5,\"#f7f7f7\"],[0.6,\"#e6f5d0\"],[0.7,\"#b8e186\"],[0.8,\"#7fbc41\"],[0.9,\"#4d9221\"],[1,\"#276419\"]]},\"xaxis\":{\"gridcolor\":\"white\",\"linecolor\":\"white\",\"ticks\":\"\",\"title\":{\"standoff\":15},\"zerolinecolor\":\"white\",\"automargin\":true,\"zerolinewidth\":2},\"yaxis\":{\"gridcolor\":\"white\",\"linecolor\":\"white\",\"ticks\":\"\",\"title\":{\"standoff\":15},\"zerolinecolor\":\"white\",\"automargin\":true,\"zerolinewidth\":2},\"scene\":{\"xaxis\":{\"backgroundcolor\":\"#E5ECF6\",\"gridcolor\":\"white\",\"linecolor\":\"white\",\"showbackground\":true,\"ticks\":\"\",\"zerolinecolor\":\"white\",\"gridwidth\":2},\"yaxis\":{\"backgroundcolor\":\"#E5ECF6\",\"gridcolor\":\"white\",\"linecolor\":\"white\",\"showbackground\":true,\"ticks\":\"\",\"zerolinecolor\":\"white\",\"gridwidth\":2},\"zaxis\":{\"backgroundcolor\":\"#E5ECF6\",\"gridcolor\":\"white\",\"linecolor\":\"white\",\"showbackground\":true,\"ticks\":\"\",\"zerolinecolor\":\"white\",\"gridwidth\":2}},\"shapedefaults\":{\"line\":{\"color\":\"#2a3f5f\"}},\"annotationdefaults\":{\"arrowcolor\":\"#2a3f5f\",\"arrowhead\":0,\"arrowwidth\":1},\"geo\":{\"bgcolor\":\"white\",\"landcolor\":\"#E5ECF6\",\"subunitcolor\":\"white\",\"showland\":true,\"showlakes\":true,\"lakecolor\":\"white\"},\"title\":{\"x\":0.05},\"mapbox\":{\"style\":\"light\"}}},\"xaxis\":{\"anchor\":\"y\",\"domain\":[0.0,1.0],\"title\":{\"text\":\"index\"}},\"yaxis\":{\"anchor\":\"x\",\"domain\":[0.0,1.0],\"title\":{\"text\":\"value\"}},\"legend\":{\"title\":{\"text\":\"variable\"},\"tracegroupgap\":0},\"margin\":{\"t\":60}},                        {\"responsive\": true}                    ).then(function(){\n",
       "                            \n",
       "var gd = document.getElementById('9b66c366-44aa-4281-848f-fbfb7763e954');\n",
       "var x = new MutationObserver(function (mutations, observer) {{\n",
       "        var display = window.getComputedStyle(gd).display;\n",
       "        if (!display || display === 'none') {{\n",
       "            console.log([gd, 'removed!']);\n",
       "            Plotly.purge(gd);\n",
       "            observer.disconnect();\n",
       "        }}\n",
       "}});\n",
       "\n",
       "// Listen for the removal of the full notebook cells\n",
       "var notebookContainer = gd.closest('#notebook-container');\n",
       "if (notebookContainer) {{\n",
       "    x.observe(notebookContainer, {childList: true});\n",
       "}}\n",
       "\n",
       "// Listen for the clearing of the current output cell\n",
       "var outputEl = gd.closest('.output');\n",
       "if (outputEl) {{\n",
       "    x.observe(outputEl, {childList: true});\n",
       "}}\n",
       "\n",
       "                        })                };                });            </script>        </div>"
      ]
     },
     "metadata": {},
     "output_type": "display_data"
    }
   ],
   "source": [
    "new_df.sort_index()[3000:3100].plot(kind='line', backend='plotly')"
   ]
  },
  {
   "cell_type": "code",
   "execution_count": null,
   "metadata": {},
   "outputs": [],
   "source": []
  },
  {
   "cell_type": "code",
   "execution_count": 76,
   "metadata": {},
   "outputs": [],
   "source": [
    "new_df = pd.DataFrame()\n",
    "new_df['price'] = y_test\n",
    "new_df['Lasso'] = ridge_preds_test\n",
    "new_df['Ridge'] = ridge_preds_test\n",
    "new_df['LinReg'] = linreg_preds_test"
   ]
  },
  {
   "cell_type": "code",
   "execution_count": 77,
   "metadata": {},
   "outputs": [
    {
     "data": {
      "text/html": [
       "<div>\n",
       "<style scoped>\n",
       "    .dataframe tbody tr th:only-of-type {\n",
       "        vertical-align: middle;\n",
       "    }\n",
       "\n",
       "    .dataframe tbody tr th {\n",
       "        vertical-align: top;\n",
       "    }\n",
       "\n",
       "    .dataframe thead th {\n",
       "        text-align: right;\n",
       "    }\n",
       "</style>\n",
       "<table border=\"1\" class=\"dataframe\">\n",
       "  <thead>\n",
       "    <tr style=\"text-align: right;\">\n",
       "      <th></th>\n",
       "      <th>price</th>\n",
       "      <th>Lasso</th>\n",
       "      <th>Ridge</th>\n",
       "      <th>LinReg</th>\n",
       "    </tr>\n",
       "  </thead>\n",
       "  <tbody>\n",
       "    <tr>\n",
       "      <th>125846</th>\n",
       "      <td>19491</td>\n",
       "      <td>19018.507383</td>\n",
       "      <td>19018.507383</td>\n",
       "      <td>18960.075638</td>\n",
       "    </tr>\n",
       "    <tr>\n",
       "      <th>411514</th>\n",
       "      <td>8000</td>\n",
       "      <td>12035.328264</td>\n",
       "      <td>12035.328264</td>\n",
       "      <td>12108.588729</td>\n",
       "    </tr>\n",
       "    <tr>\n",
       "      <th>363672</th>\n",
       "      <td>30495</td>\n",
       "      <td>25522.917970</td>\n",
       "      <td>25522.917970</td>\n",
       "      <td>25548.812972</td>\n",
       "    </tr>\n",
       "    <tr>\n",
       "      <th>262952</th>\n",
       "      <td>29990</td>\n",
       "      <td>32829.552402</td>\n",
       "      <td>32829.552402</td>\n",
       "      <td>32591.337839</td>\n",
       "    </tr>\n",
       "    <tr>\n",
       "      <th>192672</th>\n",
       "      <td>28995</td>\n",
       "      <td>19023.678825</td>\n",
       "      <td>19023.678825</td>\n",
       "      <td>19049.321609</td>\n",
       "    </tr>\n",
       "    <tr>\n",
       "      <th>270239</th>\n",
       "      <td>32590</td>\n",
       "      <td>26107.915103</td>\n",
       "      <td>26107.915103</td>\n",
       "      <td>26069.563808</td>\n",
       "    </tr>\n",
       "    <tr>\n",
       "      <th>99348</th>\n",
       "      <td>9499</td>\n",
       "      <td>7756.895902</td>\n",
       "      <td>7756.895902</td>\n",
       "      <td>7751.421102</td>\n",
       "    </tr>\n",
       "    <tr>\n",
       "      <th>185160</th>\n",
       "      <td>32590</td>\n",
       "      <td>28568.563584</td>\n",
       "      <td>28568.563584</td>\n",
       "      <td>28501.199609</td>\n",
       "    </tr>\n",
       "    <tr>\n",
       "      <th>254285</th>\n",
       "      <td>4300</td>\n",
       "      <td>4995.881718</td>\n",
       "      <td>4995.881718</td>\n",
       "      <td>4851.558426</td>\n",
       "    </tr>\n",
       "    <tr>\n",
       "      <th>196767</th>\n",
       "      <td>6000</td>\n",
       "      <td>19635.788682</td>\n",
       "      <td>19635.788682</td>\n",
       "      <td>19728.817023</td>\n",
       "    </tr>\n",
       "  </tbody>\n",
       "</table>\n",
       "</div>"
      ],
      "text/plain": [
       "        price         Lasso         Ridge        LinReg\n",
       "125846  19491  19018.507383  19018.507383  18960.075638\n",
       "411514   8000  12035.328264  12035.328264  12108.588729\n",
       "363672  30495  25522.917970  25522.917970  25548.812972\n",
       "262952  29990  32829.552402  32829.552402  32591.337839\n",
       "192672  28995  19023.678825  19023.678825  19049.321609\n",
       "270239  32590  26107.915103  26107.915103  26069.563808\n",
       "99348    9499   7756.895902   7756.895902   7751.421102\n",
       "185160  32590  28568.563584  28568.563584  28501.199609\n",
       "254285   4300   4995.881718   4995.881718   4851.558426\n",
       "196767   6000  19635.788682  19635.788682  19728.817023"
      ]
     },
     "execution_count": 77,
     "metadata": {},
     "output_type": "execute_result"
    }
   ],
   "source": [
    "new_df.head(10)"
   ]
  },
  {
   "cell_type": "code",
   "execution_count": 78,
   "metadata": {},
   "outputs": [
    {
     "data": {
      "application/vnd.plotly.v1+json": {
       "config": {
        "plotlyServerURL": "https://plot.ly"
       },
       "data": [
        {
         "hovertemplate": "variable=price<br>index=%{x}<br>value=%{y}<extra></extra>",
         "legendgroup": "price",
         "line": {
          "color": "#636efa",
          "dash": "solid"
         },
         "marker": {
          "symbol": "circle"
         },
         "mode": "lines",
         "name": "price",
         "orientation": "v",
         "showlegend": true,
         "type": "scatter",
         "x": [
          11086,
          11095,
          11098,
          11099,
          11102,
          11119,
          11122,
          11124,
          11127,
          11131,
          11132,
          11134,
          11141,
          11145,
          11148,
          11154,
          11155,
          11159,
          11169,
          11175,
          11176,
          11179,
          11180,
          11183,
          11184,
          11186,
          11188,
          11200,
          11207,
          11208,
          11215,
          11221,
          11222,
          11223,
          11224,
          11227,
          11231,
          11239,
          11241,
          11248,
          11254,
          11263,
          11269,
          11273,
          11276,
          11280,
          11283,
          11284,
          11287,
          11292,
          11293,
          11294,
          11303,
          11310,
          11311,
          11318,
          11325,
          11327,
          11331,
          11332,
          11348,
          11354,
          11355,
          11363,
          11370,
          11375,
          11381,
          11383,
          11386,
          11387,
          11388,
          11391,
          11392,
          11393,
          11394,
          11395,
          11398,
          11401,
          11410,
          11411,
          11413,
          11416,
          11418,
          11419,
          11420,
          11426,
          11432,
          11434,
          11442,
          11444,
          11447,
          11453,
          11459,
          11462,
          11465,
          11470,
          11471,
          11475,
          11481,
          11491
         ],
         "xaxis": "x",
         "y": [
          18999,
          45995,
          29900,
          17000,
          5500,
          23950,
          26995,
          7995,
          16990,
          4495,
          10995,
          20000,
          13950,
          6995,
          8900,
          37590,
          3000,
          7500,
          19500,
          16950,
          500,
          24990,
          8900,
          23998,
          21998,
          24998,
          34998,
          16995,
          9950,
          36995,
          17590,
          6000,
          17994,
          2000,
          9991,
          26500,
          5300,
          83500,
          17995,
          1,
          13921,
          12995,
          500,
          10500,
          32995,
          27500,
          3800,
          13900,
          30590,
          57900,
          19990,
          8995,
          6500,
          6995,
          6800,
          7995,
          1,
          17995,
          11995,
          8995,
          36590,
          15999,
          4000,
          6995,
          12999,
          16995,
          8999,
          30990,
          30995,
          7995,
          55995,
          12994,
          6500,
          12999,
          7259,
          3500,
          21590,
          8645,
          6999,
          44995,
          9999,
          7900,
          21000,
          6900,
          14999,
          11999,
          4000,
          81999,
          7900,
          41000,
          4700,
          3700,
          7200,
          16900,
          5200,
          29981,
          55991,
          12950,
          500,
          17590
         ],
         "yaxis": "y"
        },
        {
         "hovertemplate": "variable=Lasso<br>index=%{x}<br>value=%{y}<extra></extra>",
         "legendgroup": "Lasso",
         "line": {
          "color": "#EF553B",
          "dash": "solid"
         },
         "marker": {
          "symbol": "circle"
         },
         "mode": "lines",
         "name": "Lasso",
         "orientation": "v",
         "showlegend": true,
         "type": "scatter",
         "x": [
          11086,
          11095,
          11098,
          11099,
          11102,
          11119,
          11122,
          11124,
          11127,
          11131,
          11132,
          11134,
          11141,
          11145,
          11148,
          11154,
          11155,
          11159,
          11169,
          11175,
          11176,
          11179,
          11180,
          11183,
          11184,
          11186,
          11188,
          11200,
          11207,
          11208,
          11215,
          11221,
          11222,
          11223,
          11224,
          11227,
          11231,
          11239,
          11241,
          11248,
          11254,
          11263,
          11269,
          11273,
          11276,
          11280,
          11283,
          11284,
          11287,
          11292,
          11293,
          11294,
          11303,
          11310,
          11311,
          11318,
          11325,
          11327,
          11331,
          11332,
          11348,
          11354,
          11355,
          11363,
          11370,
          11375,
          11381,
          11383,
          11386,
          11387,
          11388,
          11391,
          11392,
          11393,
          11394,
          11395,
          11398,
          11401,
          11410,
          11411,
          11413,
          11416,
          11418,
          11419,
          11420,
          11426,
          11432,
          11434,
          11442,
          11444,
          11447,
          11453,
          11459,
          11462,
          11465,
          11470,
          11471,
          11475,
          11481,
          11491
         ],
         "xaxis": "x",
         "y": [
          23117.65585020978,
          25227.728465142158,
          21651.928553687045,
          21127.112555944117,
          6826.6786893273875,
          23724.564985236007,
          32027.00172824363,
          9894.79627815782,
          31829.336634924126,
          11428.550824577407,
          15349.243122384449,
          23232.20028843772,
          9860.009271168485,
          10101.222938127143,
          10032.660854006359,
          32248.291407571804,
          5063.567936846088,
          1807.5370269813138,
          21653.62554780925,
          21699.66502346016,
          13640.276481002737,
          28665.45162629727,
          10395.288438681533,
          21758.85503685593,
          20375.32941867489,
          28020.213563931316,
          31181.349551982355,
          21654.660963528913,
          4502.679613578457,
          32010.9099810443,
          17338.135442637227,
          8121.424702207209,
          8120.321905510469,
          -4518.176210418071,
          12686.610896652086,
          24752.175123430225,
          6151.631975343746,
          51500.9732421696,
          22733.831019744703,
          21397.451137683674,
          12759.254537632216,
          15666.87913383107,
          8685.771530152588,
          12277.28266695187,
          27791.190341400783,
          23689.994246232272,
          3953.528097829996,
          15415.064030321857,
          28028.65450892259,
          46473.66283277405,
          16794.437233884924,
          8845.856365798432,
          3549.7511262297703,
          9236.247509466995,
          2340.895988824708,
          12950.272257315792,
          30503.948493946686,
          18703.171374127516,
          7130.303874163841,
          6369.672642043221,
          34802.508207279534,
          18728.618005194985,
          5133.550231571353,
          3662.6875473160653,
          18597.044186288153,
          9429.70791787795,
          11137.090406841417,
          27129.68503447657,
          31866.188007602443,
          13545.333805132137,
          42244.663918144746,
          8872.583106049606,
          11352.197487210557,
          16726.513599276554,
          5210.472537850408,
          3388.096023853115,
          21980.833399042025,
          11566.320691996974,
          15122.914920072226,
          28555.18780285156,
          17216.816819148393,
          8688.921771968959,
          19309.46391494018,
          17780.45948913723,
          21927.86887082754,
          18101.497911192768,
          -4821.305949892783,
          35896.82184197212,
          14433.228263380202,
          34783.290482923825,
          850.8963635427208,
          4341.089552887412,
          10086.424255510185,
          18934.7975625725,
          14497.113762589028,
          26855.939334794828,
          44271.864717480596,
          15126.378337466693,
          11207.765063146919,
          24404.110031381337
         ],
         "yaxis": "y"
        },
        {
         "hovertemplate": "variable=Ridge<br>index=%{x}<br>value=%{y}<extra></extra>",
         "legendgroup": "Ridge",
         "line": {
          "color": "#00cc96",
          "dash": "solid"
         },
         "marker": {
          "symbol": "circle"
         },
         "mode": "lines",
         "name": "Ridge",
         "orientation": "v",
         "showlegend": true,
         "type": "scatter",
         "x": [
          11086,
          11095,
          11098,
          11099,
          11102,
          11119,
          11122,
          11124,
          11127,
          11131,
          11132,
          11134,
          11141,
          11145,
          11148,
          11154,
          11155,
          11159,
          11169,
          11175,
          11176,
          11179,
          11180,
          11183,
          11184,
          11186,
          11188,
          11200,
          11207,
          11208,
          11215,
          11221,
          11222,
          11223,
          11224,
          11227,
          11231,
          11239,
          11241,
          11248,
          11254,
          11263,
          11269,
          11273,
          11276,
          11280,
          11283,
          11284,
          11287,
          11292,
          11293,
          11294,
          11303,
          11310,
          11311,
          11318,
          11325,
          11327,
          11331,
          11332,
          11348,
          11354,
          11355,
          11363,
          11370,
          11375,
          11381,
          11383,
          11386,
          11387,
          11388,
          11391,
          11392,
          11393,
          11394,
          11395,
          11398,
          11401,
          11410,
          11411,
          11413,
          11416,
          11418,
          11419,
          11420,
          11426,
          11432,
          11434,
          11442,
          11444,
          11447,
          11453,
          11459,
          11462,
          11465,
          11470,
          11471,
          11475,
          11481,
          11491
         ],
         "xaxis": "x",
         "y": [
          23117.65585020978,
          25227.728465142158,
          21651.928553687045,
          21127.112555944117,
          6826.6786893273875,
          23724.564985236007,
          32027.00172824363,
          9894.79627815782,
          31829.336634924126,
          11428.550824577407,
          15349.243122384449,
          23232.20028843772,
          9860.009271168485,
          10101.222938127143,
          10032.660854006359,
          32248.291407571804,
          5063.567936846088,
          1807.5370269813138,
          21653.62554780925,
          21699.66502346016,
          13640.276481002737,
          28665.45162629727,
          10395.288438681533,
          21758.85503685593,
          20375.32941867489,
          28020.213563931316,
          31181.349551982355,
          21654.660963528913,
          4502.679613578457,
          32010.9099810443,
          17338.135442637227,
          8121.424702207209,
          8120.321905510469,
          -4518.176210418071,
          12686.610896652086,
          24752.175123430225,
          6151.631975343746,
          51500.9732421696,
          22733.831019744703,
          21397.451137683674,
          12759.254537632216,
          15666.87913383107,
          8685.771530152588,
          12277.28266695187,
          27791.190341400783,
          23689.994246232272,
          3953.528097829996,
          15415.064030321857,
          28028.65450892259,
          46473.66283277405,
          16794.437233884924,
          8845.856365798432,
          3549.7511262297703,
          9236.247509466995,
          2340.895988824708,
          12950.272257315792,
          30503.948493946686,
          18703.171374127516,
          7130.303874163841,
          6369.672642043221,
          34802.508207279534,
          18728.618005194985,
          5133.550231571353,
          3662.6875473160653,
          18597.044186288153,
          9429.70791787795,
          11137.090406841417,
          27129.68503447657,
          31866.188007602443,
          13545.333805132137,
          42244.663918144746,
          8872.583106049606,
          11352.197487210557,
          16726.513599276554,
          5210.472537850408,
          3388.096023853115,
          21980.833399042025,
          11566.320691996974,
          15122.914920072226,
          28555.18780285156,
          17216.816819148393,
          8688.921771968959,
          19309.46391494018,
          17780.45948913723,
          21927.86887082754,
          18101.497911192768,
          -4821.305949892783,
          35896.82184197212,
          14433.228263380202,
          34783.290482923825,
          850.8963635427208,
          4341.089552887412,
          10086.424255510185,
          18934.7975625725,
          14497.113762589028,
          26855.939334794828,
          44271.864717480596,
          15126.378337466693,
          11207.765063146919,
          24404.110031381337
         ],
         "yaxis": "y"
        },
        {
         "hovertemplate": "variable=LinReg<br>index=%{x}<br>value=%{y}<extra></extra>",
         "legendgroup": "LinReg",
         "line": {
          "color": "#ab63fa",
          "dash": "solid"
         },
         "marker": {
          "symbol": "circle"
         },
         "mode": "lines",
         "name": "LinReg",
         "orientation": "v",
         "showlegend": true,
         "type": "scatter",
         "x": [
          11086,
          11095,
          11098,
          11099,
          11102,
          11119,
          11122,
          11124,
          11127,
          11131,
          11132,
          11134,
          11141,
          11145,
          11148,
          11154,
          11155,
          11159,
          11169,
          11175,
          11176,
          11179,
          11180,
          11183,
          11184,
          11186,
          11188,
          11200,
          11207,
          11208,
          11215,
          11221,
          11222,
          11223,
          11224,
          11227,
          11231,
          11239,
          11241,
          11248,
          11254,
          11263,
          11269,
          11273,
          11276,
          11280,
          11283,
          11284,
          11287,
          11292,
          11293,
          11294,
          11303,
          11310,
          11311,
          11318,
          11325,
          11327,
          11331,
          11332,
          11348,
          11354,
          11355,
          11363,
          11370,
          11375,
          11381,
          11383,
          11386,
          11387,
          11388,
          11391,
          11392,
          11393,
          11394,
          11395,
          11398,
          11401,
          11410,
          11411,
          11413,
          11416,
          11418,
          11419,
          11420,
          11426,
          11432,
          11434,
          11442,
          11444,
          11447,
          11453,
          11459,
          11462,
          11465,
          11470,
          11471,
          11475,
          11481,
          11491
         ],
         "xaxis": "x",
         "y": [
          23292.755795772006,
          25171.65805428575,
          21617.9441890919,
          21128.962234696544,
          6801.743088427567,
          23682.860369429673,
          31979.752560992318,
          9977.543681057869,
          31839.502533059986,
          11377.18378118717,
          15372.1949608363,
          23486.515250958953,
          9868.361071172698,
          10056.940201126043,
          9918.432276586045,
          32263.155771718597,
          5077.809794373841,
          1846.0563087675655,
          21698.994962376404,
          21607.064076180308,
          13840.391157096377,
          28644.59262335681,
          10318.952159908498,
          21733.243293598487,
          20331.798074390605,
          27994.386021498256,
          31220.505229649792,
          21662.453822953245,
          4538.349090998592,
          31874.784026929225,
          17257.885509864678,
          8007.339643292551,
          8076.3854822809735,
          -4573.323115220115,
          12866.519211095772,
          24690.088964390525,
          6456.559838123585,
          51503.151007664055,
          22847.67865895001,
          21430.993417544327,
          12791.781387999134,
          15578.042699748888,
          8716.715733454213,
          12514.26376294774,
          27657.612759042193,
          23579.421745782503,
          3982.5085226765186,
          15436.791324119979,
          27928.98067111642,
          46418.412282350946,
          17014.354562415778,
          8803.157145419818,
          3614.5787634958215,
          9125.589959412797,
          2619.759417969548,
          12842.649922192551,
          30541.91109723157,
          18650.066926190106,
          6975.225611602691,
          6276.820127241361,
          34771.00495067611,
          18535.262186811426,
          5164.975174034571,
          3593.8200981678237,
          18512.29683531508,
          9604.93654816568,
          11102.087399684515,
          27125.18141083512,
          31777.00465040172,
          13682.05407574645,
          42149.19456039886,
          8870.081273603313,
          11396.871173641777,
          16597.122859539537,
          5689.143875877957,
          3716.851686060758,
          21990.59431797255,
          11510.487587358535,
          15275.813902541406,
          28498.57545262714,
          17251.84612829419,
          8802.723157280125,
          19223.647572189246,
          17821.765087914013,
          21825.187214918602,
          17976.370945440452,
          -4603.310745350416,
          35908.36905668286,
          14258.325402634546,
          34762.10283564907,
          794.338453141896,
          4457.761088917976,
          10000.519165931451,
          18811.73308333018,
          14415.066870909399,
          26751.940469951307,
          44446.431651459105,
          15125.458843745579,
          11095.635244538915,
          24507.115412176114
         ],
         "yaxis": "y"
        }
       ],
       "layout": {
        "legend": {
         "title": {
          "text": "variable"
         },
         "tracegroupgap": 0
        },
        "margin": {
         "t": 60
        },
        "template": {
         "data": {
          "bar": [
           {
            "error_x": {
             "color": "#2a3f5f"
            },
            "error_y": {
             "color": "#2a3f5f"
            },
            "marker": {
             "line": {
              "color": "#E5ECF6",
              "width": 0.5
             },
             "pattern": {
              "fillmode": "overlay",
              "size": 10,
              "solidity": 0.2
             }
            },
            "type": "bar"
           }
          ],
          "barpolar": [
           {
            "marker": {
             "line": {
              "color": "#E5ECF6",
              "width": 0.5
             },
             "pattern": {
              "fillmode": "overlay",
              "size": 10,
              "solidity": 0.2
             }
            },
            "type": "barpolar"
           }
          ],
          "carpet": [
           {
            "aaxis": {
             "endlinecolor": "#2a3f5f",
             "gridcolor": "white",
             "linecolor": "white",
             "minorgridcolor": "white",
             "startlinecolor": "#2a3f5f"
            },
            "baxis": {
             "endlinecolor": "#2a3f5f",
             "gridcolor": "white",
             "linecolor": "white",
             "minorgridcolor": "white",
             "startlinecolor": "#2a3f5f"
            },
            "type": "carpet"
           }
          ],
          "choropleth": [
           {
            "colorbar": {
             "outlinewidth": 0,
             "ticks": ""
            },
            "type": "choropleth"
           }
          ],
          "contour": [
           {
            "colorbar": {
             "outlinewidth": 0,
             "ticks": ""
            },
            "colorscale": [
             [
              0,
              "#0d0887"
             ],
             [
              0.1111111111111111,
              "#46039f"
             ],
             [
              0.2222222222222222,
              "#7201a8"
             ],
             [
              0.3333333333333333,
              "#9c179e"
             ],
             [
              0.4444444444444444,
              "#bd3786"
             ],
             [
              0.5555555555555556,
              "#d8576b"
             ],
             [
              0.6666666666666666,
              "#ed7953"
             ],
             [
              0.7777777777777778,
              "#fb9f3a"
             ],
             [
              0.8888888888888888,
              "#fdca26"
             ],
             [
              1,
              "#f0f921"
             ]
            ],
            "type": "contour"
           }
          ],
          "contourcarpet": [
           {
            "colorbar": {
             "outlinewidth": 0,
             "ticks": ""
            },
            "type": "contourcarpet"
           }
          ],
          "heatmap": [
           {
            "colorbar": {
             "outlinewidth": 0,
             "ticks": ""
            },
            "colorscale": [
             [
              0,
              "#0d0887"
             ],
             [
              0.1111111111111111,
              "#46039f"
             ],
             [
              0.2222222222222222,
              "#7201a8"
             ],
             [
              0.3333333333333333,
              "#9c179e"
             ],
             [
              0.4444444444444444,
              "#bd3786"
             ],
             [
              0.5555555555555556,
              "#d8576b"
             ],
             [
              0.6666666666666666,
              "#ed7953"
             ],
             [
              0.7777777777777778,
              "#fb9f3a"
             ],
             [
              0.8888888888888888,
              "#fdca26"
             ],
             [
              1,
              "#f0f921"
             ]
            ],
            "type": "heatmap"
           }
          ],
          "heatmapgl": [
           {
            "colorbar": {
             "outlinewidth": 0,
             "ticks": ""
            },
            "colorscale": [
             [
              0,
              "#0d0887"
             ],
             [
              0.1111111111111111,
              "#46039f"
             ],
             [
              0.2222222222222222,
              "#7201a8"
             ],
             [
              0.3333333333333333,
              "#9c179e"
             ],
             [
              0.4444444444444444,
              "#bd3786"
             ],
             [
              0.5555555555555556,
              "#d8576b"
             ],
             [
              0.6666666666666666,
              "#ed7953"
             ],
             [
              0.7777777777777778,
              "#fb9f3a"
             ],
             [
              0.8888888888888888,
              "#fdca26"
             ],
             [
              1,
              "#f0f921"
             ]
            ],
            "type": "heatmapgl"
           }
          ],
          "histogram": [
           {
            "marker": {
             "pattern": {
              "fillmode": "overlay",
              "size": 10,
              "solidity": 0.2
             }
            },
            "type": "histogram"
           }
          ],
          "histogram2d": [
           {
            "colorbar": {
             "outlinewidth": 0,
             "ticks": ""
            },
            "colorscale": [
             [
              0,
              "#0d0887"
             ],
             [
              0.1111111111111111,
              "#46039f"
             ],
             [
              0.2222222222222222,
              "#7201a8"
             ],
             [
              0.3333333333333333,
              "#9c179e"
             ],
             [
              0.4444444444444444,
              "#bd3786"
             ],
             [
              0.5555555555555556,
              "#d8576b"
             ],
             [
              0.6666666666666666,
              "#ed7953"
             ],
             [
              0.7777777777777778,
              "#fb9f3a"
             ],
             [
              0.8888888888888888,
              "#fdca26"
             ],
             [
              1,
              "#f0f921"
             ]
            ],
            "type": "histogram2d"
           }
          ],
          "histogram2dcontour": [
           {
            "colorbar": {
             "outlinewidth": 0,
             "ticks": ""
            },
            "colorscale": [
             [
              0,
              "#0d0887"
             ],
             [
              0.1111111111111111,
              "#46039f"
             ],
             [
              0.2222222222222222,
              "#7201a8"
             ],
             [
              0.3333333333333333,
              "#9c179e"
             ],
             [
              0.4444444444444444,
              "#bd3786"
             ],
             [
              0.5555555555555556,
              "#d8576b"
             ],
             [
              0.6666666666666666,
              "#ed7953"
             ],
             [
              0.7777777777777778,
              "#fb9f3a"
             ],
             [
              0.8888888888888888,
              "#fdca26"
             ],
             [
              1,
              "#f0f921"
             ]
            ],
            "type": "histogram2dcontour"
           }
          ],
          "mesh3d": [
           {
            "colorbar": {
             "outlinewidth": 0,
             "ticks": ""
            },
            "type": "mesh3d"
           }
          ],
          "parcoords": [
           {
            "line": {
             "colorbar": {
              "outlinewidth": 0,
              "ticks": ""
             }
            },
            "type": "parcoords"
           }
          ],
          "pie": [
           {
            "automargin": true,
            "type": "pie"
           }
          ],
          "scatter": [
           {
            "fillpattern": {
             "fillmode": "overlay",
             "size": 10,
             "solidity": 0.2
            },
            "type": "scatter"
           }
          ],
          "scatter3d": [
           {
            "line": {
             "colorbar": {
              "outlinewidth": 0,
              "ticks": ""
             }
            },
            "marker": {
             "colorbar": {
              "outlinewidth": 0,
              "ticks": ""
             }
            },
            "type": "scatter3d"
           }
          ],
          "scattercarpet": [
           {
            "marker": {
             "colorbar": {
              "outlinewidth": 0,
              "ticks": ""
             }
            },
            "type": "scattercarpet"
           }
          ],
          "scattergeo": [
           {
            "marker": {
             "colorbar": {
              "outlinewidth": 0,
              "ticks": ""
             }
            },
            "type": "scattergeo"
           }
          ],
          "scattergl": [
           {
            "marker": {
             "colorbar": {
              "outlinewidth": 0,
              "ticks": ""
             }
            },
            "type": "scattergl"
           }
          ],
          "scattermapbox": [
           {
            "marker": {
             "colorbar": {
              "outlinewidth": 0,
              "ticks": ""
             }
            },
            "type": "scattermapbox"
           }
          ],
          "scatterpolar": [
           {
            "marker": {
             "colorbar": {
              "outlinewidth": 0,
              "ticks": ""
             }
            },
            "type": "scatterpolar"
           }
          ],
          "scatterpolargl": [
           {
            "marker": {
             "colorbar": {
              "outlinewidth": 0,
              "ticks": ""
             }
            },
            "type": "scatterpolargl"
           }
          ],
          "scatterternary": [
           {
            "marker": {
             "colorbar": {
              "outlinewidth": 0,
              "ticks": ""
             }
            },
            "type": "scatterternary"
           }
          ],
          "surface": [
           {
            "colorbar": {
             "outlinewidth": 0,
             "ticks": ""
            },
            "colorscale": [
             [
              0,
              "#0d0887"
             ],
             [
              0.1111111111111111,
              "#46039f"
             ],
             [
              0.2222222222222222,
              "#7201a8"
             ],
             [
              0.3333333333333333,
              "#9c179e"
             ],
             [
              0.4444444444444444,
              "#bd3786"
             ],
             [
              0.5555555555555556,
              "#d8576b"
             ],
             [
              0.6666666666666666,
              "#ed7953"
             ],
             [
              0.7777777777777778,
              "#fb9f3a"
             ],
             [
              0.8888888888888888,
              "#fdca26"
             ],
             [
              1,
              "#f0f921"
             ]
            ],
            "type": "surface"
           }
          ],
          "table": [
           {
            "cells": {
             "fill": {
              "color": "#EBF0F8"
             },
             "line": {
              "color": "white"
             }
            },
            "header": {
             "fill": {
              "color": "#C8D4E3"
             },
             "line": {
              "color": "white"
             }
            },
            "type": "table"
           }
          ]
         },
         "layout": {
          "annotationdefaults": {
           "arrowcolor": "#2a3f5f",
           "arrowhead": 0,
           "arrowwidth": 1
          },
          "autotypenumbers": "strict",
          "coloraxis": {
           "colorbar": {
            "outlinewidth": 0,
            "ticks": ""
           }
          },
          "colorscale": {
           "diverging": [
            [
             0,
             "#8e0152"
            ],
            [
             0.1,
             "#c51b7d"
            ],
            [
             0.2,
             "#de77ae"
            ],
            [
             0.3,
             "#f1b6da"
            ],
            [
             0.4,
             "#fde0ef"
            ],
            [
             0.5,
             "#f7f7f7"
            ],
            [
             0.6,
             "#e6f5d0"
            ],
            [
             0.7,
             "#b8e186"
            ],
            [
             0.8,
             "#7fbc41"
            ],
            [
             0.9,
             "#4d9221"
            ],
            [
             1,
             "#276419"
            ]
           ],
           "sequential": [
            [
             0,
             "#0d0887"
            ],
            [
             0.1111111111111111,
             "#46039f"
            ],
            [
             0.2222222222222222,
             "#7201a8"
            ],
            [
             0.3333333333333333,
             "#9c179e"
            ],
            [
             0.4444444444444444,
             "#bd3786"
            ],
            [
             0.5555555555555556,
             "#d8576b"
            ],
            [
             0.6666666666666666,
             "#ed7953"
            ],
            [
             0.7777777777777778,
             "#fb9f3a"
            ],
            [
             0.8888888888888888,
             "#fdca26"
            ],
            [
             1,
             "#f0f921"
            ]
           ],
           "sequentialminus": [
            [
             0,
             "#0d0887"
            ],
            [
             0.1111111111111111,
             "#46039f"
            ],
            [
             0.2222222222222222,
             "#7201a8"
            ],
            [
             0.3333333333333333,
             "#9c179e"
            ],
            [
             0.4444444444444444,
             "#bd3786"
            ],
            [
             0.5555555555555556,
             "#d8576b"
            ],
            [
             0.6666666666666666,
             "#ed7953"
            ],
            [
             0.7777777777777778,
             "#fb9f3a"
            ],
            [
             0.8888888888888888,
             "#fdca26"
            ],
            [
             1,
             "#f0f921"
            ]
           ]
          },
          "colorway": [
           "#636efa",
           "#EF553B",
           "#00cc96",
           "#ab63fa",
           "#FFA15A",
           "#19d3f3",
           "#FF6692",
           "#B6E880",
           "#FF97FF",
           "#FECB52"
          ],
          "font": {
           "color": "#2a3f5f"
          },
          "geo": {
           "bgcolor": "white",
           "lakecolor": "white",
           "landcolor": "#E5ECF6",
           "showlakes": true,
           "showland": true,
           "subunitcolor": "white"
          },
          "hoverlabel": {
           "align": "left"
          },
          "hovermode": "closest",
          "mapbox": {
           "style": "light"
          },
          "paper_bgcolor": "white",
          "plot_bgcolor": "#E5ECF6",
          "polar": {
           "angularaxis": {
            "gridcolor": "white",
            "linecolor": "white",
            "ticks": ""
           },
           "bgcolor": "#E5ECF6",
           "radialaxis": {
            "gridcolor": "white",
            "linecolor": "white",
            "ticks": ""
           }
          },
          "scene": {
           "xaxis": {
            "backgroundcolor": "#E5ECF6",
            "gridcolor": "white",
            "gridwidth": 2,
            "linecolor": "white",
            "showbackground": true,
            "ticks": "",
            "zerolinecolor": "white"
           },
           "yaxis": {
            "backgroundcolor": "#E5ECF6",
            "gridcolor": "white",
            "gridwidth": 2,
            "linecolor": "white",
            "showbackground": true,
            "ticks": "",
            "zerolinecolor": "white"
           },
           "zaxis": {
            "backgroundcolor": "#E5ECF6",
            "gridcolor": "white",
            "gridwidth": 2,
            "linecolor": "white",
            "showbackground": true,
            "ticks": "",
            "zerolinecolor": "white"
           }
          },
          "shapedefaults": {
           "line": {
            "color": "#2a3f5f"
           }
          },
          "ternary": {
           "aaxis": {
            "gridcolor": "white",
            "linecolor": "white",
            "ticks": ""
           },
           "baxis": {
            "gridcolor": "white",
            "linecolor": "white",
            "ticks": ""
           },
           "bgcolor": "#E5ECF6",
           "caxis": {
            "gridcolor": "white",
            "linecolor": "white",
            "ticks": ""
           }
          },
          "title": {
           "x": 0.05
          },
          "xaxis": {
           "automargin": true,
           "gridcolor": "white",
           "linecolor": "white",
           "ticks": "",
           "title": {
            "standoff": 15
           },
           "zerolinecolor": "white",
           "zerolinewidth": 2
          },
          "yaxis": {
           "automargin": true,
           "gridcolor": "white",
           "linecolor": "white",
           "ticks": "",
           "title": {
            "standoff": 15
           },
           "zerolinecolor": "white",
           "zerolinewidth": 2
          }
         }
        },
        "xaxis": {
         "anchor": "y",
         "domain": [
          0,
          1
         ],
         "title": {
          "text": "index"
         }
        },
        "yaxis": {
         "anchor": "x",
         "domain": [
          0,
          1
         ],
         "title": {
          "text": "value"
         }
        }
       }
      },
      "text/html": [
       "<div>                            <div id=\"26c85a19-5ae5-4120-8b20-4b06a22456b5\" class=\"plotly-graph-div\" style=\"height:525px; width:100%;\"></div>            <script type=\"text/javascript\">                require([\"plotly\"], function(Plotly) {                    window.PLOTLYENV=window.PLOTLYENV || {};                                    if (document.getElementById(\"26c85a19-5ae5-4120-8b20-4b06a22456b5\")) {                    Plotly.newPlot(                        \"26c85a19-5ae5-4120-8b20-4b06a22456b5\",                        [{\"hovertemplate\":\"variable=price<br>index=%{x}<br>value=%{y}<extra></extra>\",\"legendgroup\":\"price\",\"line\":{\"color\":\"#636efa\",\"dash\":\"solid\"},\"marker\":{\"symbol\":\"circle\"},\"mode\":\"lines\",\"name\":\"price\",\"orientation\":\"v\",\"showlegend\":true,\"x\":[11086,11095,11098,11099,11102,11119,11122,11124,11127,11131,11132,11134,11141,11145,11148,11154,11155,11159,11169,11175,11176,11179,11180,11183,11184,11186,11188,11200,11207,11208,11215,11221,11222,11223,11224,11227,11231,11239,11241,11248,11254,11263,11269,11273,11276,11280,11283,11284,11287,11292,11293,11294,11303,11310,11311,11318,11325,11327,11331,11332,11348,11354,11355,11363,11370,11375,11381,11383,11386,11387,11388,11391,11392,11393,11394,11395,11398,11401,11410,11411,11413,11416,11418,11419,11420,11426,11432,11434,11442,11444,11447,11453,11459,11462,11465,11470,11471,11475,11481,11491],\"xaxis\":\"x\",\"y\":[18999.0,45995.0,29900.0,17000.0,5500.0,23950.0,26995.0,7995.0,16990.0,4495.0,10995.0,20000.0,13950.0,6995.0,8900.0,37590.0,3000.0,7500.0,19500.0,16950.0,500.0,24990.0,8900.0,23998.0,21998.0,24998.0,34998.0,16995.0,9950.0,36995.0,17590.0,6000.0,17994.0,2000.0,9991.0,26500.0,5300.0,83500.0,17995.0,1.0,13921.0,12995.0,500.0,10500.0,32995.0,27500.0,3800.0,13900.0,30590.0,57900.0,19990.0,8995.0,6500.0,6995.0,6800.0,7995.0,1.0,17995.0,11995.0,8995.0,36590.0,15999.0,4000.0,6995.0,12999.0,16995.0,8999.0,30990.0,30995.0,7995.0,55995.0,12994.0,6500.0,12999.0,7259.0,3500.0,21590.0,8645.0,6999.0,44995.0,9999.0,7900.0,21000.0,6900.0,14999.0,11999.0,4000.0,81999.0,7900.0,41000.0,4700.0,3700.0,7200.0,16900.0,5200.0,29981.0,55991.0,12950.0,500.0,17590.0],\"yaxis\":\"y\",\"type\":\"scatter\"},{\"hovertemplate\":\"variable=Lasso<br>index=%{x}<br>value=%{y}<extra></extra>\",\"legendgroup\":\"Lasso\",\"line\":{\"color\":\"#EF553B\",\"dash\":\"solid\"},\"marker\":{\"symbol\":\"circle\"},\"mode\":\"lines\",\"name\":\"Lasso\",\"orientation\":\"v\",\"showlegend\":true,\"x\":[11086,11095,11098,11099,11102,11119,11122,11124,11127,11131,11132,11134,11141,11145,11148,11154,11155,11159,11169,11175,11176,11179,11180,11183,11184,11186,11188,11200,11207,11208,11215,11221,11222,11223,11224,11227,11231,11239,11241,11248,11254,11263,11269,11273,11276,11280,11283,11284,11287,11292,11293,11294,11303,11310,11311,11318,11325,11327,11331,11332,11348,11354,11355,11363,11370,11375,11381,11383,11386,11387,11388,11391,11392,11393,11394,11395,11398,11401,11410,11411,11413,11416,11418,11419,11420,11426,11432,11434,11442,11444,11447,11453,11459,11462,11465,11470,11471,11475,11481,11491],\"xaxis\":\"x\",\"y\":[23117.65585020978,25227.728465142158,21651.928553687045,21127.112555944117,6826.6786893273875,23724.564985236007,32027.00172824363,9894.79627815782,31829.336634924126,11428.550824577407,15349.243122384449,23232.20028843772,9860.009271168485,10101.222938127143,10032.660854006359,32248.291407571804,5063.567936846088,1807.5370269813138,21653.62554780925,21699.66502346016,13640.276481002737,28665.45162629727,10395.288438681533,21758.85503685593,20375.32941867489,28020.213563931316,31181.349551982355,21654.660963528913,4502.679613578457,32010.9099810443,17338.135442637227,8121.424702207209,8120.321905510469,-4518.176210418071,12686.610896652086,24752.175123430225,6151.631975343746,51500.9732421696,22733.831019744703,21397.451137683674,12759.254537632216,15666.87913383107,8685.771530152588,12277.28266695187,27791.190341400783,23689.994246232272,3953.528097829996,15415.064030321857,28028.65450892259,46473.66283277405,16794.437233884924,8845.856365798432,3549.7511262297703,9236.247509466995,2340.895988824708,12950.272257315792,30503.948493946686,18703.171374127516,7130.303874163841,6369.672642043221,34802.508207279534,18728.618005194985,5133.550231571353,3662.6875473160653,18597.044186288153,9429.70791787795,11137.090406841417,27129.68503447657,31866.188007602443,13545.333805132137,42244.663918144746,8872.583106049606,11352.197487210557,16726.513599276554,5210.472537850408,3388.096023853115,21980.833399042025,11566.320691996974,15122.914920072226,28555.18780285156,17216.816819148393,8688.921771968959,19309.46391494018,17780.45948913723,21927.86887082754,18101.497911192768,-4821.305949892783,35896.82184197212,14433.228263380202,34783.290482923825,850.8963635427208,4341.089552887412,10086.424255510185,18934.7975625725,14497.113762589028,26855.939334794828,44271.864717480596,15126.378337466693,11207.765063146919,24404.110031381337],\"yaxis\":\"y\",\"type\":\"scatter\"},{\"hovertemplate\":\"variable=Ridge<br>index=%{x}<br>value=%{y}<extra></extra>\",\"legendgroup\":\"Ridge\",\"line\":{\"color\":\"#00cc96\",\"dash\":\"solid\"},\"marker\":{\"symbol\":\"circle\"},\"mode\":\"lines\",\"name\":\"Ridge\",\"orientation\":\"v\",\"showlegend\":true,\"x\":[11086,11095,11098,11099,11102,11119,11122,11124,11127,11131,11132,11134,11141,11145,11148,11154,11155,11159,11169,11175,11176,11179,11180,11183,11184,11186,11188,11200,11207,11208,11215,11221,11222,11223,11224,11227,11231,11239,11241,11248,11254,11263,11269,11273,11276,11280,11283,11284,11287,11292,11293,11294,11303,11310,11311,11318,11325,11327,11331,11332,11348,11354,11355,11363,11370,11375,11381,11383,11386,11387,11388,11391,11392,11393,11394,11395,11398,11401,11410,11411,11413,11416,11418,11419,11420,11426,11432,11434,11442,11444,11447,11453,11459,11462,11465,11470,11471,11475,11481,11491],\"xaxis\":\"x\",\"y\":[23117.65585020978,25227.728465142158,21651.928553687045,21127.112555944117,6826.6786893273875,23724.564985236007,32027.00172824363,9894.79627815782,31829.336634924126,11428.550824577407,15349.243122384449,23232.20028843772,9860.009271168485,10101.222938127143,10032.660854006359,32248.291407571804,5063.567936846088,1807.5370269813138,21653.62554780925,21699.66502346016,13640.276481002737,28665.45162629727,10395.288438681533,21758.85503685593,20375.32941867489,28020.213563931316,31181.349551982355,21654.660963528913,4502.679613578457,32010.9099810443,17338.135442637227,8121.424702207209,8120.321905510469,-4518.176210418071,12686.610896652086,24752.175123430225,6151.631975343746,51500.9732421696,22733.831019744703,21397.451137683674,12759.254537632216,15666.87913383107,8685.771530152588,12277.28266695187,27791.190341400783,23689.994246232272,3953.528097829996,15415.064030321857,28028.65450892259,46473.66283277405,16794.437233884924,8845.856365798432,3549.7511262297703,9236.247509466995,2340.895988824708,12950.272257315792,30503.948493946686,18703.171374127516,7130.303874163841,6369.672642043221,34802.508207279534,18728.618005194985,5133.550231571353,3662.6875473160653,18597.044186288153,9429.70791787795,11137.090406841417,27129.68503447657,31866.188007602443,13545.333805132137,42244.663918144746,8872.583106049606,11352.197487210557,16726.513599276554,5210.472537850408,3388.096023853115,21980.833399042025,11566.320691996974,15122.914920072226,28555.18780285156,17216.816819148393,8688.921771968959,19309.46391494018,17780.45948913723,21927.86887082754,18101.497911192768,-4821.305949892783,35896.82184197212,14433.228263380202,34783.290482923825,850.8963635427208,4341.089552887412,10086.424255510185,18934.7975625725,14497.113762589028,26855.939334794828,44271.864717480596,15126.378337466693,11207.765063146919,24404.110031381337],\"yaxis\":\"y\",\"type\":\"scatter\"},{\"hovertemplate\":\"variable=LinReg<br>index=%{x}<br>value=%{y}<extra></extra>\",\"legendgroup\":\"LinReg\",\"line\":{\"color\":\"#ab63fa\",\"dash\":\"solid\"},\"marker\":{\"symbol\":\"circle\"},\"mode\":\"lines\",\"name\":\"LinReg\",\"orientation\":\"v\",\"showlegend\":true,\"x\":[11086,11095,11098,11099,11102,11119,11122,11124,11127,11131,11132,11134,11141,11145,11148,11154,11155,11159,11169,11175,11176,11179,11180,11183,11184,11186,11188,11200,11207,11208,11215,11221,11222,11223,11224,11227,11231,11239,11241,11248,11254,11263,11269,11273,11276,11280,11283,11284,11287,11292,11293,11294,11303,11310,11311,11318,11325,11327,11331,11332,11348,11354,11355,11363,11370,11375,11381,11383,11386,11387,11388,11391,11392,11393,11394,11395,11398,11401,11410,11411,11413,11416,11418,11419,11420,11426,11432,11434,11442,11444,11447,11453,11459,11462,11465,11470,11471,11475,11481,11491],\"xaxis\":\"x\",\"y\":[23292.755795772006,25171.65805428575,21617.9441890919,21128.962234696544,6801.743088427567,23682.860369429673,31979.752560992318,9977.543681057869,31839.502533059986,11377.18378118717,15372.1949608363,23486.515250958953,9868.361071172698,10056.940201126043,9918.432276586045,32263.155771718597,5077.809794373841,1846.0563087675655,21698.994962376404,21607.064076180308,13840.391157096377,28644.59262335681,10318.952159908498,21733.243293598487,20331.798074390605,27994.386021498256,31220.505229649792,21662.453822953245,4538.349090998592,31874.784026929225,17257.885509864678,8007.339643292551,8076.3854822809735,-4573.323115220115,12866.519211095772,24690.088964390525,6456.559838123585,51503.151007664055,22847.67865895001,21430.993417544327,12791.781387999134,15578.042699748888,8716.715733454213,12514.26376294774,27657.612759042193,23579.421745782503,3982.5085226765186,15436.791324119979,27928.98067111642,46418.412282350946,17014.354562415778,8803.157145419818,3614.5787634958215,9125.589959412797,2619.759417969548,12842.649922192551,30541.91109723157,18650.066926190106,6975.225611602691,6276.820127241361,34771.00495067611,18535.262186811426,5164.975174034571,3593.8200981678237,18512.29683531508,9604.93654816568,11102.087399684515,27125.18141083512,31777.00465040172,13682.05407574645,42149.19456039886,8870.081273603313,11396.871173641777,16597.122859539537,5689.143875877957,3716.851686060758,21990.59431797255,11510.487587358535,15275.813902541406,28498.57545262714,17251.84612829419,8802.723157280125,19223.647572189246,17821.765087914013,21825.187214918602,17976.370945440452,-4603.310745350416,35908.36905668286,14258.325402634546,34762.10283564907,794.338453141896,4457.761088917976,10000.519165931451,18811.73308333018,14415.066870909399,26751.940469951307,44446.431651459105,15125.458843745579,11095.635244538915,24507.115412176114],\"yaxis\":\"y\",\"type\":\"scatter\"}],                        {\"template\":{\"data\":{\"histogram2dcontour\":[{\"type\":\"histogram2dcontour\",\"colorbar\":{\"outlinewidth\":0,\"ticks\":\"\"},\"colorscale\":[[0.0,\"#0d0887\"],[0.1111111111111111,\"#46039f\"],[0.2222222222222222,\"#7201a8\"],[0.3333333333333333,\"#9c179e\"],[0.4444444444444444,\"#bd3786\"],[0.5555555555555556,\"#d8576b\"],[0.6666666666666666,\"#ed7953\"],[0.7777777777777778,\"#fb9f3a\"],[0.8888888888888888,\"#fdca26\"],[1.0,\"#f0f921\"]]}],\"choropleth\":[{\"type\":\"choropleth\",\"colorbar\":{\"outlinewidth\":0,\"ticks\":\"\"}}],\"histogram2d\":[{\"type\":\"histogram2d\",\"colorbar\":{\"outlinewidth\":0,\"ticks\":\"\"},\"colorscale\":[[0.0,\"#0d0887\"],[0.1111111111111111,\"#46039f\"],[0.2222222222222222,\"#7201a8\"],[0.3333333333333333,\"#9c179e\"],[0.4444444444444444,\"#bd3786\"],[0.5555555555555556,\"#d8576b\"],[0.6666666666666666,\"#ed7953\"],[0.7777777777777778,\"#fb9f3a\"],[0.8888888888888888,\"#fdca26\"],[1.0,\"#f0f921\"]]}],\"heatmap\":[{\"type\":\"heatmap\",\"colorbar\":{\"outlinewidth\":0,\"ticks\":\"\"},\"colorscale\":[[0.0,\"#0d0887\"],[0.1111111111111111,\"#46039f\"],[0.2222222222222222,\"#7201a8\"],[0.3333333333333333,\"#9c179e\"],[0.4444444444444444,\"#bd3786\"],[0.5555555555555556,\"#d8576b\"],[0.6666666666666666,\"#ed7953\"],[0.7777777777777778,\"#fb9f3a\"],[0.8888888888888888,\"#fdca26\"],[1.0,\"#f0f921\"]]}],\"heatmapgl\":[{\"type\":\"heatmapgl\",\"colorbar\":{\"outlinewidth\":0,\"ticks\":\"\"},\"colorscale\":[[0.0,\"#0d0887\"],[0.1111111111111111,\"#46039f\"],[0.2222222222222222,\"#7201a8\"],[0.3333333333333333,\"#9c179e\"],[0.4444444444444444,\"#bd3786\"],[0.5555555555555556,\"#d8576b\"],[0.6666666666666666,\"#ed7953\"],[0.7777777777777778,\"#fb9f3a\"],[0.8888888888888888,\"#fdca26\"],[1.0,\"#f0f921\"]]}],\"contourcarpet\":[{\"type\":\"contourcarpet\",\"colorbar\":{\"outlinewidth\":0,\"ticks\":\"\"}}],\"contour\":[{\"type\":\"contour\",\"colorbar\":{\"outlinewidth\":0,\"ticks\":\"\"},\"colorscale\":[[0.0,\"#0d0887\"],[0.1111111111111111,\"#46039f\"],[0.2222222222222222,\"#7201a8\"],[0.3333333333333333,\"#9c179e\"],[0.4444444444444444,\"#bd3786\"],[0.5555555555555556,\"#d8576b\"],[0.6666666666666666,\"#ed7953\"],[0.7777777777777778,\"#fb9f3a\"],[0.8888888888888888,\"#fdca26\"],[1.0,\"#f0f921\"]]}],\"surface\":[{\"type\":\"surface\",\"colorbar\":{\"outlinewidth\":0,\"ticks\":\"\"},\"colorscale\":[[0.0,\"#0d0887\"],[0.1111111111111111,\"#46039f\"],[0.2222222222222222,\"#7201a8\"],[0.3333333333333333,\"#9c179e\"],[0.4444444444444444,\"#bd3786\"],[0.5555555555555556,\"#d8576b\"],[0.6666666666666666,\"#ed7953\"],[0.7777777777777778,\"#fb9f3a\"],[0.8888888888888888,\"#fdca26\"],[1.0,\"#f0f921\"]]}],\"mesh3d\":[{\"type\":\"mesh3d\",\"colorbar\":{\"outlinewidth\":0,\"ticks\":\"\"}}],\"scatter\":[{\"fillpattern\":{\"fillmode\":\"overlay\",\"size\":10,\"solidity\":0.2},\"type\":\"scatter\"}],\"parcoords\":[{\"type\":\"parcoords\",\"line\":{\"colorbar\":{\"outlinewidth\":0,\"ticks\":\"\"}}}],\"scatterpolargl\":[{\"type\":\"scatterpolargl\",\"marker\":{\"colorbar\":{\"outlinewidth\":0,\"ticks\":\"\"}}}],\"bar\":[{\"error_x\":{\"color\":\"#2a3f5f\"},\"error_y\":{\"color\":\"#2a3f5f\"},\"marker\":{\"line\":{\"color\":\"#E5ECF6\",\"width\":0.5},\"pattern\":{\"fillmode\":\"overlay\",\"size\":10,\"solidity\":0.2}},\"type\":\"bar\"}],\"scattergeo\":[{\"type\":\"scattergeo\",\"marker\":{\"colorbar\":{\"outlinewidth\":0,\"ticks\":\"\"}}}],\"scatterpolar\":[{\"type\":\"scatterpolar\",\"marker\":{\"colorbar\":{\"outlinewidth\":0,\"ticks\":\"\"}}}],\"histogram\":[{\"marker\":{\"pattern\":{\"fillmode\":\"overlay\",\"size\":10,\"solidity\":0.2}},\"type\":\"histogram\"}],\"scattergl\":[{\"type\":\"scattergl\",\"marker\":{\"colorbar\":{\"outlinewidth\":0,\"ticks\":\"\"}}}],\"scatter3d\":[{\"type\":\"scatter3d\",\"line\":{\"colorbar\":{\"outlinewidth\":0,\"ticks\":\"\"}},\"marker\":{\"colorbar\":{\"outlinewidth\":0,\"ticks\":\"\"}}}],\"scattermapbox\":[{\"type\":\"scattermapbox\",\"marker\":{\"colorbar\":{\"outlinewidth\":0,\"ticks\":\"\"}}}],\"scatterternary\":[{\"type\":\"scatterternary\",\"marker\":{\"colorbar\":{\"outlinewidth\":0,\"ticks\":\"\"}}}],\"scattercarpet\":[{\"type\":\"scattercarpet\",\"marker\":{\"colorbar\":{\"outlinewidth\":0,\"ticks\":\"\"}}}],\"carpet\":[{\"aaxis\":{\"endlinecolor\":\"#2a3f5f\",\"gridcolor\":\"white\",\"linecolor\":\"white\",\"minorgridcolor\":\"white\",\"startlinecolor\":\"#2a3f5f\"},\"baxis\":{\"endlinecolor\":\"#2a3f5f\",\"gridcolor\":\"white\",\"linecolor\":\"white\",\"minorgridcolor\":\"white\",\"startlinecolor\":\"#2a3f5f\"},\"type\":\"carpet\"}],\"table\":[{\"cells\":{\"fill\":{\"color\":\"#EBF0F8\"},\"line\":{\"color\":\"white\"}},\"header\":{\"fill\":{\"color\":\"#C8D4E3\"},\"line\":{\"color\":\"white\"}},\"type\":\"table\"}],\"barpolar\":[{\"marker\":{\"line\":{\"color\":\"#E5ECF6\",\"width\":0.5},\"pattern\":{\"fillmode\":\"overlay\",\"size\":10,\"solidity\":0.2}},\"type\":\"barpolar\"}],\"pie\":[{\"automargin\":true,\"type\":\"pie\"}]},\"layout\":{\"autotypenumbers\":\"strict\",\"colorway\":[\"#636efa\",\"#EF553B\",\"#00cc96\",\"#ab63fa\",\"#FFA15A\",\"#19d3f3\",\"#FF6692\",\"#B6E880\",\"#FF97FF\",\"#FECB52\"],\"font\":{\"color\":\"#2a3f5f\"},\"hovermode\":\"closest\",\"hoverlabel\":{\"align\":\"left\"},\"paper_bgcolor\":\"white\",\"plot_bgcolor\":\"#E5ECF6\",\"polar\":{\"bgcolor\":\"#E5ECF6\",\"angularaxis\":{\"gridcolor\":\"white\",\"linecolor\":\"white\",\"ticks\":\"\"},\"radialaxis\":{\"gridcolor\":\"white\",\"linecolor\":\"white\",\"ticks\":\"\"}},\"ternary\":{\"bgcolor\":\"#E5ECF6\",\"aaxis\":{\"gridcolor\":\"white\",\"linecolor\":\"white\",\"ticks\":\"\"},\"baxis\":{\"gridcolor\":\"white\",\"linecolor\":\"white\",\"ticks\":\"\"},\"caxis\":{\"gridcolor\":\"white\",\"linecolor\":\"white\",\"ticks\":\"\"}},\"coloraxis\":{\"colorbar\":{\"outlinewidth\":0,\"ticks\":\"\"}},\"colorscale\":{\"sequential\":[[0.0,\"#0d0887\"],[0.1111111111111111,\"#46039f\"],[0.2222222222222222,\"#7201a8\"],[0.3333333333333333,\"#9c179e\"],[0.4444444444444444,\"#bd3786\"],[0.5555555555555556,\"#d8576b\"],[0.6666666666666666,\"#ed7953\"],[0.7777777777777778,\"#fb9f3a\"],[0.8888888888888888,\"#fdca26\"],[1.0,\"#f0f921\"]],\"sequentialminus\":[[0.0,\"#0d0887\"],[0.1111111111111111,\"#46039f\"],[0.2222222222222222,\"#7201a8\"],[0.3333333333333333,\"#9c179e\"],[0.4444444444444444,\"#bd3786\"],[0.5555555555555556,\"#d8576b\"],[0.6666666666666666,\"#ed7953\"],[0.7777777777777778,\"#fb9f3a\"],[0.8888888888888888,\"#fdca26\"],[1.0,\"#f0f921\"]],\"diverging\":[[0,\"#8e0152\"],[0.1,\"#c51b7d\"],[0.2,\"#de77ae\"],[0.3,\"#f1b6da\"],[0.4,\"#fde0ef\"],[0.5,\"#f7f7f7\"],[0.6,\"#e6f5d0\"],[0.7,\"#b8e186\"],[0.8,\"#7fbc41\"],[0.9,\"#4d9221\"],[1,\"#276419\"]]},\"xaxis\":{\"gridcolor\":\"white\",\"linecolor\":\"white\",\"ticks\":\"\",\"title\":{\"standoff\":15},\"zerolinecolor\":\"white\",\"automargin\":true,\"zerolinewidth\":2},\"yaxis\":{\"gridcolor\":\"white\",\"linecolor\":\"white\",\"ticks\":\"\",\"title\":{\"standoff\":15},\"zerolinecolor\":\"white\",\"automargin\":true,\"zerolinewidth\":2},\"scene\":{\"xaxis\":{\"backgroundcolor\":\"#E5ECF6\",\"gridcolor\":\"white\",\"linecolor\":\"white\",\"showbackground\":true,\"ticks\":\"\",\"zerolinecolor\":\"white\",\"gridwidth\":2},\"yaxis\":{\"backgroundcolor\":\"#E5ECF6\",\"gridcolor\":\"white\",\"linecolor\":\"white\",\"showbackground\":true,\"ticks\":\"\",\"zerolinecolor\":\"white\",\"gridwidth\":2},\"zaxis\":{\"backgroundcolor\":\"#E5ECF6\",\"gridcolor\":\"white\",\"linecolor\":\"white\",\"showbackground\":true,\"ticks\":\"\",\"zerolinecolor\":\"white\",\"gridwidth\":2}},\"shapedefaults\":{\"line\":{\"color\":\"#2a3f5f\"}},\"annotationdefaults\":{\"arrowcolor\":\"#2a3f5f\",\"arrowhead\":0,\"arrowwidth\":1},\"geo\":{\"bgcolor\":\"white\",\"landcolor\":\"#E5ECF6\",\"subunitcolor\":\"white\",\"showland\":true,\"showlakes\":true,\"lakecolor\":\"white\"},\"title\":{\"x\":0.05},\"mapbox\":{\"style\":\"light\"}}},\"xaxis\":{\"anchor\":\"y\",\"domain\":[0.0,1.0],\"title\":{\"text\":\"index\"}},\"yaxis\":{\"anchor\":\"x\",\"domain\":[0.0,1.0],\"title\":{\"text\":\"value\"}},\"legend\":{\"title\":{\"text\":\"variable\"},\"tracegroupgap\":0},\"margin\":{\"t\":60}},                        {\"responsive\": true}                    ).then(function(){\n",
       "                            \n",
       "var gd = document.getElementById('26c85a19-5ae5-4120-8b20-4b06a22456b5');\n",
       "var x = new MutationObserver(function (mutations, observer) {{\n",
       "        var display = window.getComputedStyle(gd).display;\n",
       "        if (!display || display === 'none') {{\n",
       "            console.log([gd, 'removed!']);\n",
       "            Plotly.purge(gd);\n",
       "            observer.disconnect();\n",
       "        }}\n",
       "}});\n",
       "\n",
       "// Listen for the removal of the full notebook cells\n",
       "var notebookContainer = gd.closest('#notebook-container');\n",
       "if (notebookContainer) {{\n",
       "    x.observe(notebookContainer, {childList: true});\n",
       "}}\n",
       "\n",
       "// Listen for the clearing of the current output cell\n",
       "var outputEl = gd.closest('.output');\n",
       "if (outputEl) {{\n",
       "    x.observe(outputEl, {childList: true});\n",
       "}}\n",
       "\n",
       "                        })                };                });            </script>        </div>"
      ]
     },
     "metadata": {},
     "output_type": "display_data"
    }
   ],
   "source": [
    "new_df.sort_index()[3000:3100].plot(kind='line', backend='plotly')"
   ]
  },
  {
   "cell_type": "code",
   "execution_count": null,
   "metadata": {},
   "outputs": [],
   "source": []
  },
  {
   "cell_type": "code",
   "execution_count": null,
   "metadata": {},
   "outputs": [],
   "source": []
  },
  {
   "cell_type": "code",
   "execution_count": null,
   "metadata": {},
   "outputs": [],
   "source": []
  },
  {
   "cell_type": "markdown",
   "metadata": {},
   "source": [
    "### Evaluation\n",
    "\n",
    "With some modeling accomplished, we aim to reflect on what we identify as a high quality model and what we are able to learn from this.  We should review our business objective and explore how well we can provide meaningful insight on drivers of used car prices.  Your goal now is to distill your findings and determine whether the earlier phases need revisitation and adjustment or if you have information of value to bring back to your client."
   ]
  },
  {
   "cell_type": "code",
   "execution_count": 96,
   "metadata": {},
   "outputs": [
    {
     "data": {
      "text/html": [
       "<style>#sk-container-id-13 {color: black;}#sk-container-id-13 pre{padding: 0;}#sk-container-id-13 div.sk-toggleable {background-color: white;}#sk-container-id-13 label.sk-toggleable__label {cursor: pointer;display: block;width: 100%;margin-bottom: 0;padding: 0.3em;box-sizing: border-box;text-align: center;}#sk-container-id-13 label.sk-toggleable__label-arrow:before {content: \"▸\";float: left;margin-right: 0.25em;color: #696969;}#sk-container-id-13 label.sk-toggleable__label-arrow:hover:before {color: black;}#sk-container-id-13 div.sk-estimator:hover label.sk-toggleable__label-arrow:before {color: black;}#sk-container-id-13 div.sk-toggleable__content {max-height: 0;max-width: 0;overflow: hidden;text-align: left;background-color: #f0f8ff;}#sk-container-id-13 div.sk-toggleable__content pre {margin: 0.2em;color: black;border-radius: 0.25em;background-color: #f0f8ff;}#sk-container-id-13 input.sk-toggleable__control:checked~div.sk-toggleable__content {max-height: 200px;max-width: 100%;overflow: auto;}#sk-container-id-13 input.sk-toggleable__control:checked~label.sk-toggleable__label-arrow:before {content: \"▾\";}#sk-container-id-13 div.sk-estimator input.sk-toggleable__control:checked~label.sk-toggleable__label {background-color: #d4ebff;}#sk-container-id-13 div.sk-label input.sk-toggleable__control:checked~label.sk-toggleable__label {background-color: #d4ebff;}#sk-container-id-13 input.sk-hidden--visually {border: 0;clip: rect(1px 1px 1px 1px);clip: rect(1px, 1px, 1px, 1px);height: 1px;margin: -1px;overflow: hidden;padding: 0;position: absolute;width: 1px;}#sk-container-id-13 div.sk-estimator {font-family: monospace;background-color: #f0f8ff;border: 1px dotted black;border-radius: 0.25em;box-sizing: border-box;margin-bottom: 0.5em;}#sk-container-id-13 div.sk-estimator:hover {background-color: #d4ebff;}#sk-container-id-13 div.sk-parallel-item::after {content: \"\";width: 100%;border-bottom: 1px solid gray;flex-grow: 1;}#sk-container-id-13 div.sk-label:hover label.sk-toggleable__label {background-color: #d4ebff;}#sk-container-id-13 div.sk-serial::before {content: \"\";position: absolute;border-left: 1px solid gray;box-sizing: border-box;top: 0;bottom: 0;left: 50%;z-index: 0;}#sk-container-id-13 div.sk-serial {display: flex;flex-direction: column;align-items: center;background-color: white;padding-right: 0.2em;padding-left: 0.2em;position: relative;}#sk-container-id-13 div.sk-item {position: relative;z-index: 1;}#sk-container-id-13 div.sk-parallel {display: flex;align-items: stretch;justify-content: center;background-color: white;position: relative;}#sk-container-id-13 div.sk-item::before, #sk-container-id-13 div.sk-parallel-item::before {content: \"\";position: absolute;border-left: 1px solid gray;box-sizing: border-box;top: 0;bottom: 0;left: 50%;z-index: -1;}#sk-container-id-13 div.sk-parallel-item {display: flex;flex-direction: column;z-index: 1;position: relative;background-color: white;}#sk-container-id-13 div.sk-parallel-item:first-child::after {align-self: flex-end;width: 50%;}#sk-container-id-13 div.sk-parallel-item:last-child::after {align-self: flex-start;width: 50%;}#sk-container-id-13 div.sk-parallel-item:only-child::after {width: 0;}#sk-container-id-13 div.sk-dashed-wrapped {border: 1px dashed gray;margin: 0 0.4em 0.5em 0.4em;box-sizing: border-box;padding-bottom: 0.4em;background-color: white;}#sk-container-id-13 div.sk-label label {font-family: monospace;font-weight: bold;display: inline-block;line-height: 1.2em;}#sk-container-id-13 div.sk-label-container {text-align: center;}#sk-container-id-13 div.sk-container {/* jupyter's `normalize.less` sets `[hidden] { display: none; }` but bootstrap.min.css set `[hidden] { display: none !important; }` so we also need the `!important` here to be able to override the default hidden behavior on the sphinx rendered scikit-learn.org. See: https://github.com/scikit-learn/scikit-learn/issues/21755 */display: inline-block !important;position: relative;}#sk-container-id-13 div.sk-text-repr-fallback {display: none;}</style><div id=\"sk-container-id-13\" class=\"sk-top-container\"><div class=\"sk-text-repr-fallback\"><pre>Pipeline(steps=[(&#x27;col_transformer&#x27;,\n",
       "                 ColumnTransformer(remainder=&#x27;passthrough&#x27;,\n",
       "                                   transformers=[(&#x27;onehotencoder&#x27;,\n",
       "                                                  OneHotEncoder(drop=&#x27;if_binary&#x27;),\n",
       "                                                  [&#x27;manufacturer&#x27;, &#x27;fuel&#x27;,\n",
       "                                                   &#x27;title_status&#x27;,\n",
       "                                                   &#x27;transmission&#x27;, &#x27;state&#x27;,\n",
       "                                                   &#x27;condition&#x27;, &#x27;drive&#x27;, &#x27;type&#x27;,\n",
       "                                                   &#x27;cylinders&#x27;, &#x27;paint_color&#x27;,\n",
       "                                                   &#x27;size&#x27;])])),\n",
       "                (&#x27;normalize&#x27;,\n",
       "                 QuantileTransformer(output_distribution=&#x27;normal&#x27;)),\n",
       "                (&#x27;scaler&#x27;, StandardScaler(with_mean=False)),\n",
       "                (&#x27;selector&#x27;,\n",
       "                 SequentialFeatureSelector(estimator=Lasso(),\n",
       "                                           n_features_to_select=10)),\n",
       "                (&#x27;model&#x27;, LinearRegression())])</pre><b>In a Jupyter environment, please rerun this cell to show the HTML representation or trust the notebook. <br />On GitHub, the HTML representation is unable to render, please try loading this page with nbviewer.org.</b></div><div class=\"sk-container\" hidden><div class=\"sk-item sk-dashed-wrapped\"><div class=\"sk-label-container\"><div class=\"sk-label sk-toggleable\"><input class=\"sk-toggleable__control sk-hidden--visually\" id=\"sk-estimator-id-108\" type=\"checkbox\" ><label for=\"sk-estimator-id-108\" class=\"sk-toggleable__label sk-toggleable__label-arrow\">Pipeline</label><div class=\"sk-toggleable__content\"><pre>Pipeline(steps=[(&#x27;col_transformer&#x27;,\n",
       "                 ColumnTransformer(remainder=&#x27;passthrough&#x27;,\n",
       "                                   transformers=[(&#x27;onehotencoder&#x27;,\n",
       "                                                  OneHotEncoder(drop=&#x27;if_binary&#x27;),\n",
       "                                                  [&#x27;manufacturer&#x27;, &#x27;fuel&#x27;,\n",
       "                                                   &#x27;title_status&#x27;,\n",
       "                                                   &#x27;transmission&#x27;, &#x27;state&#x27;,\n",
       "                                                   &#x27;condition&#x27;, &#x27;drive&#x27;, &#x27;type&#x27;,\n",
       "                                                   &#x27;cylinders&#x27;, &#x27;paint_color&#x27;,\n",
       "                                                   &#x27;size&#x27;])])),\n",
       "                (&#x27;normalize&#x27;,\n",
       "                 QuantileTransformer(output_distribution=&#x27;normal&#x27;)),\n",
       "                (&#x27;scaler&#x27;, StandardScaler(with_mean=False)),\n",
       "                (&#x27;selector&#x27;,\n",
       "                 SequentialFeatureSelector(estimator=Lasso(),\n",
       "                                           n_features_to_select=10)),\n",
       "                (&#x27;model&#x27;, LinearRegression())])</pre></div></div></div><div class=\"sk-serial\"><div class=\"sk-item sk-dashed-wrapped\"><div class=\"sk-label-container\"><div class=\"sk-label sk-toggleable\"><input class=\"sk-toggleable__control sk-hidden--visually\" id=\"sk-estimator-id-109\" type=\"checkbox\" ><label for=\"sk-estimator-id-109\" class=\"sk-toggleable__label sk-toggleable__label-arrow\">col_transformer: ColumnTransformer</label><div class=\"sk-toggleable__content\"><pre>ColumnTransformer(remainder=&#x27;passthrough&#x27;,\n",
       "                  transformers=[(&#x27;onehotencoder&#x27;,\n",
       "                                 OneHotEncoder(drop=&#x27;if_binary&#x27;),\n",
       "                                 [&#x27;manufacturer&#x27;, &#x27;fuel&#x27;, &#x27;title_status&#x27;,\n",
       "                                  &#x27;transmission&#x27;, &#x27;state&#x27;, &#x27;condition&#x27;, &#x27;drive&#x27;,\n",
       "                                  &#x27;type&#x27;, &#x27;cylinders&#x27;, &#x27;paint_color&#x27;,\n",
       "                                  &#x27;size&#x27;])])</pre></div></div></div><div class=\"sk-parallel\"><div class=\"sk-parallel-item\"><div class=\"sk-item\"><div class=\"sk-label-container\"><div class=\"sk-label sk-toggleable\"><input class=\"sk-toggleable__control sk-hidden--visually\" id=\"sk-estimator-id-110\" type=\"checkbox\" ><label for=\"sk-estimator-id-110\" class=\"sk-toggleable__label sk-toggleable__label-arrow\">onehotencoder</label><div class=\"sk-toggleable__content\"><pre>[&#x27;manufacturer&#x27;, &#x27;fuel&#x27;, &#x27;title_status&#x27;, &#x27;transmission&#x27;, &#x27;state&#x27;, &#x27;condition&#x27;, &#x27;drive&#x27;, &#x27;type&#x27;, &#x27;cylinders&#x27;, &#x27;paint_color&#x27;, &#x27;size&#x27;]</pre></div></div></div><div class=\"sk-serial\"><div class=\"sk-item\"><div class=\"sk-estimator sk-toggleable\"><input class=\"sk-toggleable__control sk-hidden--visually\" id=\"sk-estimator-id-111\" type=\"checkbox\" ><label for=\"sk-estimator-id-111\" class=\"sk-toggleable__label sk-toggleable__label-arrow\">OneHotEncoder</label><div class=\"sk-toggleable__content\"><pre>OneHotEncoder(drop=&#x27;if_binary&#x27;)</pre></div></div></div></div></div></div><div class=\"sk-parallel-item\"><div class=\"sk-item\"><div class=\"sk-label-container\"><div class=\"sk-label sk-toggleable\"><input class=\"sk-toggleable__control sk-hidden--visually\" id=\"sk-estimator-id-112\" type=\"checkbox\" ><label for=\"sk-estimator-id-112\" class=\"sk-toggleable__label sk-toggleable__label-arrow\">remainder</label><div class=\"sk-toggleable__content\"><pre>[&#x27;year&#x27;, &#x27;odometer&#x27;]</pre></div></div></div><div class=\"sk-serial\"><div class=\"sk-item\"><div class=\"sk-estimator sk-toggleable\"><input class=\"sk-toggleable__control sk-hidden--visually\" id=\"sk-estimator-id-113\" type=\"checkbox\" ><label for=\"sk-estimator-id-113\" class=\"sk-toggleable__label sk-toggleable__label-arrow\">passthrough</label><div class=\"sk-toggleable__content\"><pre>passthrough</pre></div></div></div></div></div></div></div></div><div class=\"sk-item\"><div class=\"sk-estimator sk-toggleable\"><input class=\"sk-toggleable__control sk-hidden--visually\" id=\"sk-estimator-id-114\" type=\"checkbox\" ><label for=\"sk-estimator-id-114\" class=\"sk-toggleable__label sk-toggleable__label-arrow\">QuantileTransformer</label><div class=\"sk-toggleable__content\"><pre>QuantileTransformer(output_distribution=&#x27;normal&#x27;)</pre></div></div></div><div class=\"sk-item\"><div class=\"sk-estimator sk-toggleable\"><input class=\"sk-toggleable__control sk-hidden--visually\" id=\"sk-estimator-id-115\" type=\"checkbox\" ><label for=\"sk-estimator-id-115\" class=\"sk-toggleable__label sk-toggleable__label-arrow\">StandardScaler</label><div class=\"sk-toggleable__content\"><pre>StandardScaler(with_mean=False)</pre></div></div></div><div class=\"sk-item sk-dashed-wrapped\"><div class=\"sk-label-container\"><div class=\"sk-label sk-toggleable\"><input class=\"sk-toggleable__control sk-hidden--visually\" id=\"sk-estimator-id-116\" type=\"checkbox\" ><label for=\"sk-estimator-id-116\" class=\"sk-toggleable__label sk-toggleable__label-arrow\">selector: SequentialFeatureSelector</label><div class=\"sk-toggleable__content\"><pre>SequentialFeatureSelector(estimator=Lasso(), n_features_to_select=10)</pre></div></div></div><div class=\"sk-parallel\"><div class=\"sk-parallel-item\"><div class=\"sk-item\"><div class=\"sk-label-container\"><div class=\"sk-label sk-toggleable\"><input class=\"sk-toggleable__control sk-hidden--visually\" id=\"sk-estimator-id-117\" type=\"checkbox\" ><label for=\"sk-estimator-id-117\" class=\"sk-toggleable__label sk-toggleable__label-arrow\">estimator: Lasso</label><div class=\"sk-toggleable__content\"><pre>Lasso()</pre></div></div></div><div class=\"sk-serial\"><div class=\"sk-item\"><div class=\"sk-estimator sk-toggleable\"><input class=\"sk-toggleable__control sk-hidden--visually\" id=\"sk-estimator-id-118\" type=\"checkbox\" ><label for=\"sk-estimator-id-118\" class=\"sk-toggleable__label sk-toggleable__label-arrow\">Lasso</label><div class=\"sk-toggleable__content\"><pre>Lasso()</pre></div></div></div></div></div></div></div></div><div class=\"sk-item\"><div class=\"sk-estimator sk-toggleable\"><input class=\"sk-toggleable__control sk-hidden--visually\" id=\"sk-estimator-id-119\" type=\"checkbox\" ><label for=\"sk-estimator-id-119\" class=\"sk-toggleable__label sk-toggleable__label-arrow\">LinearRegression</label><div class=\"sk-toggleable__content\"><pre>LinearRegression()</pre></div></div></div></div></div></div></div>"
      ],
      "text/plain": [
       "Pipeline(steps=[('col_transformer',\n",
       "                 ColumnTransformer(remainder='passthrough',\n",
       "                                   transformers=[('onehotencoder',\n",
       "                                                  OneHotEncoder(drop='if_binary'),\n",
       "                                                  ['manufacturer', 'fuel',\n",
       "                                                   'title_status',\n",
       "                                                   'transmission', 'state',\n",
       "                                                   'condition', 'drive', 'type',\n",
       "                                                   'cylinders', 'paint_color',\n",
       "                                                   'size'])])),\n",
       "                ('normalize',\n",
       "                 QuantileTransformer(output_distribution='normal')),\n",
       "                ('scaler', StandardScaler(with_mean=False)),\n",
       "                ('selector',\n",
       "                 SequentialFeatureSelector(estimator=Lasso(),\n",
       "                                           n_features_to_select=10)),\n",
       "                ('model', LinearRegression())])"
      ]
     },
     "execution_count": 96,
     "metadata": {},
     "output_type": "execute_result"
    }
   ],
   "source": [
    "# Best Features:\n",
    "pipe = Pipeline([\n",
    "                ('col_transformer', col_transformer), \n",
    "                ('normalize', QuantileTransformer(output_distribution='normal')),\n",
    "                ('scaler', StandardScaler(with_mean=False)), \n",
    "                ('selector', SequentialFeatureSelector(Lasso(), n_features_to_select=10)),\n",
    "                ('model', LinearRegression())])\n",
    "\n",
    "pipe"
   ]
  },
  {
   "cell_type": "code",
   "execution_count": 97,
   "metadata": {},
   "outputs": [
    {
     "name": "stdout",
     "output_type": "stream",
     "text": [
      "Train LinReg Best 4 Features RMSE:  9440.253037971452\n",
      "Test LinReg Best 4 Features RMSE:   9405.002928218317\n"
     ]
    }
   ],
   "source": [
    "X = cars_clean.drop('price', axis = 1)\n",
    "\n",
    "y = cars_clean['price']\n",
    "\n",
    "X_train, X_test, y_train, y_test = train_test_split(X, y, test_size=0.30, random_state=45)\n",
    "\n",
    "pipe.fit(X_train, y_train)\n",
    "\n",
    "feat_preds_train = pipe.predict(X_train)\n",
    "feat_preds_test = pipe.predict(X_test)\n",
    "\n",
    "feat_train_mse = root_mean_squared_error(y_train, feat_preds_train)\n",
    "feat_test_mse = root_mean_squared_error(y_test, feat_preds_test)\n",
    "\n",
    "print('Train LinReg Best 4 Features RMSE: ', feat_train_mse)\n",
    "print('Test LinReg Best 4 Features RMSE:  ', feat_test_mse)"
   ]
  },
  {
   "cell_type": "code",
   "execution_count": 98,
   "metadata": {},
   "outputs": [
    {
     "data": {
      "text/plain": [
       "array(['onehotencoder__manufacturer_ferrari',\n",
       "       'onehotencoder__fuel_diesel', 'onehotencoder__title_status_clean',\n",
       "       'onehotencoder__drive_fwd', 'onehotencoder__drive_unknown_drive',\n",
       "       'onehotencoder__type_pickup',\n",
       "       'onehotencoder__cylinders_4 cylinders',\n",
       "       'onehotencoder__cylinders_8 cylinders', 'remainder__year',\n",
       "       'remainder__odometer'], dtype=object)"
      ]
     },
     "execution_count": 98,
     "metadata": {},
     "output_type": "execute_result"
    }
   ],
   "source": [
    "features = pipe.named_steps['col_transformer'].get_feature_names_out()\n",
    "sel_features = pipe.named_steps['selector'].get_feature_names_out()\n",
    "indexes = []\n",
    "for s in sel_features:\n",
    "    indexes.append(int(s[1:]))\n",
    "\n",
    "features[indexes]"
   ]
  },
  {
   "cell_type": "code",
   "execution_count": null,
   "metadata": {},
   "outputs": [],
   "source": []
  },
  {
   "cell_type": "code",
   "execution_count": 202,
   "metadata": {},
   "outputs": [
    {
     "data": {
      "text/html": [
       "<style>#sk-container-id-21 {color: black;}#sk-container-id-21 pre{padding: 0;}#sk-container-id-21 div.sk-toggleable {background-color: white;}#sk-container-id-21 label.sk-toggleable__label {cursor: pointer;display: block;width: 100%;margin-bottom: 0;padding: 0.3em;box-sizing: border-box;text-align: center;}#sk-container-id-21 label.sk-toggleable__label-arrow:before {content: \"▸\";float: left;margin-right: 0.25em;color: #696969;}#sk-container-id-21 label.sk-toggleable__label-arrow:hover:before {color: black;}#sk-container-id-21 div.sk-estimator:hover label.sk-toggleable__label-arrow:before {color: black;}#sk-container-id-21 div.sk-toggleable__content {max-height: 0;max-width: 0;overflow: hidden;text-align: left;background-color: #f0f8ff;}#sk-container-id-21 div.sk-toggleable__content pre {margin: 0.2em;color: black;border-radius: 0.25em;background-color: #f0f8ff;}#sk-container-id-21 input.sk-toggleable__control:checked~div.sk-toggleable__content {max-height: 200px;max-width: 100%;overflow: auto;}#sk-container-id-21 input.sk-toggleable__control:checked~label.sk-toggleable__label-arrow:before {content: \"▾\";}#sk-container-id-21 div.sk-estimator input.sk-toggleable__control:checked~label.sk-toggleable__label {background-color: #d4ebff;}#sk-container-id-21 div.sk-label input.sk-toggleable__control:checked~label.sk-toggleable__label {background-color: #d4ebff;}#sk-container-id-21 input.sk-hidden--visually {border: 0;clip: rect(1px 1px 1px 1px);clip: rect(1px, 1px, 1px, 1px);height: 1px;margin: -1px;overflow: hidden;padding: 0;position: absolute;width: 1px;}#sk-container-id-21 div.sk-estimator {font-family: monospace;background-color: #f0f8ff;border: 1px dotted black;border-radius: 0.25em;box-sizing: border-box;margin-bottom: 0.5em;}#sk-container-id-21 div.sk-estimator:hover {background-color: #d4ebff;}#sk-container-id-21 div.sk-parallel-item::after {content: \"\";width: 100%;border-bottom: 1px solid gray;flex-grow: 1;}#sk-container-id-21 div.sk-label:hover label.sk-toggleable__label {background-color: #d4ebff;}#sk-container-id-21 div.sk-serial::before {content: \"\";position: absolute;border-left: 1px solid gray;box-sizing: border-box;top: 0;bottom: 0;left: 50%;z-index: 0;}#sk-container-id-21 div.sk-serial {display: flex;flex-direction: column;align-items: center;background-color: white;padding-right: 0.2em;padding-left: 0.2em;position: relative;}#sk-container-id-21 div.sk-item {position: relative;z-index: 1;}#sk-container-id-21 div.sk-parallel {display: flex;align-items: stretch;justify-content: center;background-color: white;position: relative;}#sk-container-id-21 div.sk-item::before, #sk-container-id-21 div.sk-parallel-item::before {content: \"\";position: absolute;border-left: 1px solid gray;box-sizing: border-box;top: 0;bottom: 0;left: 50%;z-index: -1;}#sk-container-id-21 div.sk-parallel-item {display: flex;flex-direction: column;z-index: 1;position: relative;background-color: white;}#sk-container-id-21 div.sk-parallel-item:first-child::after {align-self: flex-end;width: 50%;}#sk-container-id-21 div.sk-parallel-item:last-child::after {align-self: flex-start;width: 50%;}#sk-container-id-21 div.sk-parallel-item:only-child::after {width: 0;}#sk-container-id-21 div.sk-dashed-wrapped {border: 1px dashed gray;margin: 0 0.4em 0.5em 0.4em;box-sizing: border-box;padding-bottom: 0.4em;background-color: white;}#sk-container-id-21 div.sk-label label {font-family: monospace;font-weight: bold;display: inline-block;line-height: 1.2em;}#sk-container-id-21 div.sk-label-container {text-align: center;}#sk-container-id-21 div.sk-container {/* jupyter's `normalize.less` sets `[hidden] { display: none; }` but bootstrap.min.css set `[hidden] { display: none !important; }` so we also need the `!important` here to be able to override the default hidden behavior on the sphinx rendered scikit-learn.org. See: https://github.com/scikit-learn/scikit-learn/issues/21755 */display: inline-block !important;position: relative;}#sk-container-id-21 div.sk-text-repr-fallback {display: none;}</style><div id=\"sk-container-id-21\" class=\"sk-top-container\"><div class=\"sk-text-repr-fallback\"><pre>Pipeline(steps=[(&#x27;col_transformer&#x27;,\n",
       "                 ColumnTransformer(remainder=&#x27;passthrough&#x27;,\n",
       "                                   transformers=[(&#x27;onehotencoder&#x27;,\n",
       "                                                  OneHotEncoder(drop=&#x27;if_binary&#x27;),\n",
       "                                                  [&#x27;manufacturer&#x27;, &#x27;fuel&#x27;,\n",
       "                                                   &#x27;title_status&#x27;,\n",
       "                                                   &#x27;transmission&#x27;, &#x27;state&#x27;,\n",
       "                                                   &#x27;condition&#x27;, &#x27;drive&#x27;, &#x27;type&#x27;,\n",
       "                                                   &#x27;cylinders&#x27;, &#x27;paint_color&#x27;,\n",
       "                                                   &#x27;size&#x27;])])),\n",
       "                (&#x27;normalize&#x27;,\n",
       "                 QuantileTransformer(output_distribution=&#x27;normal&#x27;)),\n",
       "                (&#x27;scaler&#x27;, StandardScaler(with_mean=False)),\n",
       "                (&#x27;selector&#x27;,\n",
       "                 SequentialFeatureSelector(estimator=Lasso(),\n",
       "                                           n_features_to_select=4)),\n",
       "                (&#x27;model&#x27;, LinearRegression())])</pre><b>In a Jupyter environment, please rerun this cell to show the HTML representation or trust the notebook. <br />On GitHub, the HTML representation is unable to render, please try loading this page with nbviewer.org.</b></div><div class=\"sk-container\" hidden><div class=\"sk-item sk-dashed-wrapped\"><div class=\"sk-label-container\"><div class=\"sk-label sk-toggleable\"><input class=\"sk-toggleable__control sk-hidden--visually\" id=\"sk-estimator-id-159\" type=\"checkbox\" ><label for=\"sk-estimator-id-159\" class=\"sk-toggleable__label sk-toggleable__label-arrow\">Pipeline</label><div class=\"sk-toggleable__content\"><pre>Pipeline(steps=[(&#x27;col_transformer&#x27;,\n",
       "                 ColumnTransformer(remainder=&#x27;passthrough&#x27;,\n",
       "                                   transformers=[(&#x27;onehotencoder&#x27;,\n",
       "                                                  OneHotEncoder(drop=&#x27;if_binary&#x27;),\n",
       "                                                  [&#x27;manufacturer&#x27;, &#x27;fuel&#x27;,\n",
       "                                                   &#x27;title_status&#x27;,\n",
       "                                                   &#x27;transmission&#x27;, &#x27;state&#x27;,\n",
       "                                                   &#x27;condition&#x27;, &#x27;drive&#x27;, &#x27;type&#x27;,\n",
       "                                                   &#x27;cylinders&#x27;, &#x27;paint_color&#x27;,\n",
       "                                                   &#x27;size&#x27;])])),\n",
       "                (&#x27;normalize&#x27;,\n",
       "                 QuantileTransformer(output_distribution=&#x27;normal&#x27;)),\n",
       "                (&#x27;scaler&#x27;, StandardScaler(with_mean=False)),\n",
       "                (&#x27;selector&#x27;,\n",
       "                 SequentialFeatureSelector(estimator=Lasso(),\n",
       "                                           n_features_to_select=4)),\n",
       "                (&#x27;model&#x27;, LinearRegression())])</pre></div></div></div><div class=\"sk-serial\"><div class=\"sk-item sk-dashed-wrapped\"><div class=\"sk-label-container\"><div class=\"sk-label sk-toggleable\"><input class=\"sk-toggleable__control sk-hidden--visually\" id=\"sk-estimator-id-160\" type=\"checkbox\" ><label for=\"sk-estimator-id-160\" class=\"sk-toggleable__label sk-toggleable__label-arrow\">col_transformer: ColumnTransformer</label><div class=\"sk-toggleable__content\"><pre>ColumnTransformer(remainder=&#x27;passthrough&#x27;,\n",
       "                  transformers=[(&#x27;onehotencoder&#x27;,\n",
       "                                 OneHotEncoder(drop=&#x27;if_binary&#x27;),\n",
       "                                 [&#x27;manufacturer&#x27;, &#x27;fuel&#x27;, &#x27;title_status&#x27;,\n",
       "                                  &#x27;transmission&#x27;, &#x27;state&#x27;, &#x27;condition&#x27;, &#x27;drive&#x27;,\n",
       "                                  &#x27;type&#x27;, &#x27;cylinders&#x27;, &#x27;paint_color&#x27;,\n",
       "                                  &#x27;size&#x27;])])</pre></div></div></div><div class=\"sk-parallel\"><div class=\"sk-parallel-item\"><div class=\"sk-item\"><div class=\"sk-label-container\"><div class=\"sk-label sk-toggleable\"><input class=\"sk-toggleable__control sk-hidden--visually\" id=\"sk-estimator-id-161\" type=\"checkbox\" ><label for=\"sk-estimator-id-161\" class=\"sk-toggleable__label sk-toggleable__label-arrow\">onehotencoder</label><div class=\"sk-toggleable__content\"><pre>[&#x27;manufacturer&#x27;, &#x27;fuel&#x27;, &#x27;title_status&#x27;, &#x27;transmission&#x27;, &#x27;state&#x27;, &#x27;condition&#x27;, &#x27;drive&#x27;, &#x27;type&#x27;, &#x27;cylinders&#x27;, &#x27;paint_color&#x27;, &#x27;size&#x27;]</pre></div></div></div><div class=\"sk-serial\"><div class=\"sk-item\"><div class=\"sk-estimator sk-toggleable\"><input class=\"sk-toggleable__control sk-hidden--visually\" id=\"sk-estimator-id-162\" type=\"checkbox\" ><label for=\"sk-estimator-id-162\" class=\"sk-toggleable__label sk-toggleable__label-arrow\">OneHotEncoder</label><div class=\"sk-toggleable__content\"><pre>OneHotEncoder(drop=&#x27;if_binary&#x27;)</pre></div></div></div></div></div></div><div class=\"sk-parallel-item\"><div class=\"sk-item\"><div class=\"sk-label-container\"><div class=\"sk-label sk-toggleable\"><input class=\"sk-toggleable__control sk-hidden--visually\" id=\"sk-estimator-id-163\" type=\"checkbox\" ><label for=\"sk-estimator-id-163\" class=\"sk-toggleable__label sk-toggleable__label-arrow\">remainder</label><div class=\"sk-toggleable__content\"><pre>[&#x27;year&#x27;, &#x27;odometer&#x27;]</pre></div></div></div><div class=\"sk-serial\"><div class=\"sk-item\"><div class=\"sk-estimator sk-toggleable\"><input class=\"sk-toggleable__control sk-hidden--visually\" id=\"sk-estimator-id-164\" type=\"checkbox\" ><label for=\"sk-estimator-id-164\" class=\"sk-toggleable__label sk-toggleable__label-arrow\">passthrough</label><div class=\"sk-toggleable__content\"><pre>passthrough</pre></div></div></div></div></div></div></div></div><div class=\"sk-item\"><div class=\"sk-estimator sk-toggleable\"><input class=\"sk-toggleable__control sk-hidden--visually\" id=\"sk-estimator-id-165\" type=\"checkbox\" ><label for=\"sk-estimator-id-165\" class=\"sk-toggleable__label sk-toggleable__label-arrow\">QuantileTransformer</label><div class=\"sk-toggleable__content\"><pre>QuantileTransformer(output_distribution=&#x27;normal&#x27;)</pre></div></div></div><div class=\"sk-item\"><div class=\"sk-estimator sk-toggleable\"><input class=\"sk-toggleable__control sk-hidden--visually\" id=\"sk-estimator-id-166\" type=\"checkbox\" ><label for=\"sk-estimator-id-166\" class=\"sk-toggleable__label sk-toggleable__label-arrow\">StandardScaler</label><div class=\"sk-toggleable__content\"><pre>StandardScaler(with_mean=False)</pre></div></div></div><div class=\"sk-item sk-dashed-wrapped\"><div class=\"sk-label-container\"><div class=\"sk-label sk-toggleable\"><input class=\"sk-toggleable__control sk-hidden--visually\" id=\"sk-estimator-id-167\" type=\"checkbox\" ><label for=\"sk-estimator-id-167\" class=\"sk-toggleable__label sk-toggleable__label-arrow\">selector: SequentialFeatureSelector</label><div class=\"sk-toggleable__content\"><pre>SequentialFeatureSelector(estimator=Lasso(), n_features_to_select=4)</pre></div></div></div><div class=\"sk-parallel\"><div class=\"sk-parallel-item\"><div class=\"sk-item\"><div class=\"sk-label-container\"><div class=\"sk-label sk-toggleable\"><input class=\"sk-toggleable__control sk-hidden--visually\" id=\"sk-estimator-id-168\" type=\"checkbox\" ><label for=\"sk-estimator-id-168\" class=\"sk-toggleable__label sk-toggleable__label-arrow\">estimator: Lasso</label><div class=\"sk-toggleable__content\"><pre>Lasso()</pre></div></div></div><div class=\"sk-serial\"><div class=\"sk-item\"><div class=\"sk-estimator sk-toggleable\"><input class=\"sk-toggleable__control sk-hidden--visually\" id=\"sk-estimator-id-169\" type=\"checkbox\" ><label for=\"sk-estimator-id-169\" class=\"sk-toggleable__label sk-toggleable__label-arrow\">Lasso</label><div class=\"sk-toggleable__content\"><pre>Lasso()</pre></div></div></div></div></div></div></div></div><div class=\"sk-item\"><div class=\"sk-estimator sk-toggleable\"><input class=\"sk-toggleable__control sk-hidden--visually\" id=\"sk-estimator-id-170\" type=\"checkbox\" ><label for=\"sk-estimator-id-170\" class=\"sk-toggleable__label sk-toggleable__label-arrow\">LinearRegression</label><div class=\"sk-toggleable__content\"><pre>LinearRegression()</pre></div></div></div></div></div></div></div>"
      ],
      "text/plain": [
       "Pipeline(steps=[('col_transformer',\n",
       "                 ColumnTransformer(remainder='passthrough',\n",
       "                                   transformers=[('onehotencoder',\n",
       "                                                  OneHotEncoder(drop='if_binary'),\n",
       "                                                  ['manufacturer', 'fuel',\n",
       "                                                   'title_status',\n",
       "                                                   'transmission', 'state',\n",
       "                                                   'condition', 'drive', 'type',\n",
       "                                                   'cylinders', 'paint_color',\n",
       "                                                   'size'])])),\n",
       "                ('normalize',\n",
       "                 QuantileTransformer(output_distribution='normal')),\n",
       "                ('scaler', StandardScaler(with_mean=False)),\n",
       "                ('selector',\n",
       "                 SequentialFeatureSelector(estimator=Lasso(),\n",
       "                                           n_features_to_select=4)),\n",
       "                ('model', LinearRegression())])"
      ]
     },
     "execution_count": 202,
     "metadata": {},
     "output_type": "execute_result"
    }
   ],
   "source": [
    "pipe = Pipeline([\n",
    "                ('col_transformer', col_transformer), \n",
    "                ('normalize', QuantileTransformer(output_distribution='normal')),\n",
    "                ('scaler', StandardScaler(with_mean=False)), \n",
    "                ('selector', SequentialFeatureSelector(Lasso(), n_features_to_select=4)),\n",
    "                ('model', LinearRegression())])\n",
    "\n",
    "pipe"
   ]
  },
  {
   "cell_type": "code",
   "execution_count": 204,
   "metadata": {},
   "outputs": [
    {
     "name": "stdout",
     "output_type": "stream",
     "text": [
      "Train GridSearch RMSE:  9339.03100315559\n",
      "Test GridSearch RMSE:   9300.229048679726\n"
     ]
    }
   ],
   "source": [
    "X = cars_clean.drop('price', axis = 1)\n",
    "\n",
    "y = cars_clean['price']\n",
    "\n",
    "X_train, X_test, y_train, y_test = train_test_split(X, y, test_size=0.30, random_state=45)\n",
    "\n",
    "param_dict = {'selector__n_features_to_select': [4, 5, 6, 7, 8, 9, 10]}\n",
    "             #'model__alpha': [0.1, 0.2, 0.4, 0.5, 0.7, 0.9]}\n",
    "\n",
    "mygrid = GridSearchCV(estimator = pipe, param_grid=param_dict)\n",
    "mygrid.fit(X_train,y_train)\n",
    "\n",
    "grid_preds_train = mygrid.predict(X_train)\n",
    "grid_preds_test = mygrid.predict(X_test)\n",
    "\n",
    "grid_train_mse = root_mean_squared_error(y_train, grid_preds_train)\n",
    "grid_test_mse = root_mean_squared_error(y_test, grid_preds_test)\n",
    "\n",
    "print('Train GridSearch RMSE: ', grid_train_mse)\n",
    "print('Test GridSearch RMSE:  ', grid_test_mse)"
   ]
  },
  {
   "cell_type": "code",
   "execution_count": 206,
   "metadata": {},
   "outputs": [
    {
     "data": {
      "text/plain": [
       "array(['onehotencoder__manufacturer_ferrari',\n",
       "       'onehotencoder__fuel_diesel', 'onehotencoder__title_status_clean',\n",
       "       'onehotencoder__drive_fwd', 'onehotencoder__drive_unknown_drive',\n",
       "       'onehotencoder__type_pickup',\n",
       "       'onehotencoder__cylinders_4 cylinders',\n",
       "       'onehotencoder__cylinders_8 cylinders', 'remainder__year',\n",
       "       'remainder__odometer'], dtype=object)"
      ]
     },
     "execution_count": 206,
     "metadata": {},
     "output_type": "execute_result"
    }
   ],
   "source": [
    "best_selector = mygrid.best_estimator_.named_steps['selector']\n",
    "best_selector.get_support()\n",
    "pipe.named_steps['col_transformer'].get_feature_names_out()[best_selector.get_support()]"
   ]
  },
  {
   "cell_type": "code",
   "execution_count": 207,
   "metadata": {},
   "outputs": [
    {
     "data": {
      "text/html": [
       "<style>#sk-container-id-23 {color: black;}#sk-container-id-23 pre{padding: 0;}#sk-container-id-23 div.sk-toggleable {background-color: white;}#sk-container-id-23 label.sk-toggleable__label {cursor: pointer;display: block;width: 100%;margin-bottom: 0;padding: 0.3em;box-sizing: border-box;text-align: center;}#sk-container-id-23 label.sk-toggleable__label-arrow:before {content: \"▸\";float: left;margin-right: 0.25em;color: #696969;}#sk-container-id-23 label.sk-toggleable__label-arrow:hover:before {color: black;}#sk-container-id-23 div.sk-estimator:hover label.sk-toggleable__label-arrow:before {color: black;}#sk-container-id-23 div.sk-toggleable__content {max-height: 0;max-width: 0;overflow: hidden;text-align: left;background-color: #f0f8ff;}#sk-container-id-23 div.sk-toggleable__content pre {margin: 0.2em;color: black;border-radius: 0.25em;background-color: #f0f8ff;}#sk-container-id-23 input.sk-toggleable__control:checked~div.sk-toggleable__content {max-height: 200px;max-width: 100%;overflow: auto;}#sk-container-id-23 input.sk-toggleable__control:checked~label.sk-toggleable__label-arrow:before {content: \"▾\";}#sk-container-id-23 div.sk-estimator input.sk-toggleable__control:checked~label.sk-toggleable__label {background-color: #d4ebff;}#sk-container-id-23 div.sk-label input.sk-toggleable__control:checked~label.sk-toggleable__label {background-color: #d4ebff;}#sk-container-id-23 input.sk-hidden--visually {border: 0;clip: rect(1px 1px 1px 1px);clip: rect(1px, 1px, 1px, 1px);height: 1px;margin: -1px;overflow: hidden;padding: 0;position: absolute;width: 1px;}#sk-container-id-23 div.sk-estimator {font-family: monospace;background-color: #f0f8ff;border: 1px dotted black;border-radius: 0.25em;box-sizing: border-box;margin-bottom: 0.5em;}#sk-container-id-23 div.sk-estimator:hover {background-color: #d4ebff;}#sk-container-id-23 div.sk-parallel-item::after {content: \"\";width: 100%;border-bottom: 1px solid gray;flex-grow: 1;}#sk-container-id-23 div.sk-label:hover label.sk-toggleable__label {background-color: #d4ebff;}#sk-container-id-23 div.sk-serial::before {content: \"\";position: absolute;border-left: 1px solid gray;box-sizing: border-box;top: 0;bottom: 0;left: 50%;z-index: 0;}#sk-container-id-23 div.sk-serial {display: flex;flex-direction: column;align-items: center;background-color: white;padding-right: 0.2em;padding-left: 0.2em;position: relative;}#sk-container-id-23 div.sk-item {position: relative;z-index: 1;}#sk-container-id-23 div.sk-parallel {display: flex;align-items: stretch;justify-content: center;background-color: white;position: relative;}#sk-container-id-23 div.sk-item::before, #sk-container-id-23 div.sk-parallel-item::before {content: \"\";position: absolute;border-left: 1px solid gray;box-sizing: border-box;top: 0;bottom: 0;left: 50%;z-index: -1;}#sk-container-id-23 div.sk-parallel-item {display: flex;flex-direction: column;z-index: 1;position: relative;background-color: white;}#sk-container-id-23 div.sk-parallel-item:first-child::after {align-self: flex-end;width: 50%;}#sk-container-id-23 div.sk-parallel-item:last-child::after {align-self: flex-start;width: 50%;}#sk-container-id-23 div.sk-parallel-item:only-child::after {width: 0;}#sk-container-id-23 div.sk-dashed-wrapped {border: 1px dashed gray;margin: 0 0.4em 0.5em 0.4em;box-sizing: border-box;padding-bottom: 0.4em;background-color: white;}#sk-container-id-23 div.sk-label label {font-family: monospace;font-weight: bold;display: inline-block;line-height: 1.2em;}#sk-container-id-23 div.sk-label-container {text-align: center;}#sk-container-id-23 div.sk-container {/* jupyter's `normalize.less` sets `[hidden] { display: none; }` but bootstrap.min.css set `[hidden] { display: none !important; }` so we also need the `!important` here to be able to override the default hidden behavior on the sphinx rendered scikit-learn.org. See: https://github.com/scikit-learn/scikit-learn/issues/21755 */display: inline-block !important;position: relative;}#sk-container-id-23 div.sk-text-repr-fallback {display: none;}</style><div id=\"sk-container-id-23\" class=\"sk-top-container\"><div class=\"sk-text-repr-fallback\"><pre>Pipeline(steps=[(&#x27;col_transformer&#x27;,\n",
       "                 ColumnTransformer(remainder=&#x27;passthrough&#x27;,\n",
       "                                   transformers=[(&#x27;onehotencoder&#x27;,\n",
       "                                                  OneHotEncoder(drop=&#x27;if_binary&#x27;),\n",
       "                                                  [&#x27;manufacturer&#x27;, &#x27;fuel&#x27;,\n",
       "                                                   &#x27;title_status&#x27;,\n",
       "                                                   &#x27;transmission&#x27;, &#x27;state&#x27;,\n",
       "                                                   &#x27;condition&#x27;, &#x27;drive&#x27;, &#x27;type&#x27;,\n",
       "                                                   &#x27;cylinders&#x27;, &#x27;paint_color&#x27;,\n",
       "                                                   &#x27;size&#x27;])])),\n",
       "                (&#x27;normalize&#x27;,\n",
       "                 QuantileTransformer(output_distribution=&#x27;normal&#x27;)),\n",
       "                (&#x27;scaler&#x27;, StandardScaler(with_mean=False)),\n",
       "                (&#x27;selector&#x27;,\n",
       "                 SequentialFeatureSelector(estimator=Lasso(),\n",
       "                                           n_features_to_select=10)),\n",
       "                (&#x27;model&#x27;, LinearRegression())])</pre><b>In a Jupyter environment, please rerun this cell to show the HTML representation or trust the notebook. <br />On GitHub, the HTML representation is unable to render, please try loading this page with nbviewer.org.</b></div><div class=\"sk-container\" hidden><div class=\"sk-item sk-dashed-wrapped\"><div class=\"sk-label-container\"><div class=\"sk-label sk-toggleable\"><input class=\"sk-toggleable__control sk-hidden--visually\" id=\"sk-estimator-id-172\" type=\"checkbox\" ><label for=\"sk-estimator-id-172\" class=\"sk-toggleable__label sk-toggleable__label-arrow\">Pipeline</label><div class=\"sk-toggleable__content\"><pre>Pipeline(steps=[(&#x27;col_transformer&#x27;,\n",
       "                 ColumnTransformer(remainder=&#x27;passthrough&#x27;,\n",
       "                                   transformers=[(&#x27;onehotencoder&#x27;,\n",
       "                                                  OneHotEncoder(drop=&#x27;if_binary&#x27;),\n",
       "                                                  [&#x27;manufacturer&#x27;, &#x27;fuel&#x27;,\n",
       "                                                   &#x27;title_status&#x27;,\n",
       "                                                   &#x27;transmission&#x27;, &#x27;state&#x27;,\n",
       "                                                   &#x27;condition&#x27;, &#x27;drive&#x27;, &#x27;type&#x27;,\n",
       "                                                   &#x27;cylinders&#x27;, &#x27;paint_color&#x27;,\n",
       "                                                   &#x27;size&#x27;])])),\n",
       "                (&#x27;normalize&#x27;,\n",
       "                 QuantileTransformer(output_distribution=&#x27;normal&#x27;)),\n",
       "                (&#x27;scaler&#x27;, StandardScaler(with_mean=False)),\n",
       "                (&#x27;selector&#x27;,\n",
       "                 SequentialFeatureSelector(estimator=Lasso(),\n",
       "                                           n_features_to_select=10)),\n",
       "                (&#x27;model&#x27;, LinearRegression())])</pre></div></div></div><div class=\"sk-serial\"><div class=\"sk-item sk-dashed-wrapped\"><div class=\"sk-label-container\"><div class=\"sk-label sk-toggleable\"><input class=\"sk-toggleable__control sk-hidden--visually\" id=\"sk-estimator-id-173\" type=\"checkbox\" ><label for=\"sk-estimator-id-173\" class=\"sk-toggleable__label sk-toggleable__label-arrow\">col_transformer: ColumnTransformer</label><div class=\"sk-toggleable__content\"><pre>ColumnTransformer(remainder=&#x27;passthrough&#x27;,\n",
       "                  transformers=[(&#x27;onehotencoder&#x27;,\n",
       "                                 OneHotEncoder(drop=&#x27;if_binary&#x27;),\n",
       "                                 [&#x27;manufacturer&#x27;, &#x27;fuel&#x27;, &#x27;title_status&#x27;,\n",
       "                                  &#x27;transmission&#x27;, &#x27;state&#x27;, &#x27;condition&#x27;, &#x27;drive&#x27;,\n",
       "                                  &#x27;type&#x27;, &#x27;cylinders&#x27;, &#x27;paint_color&#x27;,\n",
       "                                  &#x27;size&#x27;])])</pre></div></div></div><div class=\"sk-parallel\"><div class=\"sk-parallel-item\"><div class=\"sk-item\"><div class=\"sk-label-container\"><div class=\"sk-label sk-toggleable\"><input class=\"sk-toggleable__control sk-hidden--visually\" id=\"sk-estimator-id-174\" type=\"checkbox\" ><label for=\"sk-estimator-id-174\" class=\"sk-toggleable__label sk-toggleable__label-arrow\">onehotencoder</label><div class=\"sk-toggleable__content\"><pre>[&#x27;manufacturer&#x27;, &#x27;fuel&#x27;, &#x27;title_status&#x27;, &#x27;transmission&#x27;, &#x27;state&#x27;, &#x27;condition&#x27;, &#x27;drive&#x27;, &#x27;type&#x27;, &#x27;cylinders&#x27;, &#x27;paint_color&#x27;, &#x27;size&#x27;]</pre></div></div></div><div class=\"sk-serial\"><div class=\"sk-item\"><div class=\"sk-estimator sk-toggleable\"><input class=\"sk-toggleable__control sk-hidden--visually\" id=\"sk-estimator-id-175\" type=\"checkbox\" ><label for=\"sk-estimator-id-175\" class=\"sk-toggleable__label sk-toggleable__label-arrow\">OneHotEncoder</label><div class=\"sk-toggleable__content\"><pre>OneHotEncoder(drop=&#x27;if_binary&#x27;)</pre></div></div></div></div></div></div><div class=\"sk-parallel-item\"><div class=\"sk-item\"><div class=\"sk-label-container\"><div class=\"sk-label sk-toggleable\"><input class=\"sk-toggleable__control sk-hidden--visually\" id=\"sk-estimator-id-176\" type=\"checkbox\" ><label for=\"sk-estimator-id-176\" class=\"sk-toggleable__label sk-toggleable__label-arrow\">remainder</label><div class=\"sk-toggleable__content\"><pre>[&#x27;year&#x27;, &#x27;odometer&#x27;]</pre></div></div></div><div class=\"sk-serial\"><div class=\"sk-item\"><div class=\"sk-estimator sk-toggleable\"><input class=\"sk-toggleable__control sk-hidden--visually\" id=\"sk-estimator-id-177\" type=\"checkbox\" ><label for=\"sk-estimator-id-177\" class=\"sk-toggleable__label sk-toggleable__label-arrow\">passthrough</label><div class=\"sk-toggleable__content\"><pre>passthrough</pre></div></div></div></div></div></div></div></div><div class=\"sk-item\"><div class=\"sk-estimator sk-toggleable\"><input class=\"sk-toggleable__control sk-hidden--visually\" id=\"sk-estimator-id-178\" type=\"checkbox\" ><label for=\"sk-estimator-id-178\" class=\"sk-toggleable__label sk-toggleable__label-arrow\">QuantileTransformer</label><div class=\"sk-toggleable__content\"><pre>QuantileTransformer(output_distribution=&#x27;normal&#x27;)</pre></div></div></div><div class=\"sk-item\"><div class=\"sk-estimator sk-toggleable\"><input class=\"sk-toggleable__control sk-hidden--visually\" id=\"sk-estimator-id-179\" type=\"checkbox\" ><label for=\"sk-estimator-id-179\" class=\"sk-toggleable__label sk-toggleable__label-arrow\">StandardScaler</label><div class=\"sk-toggleable__content\"><pre>StandardScaler(with_mean=False)</pre></div></div></div><div class=\"sk-item sk-dashed-wrapped\"><div class=\"sk-label-container\"><div class=\"sk-label sk-toggleable\"><input class=\"sk-toggleable__control sk-hidden--visually\" id=\"sk-estimator-id-180\" type=\"checkbox\" ><label for=\"sk-estimator-id-180\" class=\"sk-toggleable__label sk-toggleable__label-arrow\">selector: SequentialFeatureSelector</label><div class=\"sk-toggleable__content\"><pre>SequentialFeatureSelector(estimator=Lasso(), n_features_to_select=10)</pre></div></div></div><div class=\"sk-parallel\"><div class=\"sk-parallel-item\"><div class=\"sk-item\"><div class=\"sk-label-container\"><div class=\"sk-label sk-toggleable\"><input class=\"sk-toggleable__control sk-hidden--visually\" id=\"sk-estimator-id-181\" type=\"checkbox\" ><label for=\"sk-estimator-id-181\" class=\"sk-toggleable__label sk-toggleable__label-arrow\">estimator: Lasso</label><div class=\"sk-toggleable__content\"><pre>Lasso()</pre></div></div></div><div class=\"sk-serial\"><div class=\"sk-item\"><div class=\"sk-estimator sk-toggleable\"><input class=\"sk-toggleable__control sk-hidden--visually\" id=\"sk-estimator-id-182\" type=\"checkbox\" ><label for=\"sk-estimator-id-182\" class=\"sk-toggleable__label sk-toggleable__label-arrow\">Lasso</label><div class=\"sk-toggleable__content\"><pre>Lasso()</pre></div></div></div></div></div></div></div></div><div class=\"sk-item\"><div class=\"sk-estimator sk-toggleable\"><input class=\"sk-toggleable__control sk-hidden--visually\" id=\"sk-estimator-id-183\" type=\"checkbox\" ><label for=\"sk-estimator-id-183\" class=\"sk-toggleable__label sk-toggleable__label-arrow\">LinearRegression</label><div class=\"sk-toggleable__content\"><pre>LinearRegression()</pre></div></div></div></div></div></div></div>"
      ],
      "text/plain": [
       "Pipeline(steps=[('col_transformer',\n",
       "                 ColumnTransformer(remainder='passthrough',\n",
       "                                   transformers=[('onehotencoder',\n",
       "                                                  OneHotEncoder(drop='if_binary'),\n",
       "                                                  ['manufacturer', 'fuel',\n",
       "                                                   'title_status',\n",
       "                                                   'transmission', 'state',\n",
       "                                                   'condition', 'drive', 'type',\n",
       "                                                   'cylinders', 'paint_color',\n",
       "                                                   'size'])])),\n",
       "                ('normalize',\n",
       "                 QuantileTransformer(output_distribution='normal')),\n",
       "                ('scaler', StandardScaler(with_mean=False)),\n",
       "                ('selector',\n",
       "                 SequentialFeatureSelector(estimator=Lasso(),\n",
       "                                           n_features_to_select=10)),\n",
       "                ('model', LinearRegression())])"
      ]
     },
     "execution_count": 207,
     "metadata": {},
     "output_type": "execute_result"
    }
   ],
   "source": [
    "mygrid.best_estimator_"
   ]
  },
  {
   "cell_type": "code",
   "execution_count": 209,
   "metadata": {},
   "outputs": [
    {
     "data": {
      "text/plain": [
       "array([ 1062.96501827,  3719.17319905,  1012.11205014, -2805.66997012,\n",
       "       -1540.12302035,  1268.17684635, -1755.4962092 ,  1472.30497213,\n",
       "        6237.21330312, -3906.45797858])"
      ]
     },
     "execution_count": 209,
     "metadata": {},
     "output_type": "execute_result"
    }
   ],
   "source": [
    "mygrid.best_estimator_.named_steps['model'].coef_"
   ]
  },
  {
   "cell_type": "code",
   "execution_count": null,
   "metadata": {},
   "outputs": [],
   "source": []
  },
  {
   "cell_type": "code",
   "execution_count": null,
   "metadata": {},
   "outputs": [],
   "source": []
  },
  {
   "cell_type": "code",
   "execution_count": null,
   "metadata": {},
   "outputs": [],
   "source": []
  },
  {
   "cell_type": "markdown",
   "metadata": {},
   "source": [
    "### Deployment\n",
    "\n",
    "Now that we've settled on our models and findings, it is time to deliver the information to the client.  You should organize your work as a basic report that details your primary findings.  Keep in mind that your audience is a group of used car dealers interested in fine tuning their inventory."
   ]
  },
  {
   "cell_type": "markdown",
   "metadata": {},
   "source": [
    "## Running a GridSearchCV pipeline shown below with Lasso automatic features selection of 4 to 10 features reveals a similar result. Looking at the coefficients of the regression model reveals that having newer model year, lower odometer, and clean title are the best general features for any vehicle on the market. However, penalized 4 cylinders and front wheel drive (fwd) in these models suggests that we need a completely different approach of business understanding of the car dealership needs. According to CRISP-DM Process Model, we have to go back to the begining and rethink the process. Looking at the type column shows that SUVs, Sedans, and Pickups are the most dominant features. To create better ML models, it was decided to separate the data into these three categories, and run the piplelines on each segment separately. In their data cleaning process, it was decided to only truncate model years from the left side and keep all the recent years."
   ]
  },
  {
   "cell_type": "code",
   "execution_count": null,
   "metadata": {},
   "outputs": [],
   "source": []
  },
  {
   "cell_type": "code",
   "execution_count": null,
   "metadata": {},
   "outputs": [],
   "source": []
  },
  {
   "cell_type": "code",
   "execution_count": null,
   "metadata": {},
   "outputs": [],
   "source": []
  },
  {
   "cell_type": "code",
   "execution_count": null,
   "metadata": {},
   "outputs": [],
   "source": []
  }
 ],
 "metadata": {
  "kernelspec": {
   "display_name": "Python 3 (ipykernel)",
   "language": "python",
   "name": "python3"
  },
  "language_info": {
   "codemirror_mode": {
    "name": "ipython",
    "version": 3
   },
   "file_extension": ".py",
   "mimetype": "text/x-python",
   "name": "python",
   "nbconvert_exporter": "python",
   "pygments_lexer": "ipython3",
   "version": "3.11.5"
  },
  "widgets": {
   "application/vnd.jupyter.widget-state+json": {
    "state": {},
    "version_major": 2,
    "version_minor": 0
   }
  }
 },
 "nbformat": 4,
 "nbformat_minor": 4
}
